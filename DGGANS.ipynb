{
 "cells": [
  {
   "cell_type": "markdown",
   "id": "f4e90eb5",
   "metadata": {},
   "source": [
    "# IMPORT LIBRARIES"
   ]
  },
  {
   "cell_type": "code",
   "execution_count": 1,
   "id": "ac28223c",
   "metadata": {},
   "outputs": [],
   "source": [
    "import numpy \n",
    "import pandas \n",
    "import keras \n",
    "import tensorflow as tf \n",
    "import pandas as pd \n",
    "import numpy as np \n",
    "import seaborn as sns \n",
    "import matplotlib.pyplot as plt \n",
    "%matplotlib inline"
   ]
  },
  {
   "cell_type": "markdown",
   "id": "6e427a99",
   "metadata": {},
   "source": [
    "# LOAD DATASET & TRAIN TEST SPLIT DATASET"
   ]
  },
  {
   "cell_type": "code",
   "execution_count": 2,
   "id": "f43c0ce0",
   "metadata": {},
   "outputs": [],
   "source": [
    "from tensorflow.keras.datasets import mnist"
   ]
  },
  {
   "cell_type": "code",
   "execution_count": 3,
   "id": "a4ac99ae",
   "metadata": {},
   "outputs": [],
   "source": [
    "(X_train, y_train), (X_test, y_test) = mnist.load_data()"
   ]
  },
  {
   "cell_type": "markdown",
   "id": "8a243e77",
   "metadata": {},
   "source": [
    "# VISUALIZATION"
   ]
  },
  {
   "cell_type": "code",
   "execution_count": 4,
   "id": "c3455816",
   "metadata": {},
   "outputs": [
    {
     "data": {
      "text/plain": [
       "<matplotlib.image.AxesImage at 0x2565e274310>"
      ]
     },
     "execution_count": 4,
     "metadata": {},
     "output_type": "execute_result"
    },
    {
     "data": {
      "image/png": "[encoded data removed]",
      "text/plain": [
       "<Figure size 432x288 with 1 Axes>"
      ]
     },
     "metadata": {
      "needs_background": "light"
     },
     "output_type": "display_data"
    }
   ],
   "source": [
    "plt.imshow(X_train[0])"
   ]
  },
  {
   "cell_type": "code",
   "execution_count": 5,
   "id": "8fb7fd87",
   "metadata": {},
   "outputs": [
    {
     "data": {
      "text/plain": [
       "array([5, 0, 4, ..., 5, 6, 8], dtype=uint8)"
      ]
     },
     "execution_count": 5,
     "metadata": {},
     "output_type": "execute_result"
    }
   ],
   "source": [
    "y_train"
   ]
  },
  {
   "cell_type": "markdown",
   "id": "99ee5c45",
   "metadata": {},
   "source": [
    "### Reshape and Rescale Images for DCGAN"
   ]
  },
  {
   "cell_type": "markdown",
   "id": "7511f94f",
   "metadata": {},
   "source": [
    "Generator will use tanh activation function for the last layer, so we want to reshape X_train to be within -1 to 1 limits."
   ]
  },
  {
   "cell_type": "code",
   "execution_count": 6,
   "id": "48f84211",
   "metadata": {},
   "outputs": [],
   "source": [
    "X_train = X_train/225"
   ]
  },
  {
   "cell_type": "code",
   "execution_count": 7,
   "id": "83ffbb41",
   "metadata": {},
   "outputs": [],
   "source": [
    "X_train = X_train.reshape(-1, 28, 28, 1) * 2. - 1."
   ]
  },
  {
   "cell_type": "code",
   "execution_count": 8,
   "id": "5da304da",
   "metadata": {},
   "outputs": [
    {
     "data": {
      "text/plain": [
       "-1.0"
      ]
     },
     "execution_count": 8,
     "metadata": {},
     "output_type": "execute_result"
    }
   ],
   "source": [
    "X_train.min()"
   ]
  },
  {
   "cell_type": "code",
   "execution_count": 9,
   "id": "99fc4995",
   "metadata": {},
   "outputs": [
    {
     "data": {
      "text/plain": [
       "1.2666666666666666"
      ]
     },
     "execution_count": 9,
     "metadata": {},
     "output_type": "execute_result"
    }
   ],
   "source": [
    "X_train.max()"
   ]
  },
  {
   "cell_type": "markdown",
   "id": "c66f789a",
   "metadata": {},
   "source": [
    "### Filtering out the Data for Faster Training on Smaller Dataset"
   ]
  },
  {
   "cell_type": "code",
   "execution_count": 10,
   "id": "a7e79237",
   "metadata": {},
   "outputs": [],
   "source": [
    "only_zeros = X_train[y_train==0]"
   ]
  },
  {
   "cell_type": "code",
   "execution_count": 11,
   "id": "bf25018d",
   "metadata": {},
   "outputs": [
    {
     "data": {
      "text/plain": [
       "(5923, 28, 28, 1)"
      ]
     },
     "execution_count": 11,
     "metadata": {},
     "output_type": "execute_result"
    }
   ],
   "source": [
    "only_zeros.shape"
   ]
  },
  {
   "cell_type": "markdown",
   "id": "b45b369f",
   "metadata": {},
   "source": [
    "# BUILDING MODEL"
   ]
  },
  {
   "cell_type": "code",
   "execution_count": 12,
   "id": "290a7f24",
   "metadata": {},
   "outputs": [],
   "source": [
    "from tensorflow.keras.models import Sequential\n",
    "from tensorflow.keras.layers import Flatten, Dense, Reshape, Conv2D, Dropout, Conv2DTranspose, LeakyReLU, BatchNormalization"
   ]
  },
  {
   "cell_type": "code",
   "execution_count": 13,
   "id": "f5d0723c",
   "metadata": {},
   "outputs": [],
   "source": [
    "np.random.seed(42)\n",
    "tf.random.set_seed(42)\n",
    "\n",
    "codings_size = 100"
   ]
  },
  {
   "cell_type": "code",
   "execution_count": 14,
   "id": "731cae10",
   "metadata": {},
   "outputs": [],
   "source": [
    "generator = Sequential()\n",
    "generator.add(Dense(7 * 7 * 128, input_shape=[codings_size]))\n",
    "generator.add(Reshape([7, 7, 128]))\n",
    "generator.add(BatchNormalization())\n",
    "generator.add(Conv2DTranspose(64, kernel_size=5, strides=2, padding=\"same\",\n",
    "                                 activation=\"relu\"))\n",
    "generator.add(BatchNormalization())\n",
    "generator.add(Conv2DTranspose(1, kernel_size=5, strides=2, padding=\"same\",\n",
    "                                 activation=\"tanh\"))\n"
   ]
  },
  {
   "cell_type": "code",
   "execution_count": 15,
   "id": "44748bfe",
   "metadata": {},
   "outputs": [],
   "source": [
    "discriminator = Sequential()\n",
    "discriminator.add(Conv2D(64, kernel_size=5, strides=2, padding=\"same\",\n",
    "                        activation=LeakyReLU(0.3),\n",
    "                        input_shape=[28, 28, 1]))\n",
    "discriminator.add(Dropout(0.5))\n",
    "discriminator.add(Conv2D(128, kernel_size=5, strides=2, padding=\"same\",\n",
    "                        activation=LeakyReLU(0.3)))\n",
    "discriminator.add(Dropout(0.5))\n",
    "discriminator.add(Flatten())\n",
    "discriminator.add(Dense(1, activation=\"sigmoid\"))"
   ]
  },
  {
   "cell_type": "code",
   "execution_count": 16,
   "id": "48eee45f",
   "metadata": {},
   "outputs": [],
   "source": [
    "GAN = Sequential([generator, discriminator])"
   ]
  },
  {
   "cell_type": "code",
   "execution_count": 17,
   "id": "3c1b727a",
   "metadata": {},
   "outputs": [],
   "source": [
    "discriminator.compile(loss=\"binary_crossentropy\", optimizer=\"adam\")\n",
    "discriminator.trainable = False"
   ]
  },
  {
   "cell_type": "code",
   "execution_count": 18,
   "id": "2c48fbdb",
   "metadata": {},
   "outputs": [],
   "source": [
    "GAN.compile(loss=\"binary_crossentropy\", optimizer=\"adam\")"
   ]
  },
  {
   "cell_type": "code",
   "execution_count": 19,
   "id": "9a1f420b",
   "metadata": {},
   "outputs": [
    {
     "data": {
      "text/plain": [
       "[<keras.engine.sequential.Sequential at 0x2565e3496a0>,\n",
       " <keras.engine.sequential.Sequential at 0x256095dfa00>]"
      ]
     },
     "execution_count": 19,
     "metadata": {},
     "output_type": "execute_result"
    }
   ],
   "source": [
    "GAN.layers"
   ]
  },
  {
   "cell_type": "code",
   "execution_count": 20,
   "id": "48e2f153",
   "metadata": {},
   "outputs": [
    {
     "name": "stdout",
     "output_type": "stream",
     "text": [
      "Model: \"sequential_2\"\n",
      "_________________________________________________________________\n",
      " Layer (type)                Output Shape              Param #   \n",
      "=================================================================\n",
      " sequential (Sequential)     (None, 28, 28, 1)         840705    \n",
      "                                                                 \n",
      " sequential_1 (Sequential)   (None, 1)                 212865    \n",
      "                                                                 \n",
      "=================================================================\n",
      "Total params: 1,053,570\n",
      "Trainable params: 840,321\n",
      "Non-trainable params: 213,249\n",
      "_________________________________________________________________\n"
     ]
    }
   ],
   "source": [
    "GAN.summary()"
   ]
  },
  {
   "cell_type": "code",
   "execution_count": 21,
   "id": "8d49c000",
   "metadata": {},
   "outputs": [
    {
     "name": "stdout",
     "output_type": "stream",
     "text": [
      "Model: \"sequential\"\n",
      "_________________________________________________________________\n",
      " Layer (type)                Output Shape              Param #   \n",
      "=================================================================\n",
      " dense (Dense)               (None, 6272)              633472    \n",
      "                                                                 \n",
      " reshape (Reshape)           (None, 7, 7, 128)         0         \n",
      "                                                                 \n",
      " batch_normalization (BatchN  (None, 7, 7, 128)        512       \n",
      " ormalization)                                                   \n",
      "                                                                 \n",
      " conv2d_transpose (Conv2DTra  (None, 14, 14, 64)       204864    \n",
      " nspose)                                                         \n",
      "                                                                 \n",
      " batch_normalization_1 (Batc  (None, 14, 14, 64)       256       \n",
      " hNormalization)                                                 \n",
      "                                                                 \n",
      " conv2d_transpose_1 (Conv2DT  (None, 28, 28, 1)        1601      \n",
      " ranspose)                                                       \n",
      "                                                                 \n",
      "=================================================================\n",
      "Total params: 840,705\n",
      "Trainable params: 840,321\n",
      "Non-trainable params: 384\n",
      "_________________________________________________________________\n"
     ]
    }
   ],
   "source": [
    "GAN.layers[0].summary()"
   ]
  },
  {
   "cell_type": "code",
   "execution_count": 22,
   "id": "0d1e5b3c",
   "metadata": {},
   "outputs": [
    {
     "name": "stdout",
     "output_type": "stream",
     "text": [
      "Model: \"sequential_1\"\n",
      "_________________________________________________________________\n",
      " Layer (type)                Output Shape              Param #   \n",
      "=================================================================\n",
      " conv2d (Conv2D)             (None, 14, 14, 64)        1664      \n",
      "                                                                 \n",
      " dropout (Dropout)           (None, 14, 14, 64)        0         \n",
      "                                                                 \n",
      " conv2d_1 (Conv2D)           (None, 7, 7, 128)         204928    \n",
      "                                                                 \n",
      " dropout_1 (Dropout)         (None, 7, 7, 128)         0         \n",
      "                                                                 \n",
      " flatten (Flatten)           (None, 6272)              0         \n",
      "                                                                 \n",
      " dense_1 (Dense)             (None, 1)                 6273      \n",
      "                                                                 \n",
      "=================================================================\n",
      "Total params: 212,865\n",
      "Trainable params: 0\n",
      "Non-trainable params: 212,865\n",
      "_________________________________________________________________\n"
     ]
    }
   ],
   "source": [
    "GAN.layers[1].summary()"
   ]
  },
  {
   "cell_type": "markdown",
   "id": "f570349c",
   "metadata": {},
   "source": [
    "### Setting up Training Batches"
   ]
  },
  {
   "cell_type": "code",
   "execution_count": 23,
   "id": "955364a0",
   "metadata": {},
   "outputs": [],
   "source": [
    "batch_size = 32"
   ]
  },
  {
   "cell_type": "code",
   "execution_count": 24,
   "id": "d415e3cb",
   "metadata": {},
   "outputs": [],
   "source": [
    "# my_data = X_train\n",
    "my_data = only_zeros"
   ]
  },
  {
   "cell_type": "code",
   "execution_count": 25,
   "id": "35519398",
   "metadata": {},
   "outputs": [],
   "source": [
    "dataset = tf.data.Dataset.from_tensor_slices(my_data).shuffle(buffer_size=1000)"
   ]
  },
  {
   "cell_type": "code",
   "execution_count": 26,
   "id": "fd5c9ae6",
   "metadata": {},
   "outputs": [
    {
     "data": {
      "text/plain": [
       "tensorflow.python.data.ops.dataset_ops.ShuffleDataset"
      ]
     },
     "execution_count": 26,
     "metadata": {},
     "output_type": "execute_result"
    }
   ],
   "source": [
    "type(dataset)"
   ]
  },
  {
   "cell_type": "code",
   "execution_count": 27,
   "id": "df54e4af",
   "metadata": {},
   "outputs": [],
   "source": [
    "dataset = dataset.batch(batch_size, drop_remainder=True).prefetch(1)"
   ]
  },
  {
   "cell_type": "code",
   "execution_count": 28,
   "id": "7e79c580",
   "metadata": {},
   "outputs": [],
   "source": [
    "epochs = 20"
   ]
  },
  {
   "cell_type": "markdown",
   "id": "d91fae7b",
   "metadata": {},
   "source": [
    "### Training Loop"
   ]
  },
  {
   "cell_type": "code",
   "execution_count": 29,
   "id": "257765d9",
   "metadata": {},
   "outputs": [
    {
     "name": "stdout",
     "output_type": "stream",
     "text": [
      "Currently on Epoch 1\n",
      "\tCurrently on batch number 20 of 185\n",
      "\tCurrently on batch number 40 of 185\n",
      "\tCurrently on batch number 60 of 185\n",
      "\tCurrently on batch number 80 of 185\n",
      "\tCurrently on batch number 100 of 185\n",
      "\tCurrently on batch number 120 of 185\n",
      "\tCurrently on batch number 140 of 185\n",
      "\tCurrently on batch number 160 of 185\n",
      "\tCurrently on batch number 180 of 185\n",
      "Currently on Epoch 2\n",
      "\tCurrently on batch number 20 of 185\n",
      "\tCurrently on batch number 40 of 185\n",
      "\tCurrently on batch number 60 of 185\n",
      "\tCurrently on batch number 80 of 185\n",
      "\tCurrently on batch number 100 of 185\n",
      "\tCurrently on batch number 120 of 185\n",
      "\tCurrently on batch number 140 of 185\n",
      "\tCurrently on batch number 160 of 185\n",
      "\tCurrently on batch number 180 of 185\n",
      "Currently on Epoch 3\n",
      "\tCurrently on batch number 20 of 185\n",
      "\tCurrently on batch number 40 of 185\n",
      "\tCurrently on batch number 60 of 185\n",
      "\tCurrently on batch number 80 of 185\n",
      "\tCurrently on batch number 100 of 185\n",
      "\tCurrently on batch number 120 of 185\n",
      "\tCurrently on batch number 140 of 185\n",
      "\tCurrently on batch number 160 of 185\n",
      "\tCurrently on batch number 180 of 185\n",
      "Currently on Epoch 4\n",
      "\tCurrently on batch number 20 of 185\n",
      "\tCurrently on batch number 40 of 185\n",
      "\tCurrently on batch number 60 of 185\n",
      "\tCurrently on batch number 80 of 185\n",
      "\tCurrently on batch number 100 of 185\n",
      "\tCurrently on batch number 120 of 185\n",
      "\tCurrently on batch number 140 of 185\n",
      "\tCurrently on batch number 160 of 185\n",
      "\tCurrently on batch number 180 of 185\n",
      "Currently on Epoch 5\n",
      "\tCurrently on batch number 20 of 185\n",
      "\tCurrently on batch number 40 of 185\n",
      "\tCurrently on batch number 60 of 185\n",
      "\tCurrently on batch number 80 of 185\n",
      "\tCurrently on batch number 100 of 185\n",
      "\tCurrently on batch number 120 of 185\n",
      "\tCurrently on batch number 140 of 185\n",
      "\tCurrently on batch number 160 of 185\n",
      "\tCurrently on batch number 180 of 185\n",
      "Currently on Epoch 6\n",
      "\tCurrently on batch number 20 of 185\n",
      "\tCurrently on batch number 40 of 185\n",
      "\tCurrently on batch number 60 of 185\n",
      "\tCurrently on batch number 80 of 185\n",
      "\tCurrently on batch number 100 of 185\n",
      "\tCurrently on batch number 120 of 185\n",
      "\tCurrently on batch number 140 of 185\n",
      "\tCurrently on batch number 160 of 185\n",
      "\tCurrently on batch number 180 of 185\n",
      "Currently on Epoch 7\n",
      "\tCurrently on batch number 20 of 185\n",
      "\tCurrently on batch number 40 of 185\n",
      "\tCurrently on batch number 60 of 185\n",
      "\tCurrently on batch number 80 of 185\n",
      "\tCurrently on batch number 100 of 185\n",
      "\tCurrently on batch number 120 of 185\n",
      "\tCurrently on batch number 140 of 185\n",
      "\tCurrently on batch number 160 of 185\n",
      "\tCurrently on batch number 180 of 185\n",
      "Currently on Epoch 8\n",
      "\tCurrently on batch number 20 of 185\n",
      "\tCurrently on batch number 40 of 185\n",
      "\tCurrently on batch number 60 of 185\n",
      "\tCurrently on batch number 80 of 185\n",
      "\tCurrently on batch number 100 of 185\n",
      "\tCurrently on batch number 120 of 185\n",
      "\tCurrently on batch number 140 of 185\n",
      "\tCurrently on batch number 160 of 185\n",
      "\tCurrently on batch number 180 of 185\n",
      "Currently on Epoch 9\n",
      "\tCurrently on batch number 20 of 185\n",
      "\tCurrently on batch number 40 of 185\n",
      "\tCurrently on batch number 60 of 185\n",
      "\tCurrently on batch number 80 of 185\n",
      "\tCurrently on batch number 100 of 185\n",
      "\tCurrently on batch number 120 of 185\n",
      "\tCurrently on batch number 140 of 185\n",
      "\tCurrently on batch number 160 of 185\n",
      "\tCurrently on batch number 180 of 185\n",
      "Currently on Epoch 10\n",
      "\tCurrently on batch number 20 of 185\n",
      "\tCurrently on batch number 40 of 185\n",
      "\tCurrently on batch number 60 of 185\n",
      "\tCurrently on batch number 80 of 185\n",
      "\tCurrently on batch number 100 of 185\n",
      "\tCurrently on batch number 120 of 185\n",
      "\tCurrently on batch number 140 of 185\n",
      "\tCurrently on batch number 160 of 185\n",
      "\tCurrently on batch number 180 of 185\n",
      "Currently on Epoch 11\n",
      "\tCurrently on batch number 20 of 185\n",
      "\tCurrently on batch number 40 of 185\n",
      "\tCurrently on batch number 60 of 185\n",
      "\tCurrently on batch number 80 of 185\n",
      "\tCurrently on batch number 100 of 185\n",
      "\tCurrently on batch number 120 of 185\n",
      "\tCurrently on batch number 140 of 185\n",
      "\tCurrently on batch number 160 of 185\n",
      "\tCurrently on batch number 180 of 185\n",
      "Currently on Epoch 12\n",
      "\tCurrently on batch number 20 of 185\n",
      "\tCurrently on batch number 40 of 185\n",
      "\tCurrently on batch number 60 of 185\n",
      "\tCurrently on batch number 80 of 185\n",
      "\tCurrently on batch number 100 of 185\n",
      "\tCurrently on batch number 120 of 185\n",
      "\tCurrently on batch number 140 of 185\n",
      "\tCurrently on batch number 160 of 185\n",
      "\tCurrently on batch number 180 of 185\n",
      "Currently on Epoch 13\n",
      "\tCurrently on batch number 20 of 185\n",
      "\tCurrently on batch number 40 of 185\n",
      "\tCurrently on batch number 60 of 185\n",
      "\tCurrently on batch number 80 of 185\n",
      "\tCurrently on batch number 100 of 185\n",
      "\tCurrently on batch number 120 of 185\n",
      "\tCurrently on batch number 140 of 185\n",
      "\tCurrently on batch number 160 of 185\n",
      "\tCurrently on batch number 180 of 185\n",
      "Currently on Epoch 14\n",
      "\tCurrently on batch number 20 of 185\n",
      "\tCurrently on batch number 40 of 185\n",
      "\tCurrently on batch number 60 of 185\n",
      "\tCurrently on batch number 80 of 185\n",
      "\tCurrently on batch number 100 of 185\n",
      "\tCurrently on batch number 120 of 185\n",
      "\tCurrently on batch number 140 of 185\n",
      "\tCurrently on batch number 160 of 185\n",
      "\tCurrently on batch number 180 of 185\n",
      "Currently on Epoch 15\n",
      "\tCurrently on batch number 20 of 185\n",
      "\tCurrently on batch number 40 of 185\n",
      "\tCurrently on batch number 60 of 185\n",
      "\tCurrently on batch number 80 of 185\n",
      "\tCurrently on batch number 100 of 185\n",
      "\tCurrently on batch number 120 of 185\n",
      "\tCurrently on batch number 140 of 185\n",
      "\tCurrently on batch number 160 of 185\n",
      "\tCurrently on batch number 180 of 185\n",
      "Currently on Epoch 16\n",
      "\tCurrently on batch number 20 of 185\n",
      "\tCurrently on batch number 40 of 185\n",
      "\tCurrently on batch number 60 of 185\n",
      "\tCurrently on batch number 80 of 185\n",
      "\tCurrently on batch number 100 of 185\n",
      "\tCurrently on batch number 120 of 185\n",
      "\tCurrently on batch number 140 of 185\n",
      "\tCurrently on batch number 160 of 185\n",
      "\tCurrently on batch number 180 of 185\n",
      "Currently on Epoch 17\n",
      "\tCurrently on batch number 20 of 185\n",
      "\tCurrently on batch number 40 of 185\n",
      "\tCurrently on batch number 60 of 185\n",
      "\tCurrently on batch number 80 of 185\n",
      "\tCurrently on batch number 100 of 185\n",
      "\tCurrently on batch number 120 of 185\n",
      "\tCurrently on batch number 140 of 185\n",
      "\tCurrently on batch number 160 of 185\n",
      "\tCurrently on batch number 180 of 185\n",
      "Currently on Epoch 18\n",
      "\tCurrently on batch number 20 of 185\n",
      "\tCurrently on batch number 40 of 185\n",
      "\tCurrently on batch number 60 of 185\n",
      "\tCurrently on batch number 80 of 185\n",
      "\tCurrently on batch number 100 of 185\n",
      "\tCurrently on batch number 120 of 185\n",
      "\tCurrently on batch number 140 of 185\n",
      "\tCurrently on batch number 160 of 185\n",
      "\tCurrently on batch number 180 of 185\n",
      "Currently on Epoch 19\n",
      "\tCurrently on batch number 20 of 185\n",
      "\tCurrently on batch number 40 of 185\n",
      "\tCurrently on batch number 60 of 185\n",
      "\tCurrently on batch number 80 of 185\n",
      "\tCurrently on batch number 100 of 185\n",
      "\tCurrently on batch number 120 of 185\n",
      "\tCurrently on batch number 140 of 185\n",
      "\tCurrently on batch number 160 of 185\n",
      "\tCurrently on batch number 180 of 185\n",
      "Currently on Epoch 20\n",
      "\tCurrently on batch number 20 of 185\n",
      "\tCurrently on batch number 40 of 185\n",
      "\tCurrently on batch number 60 of 185\n",
      "\tCurrently on batch number 80 of 185\n",
      "\tCurrently on batch number 100 of 185\n",
      "\tCurrently on batch number 120 of 185\n",
      "\tCurrently on batch number 140 of 185\n",
      "\tCurrently on batch number 160 of 185\n",
      "\tCurrently on batch number 180 of 185\n",
      "TRAINING COMPLETE\n"
     ]
    }
   ],
   "source": [
    " # Grab the seprate components\n",
    "generator, discriminator = GAN.layers\n",
    "\n",
    "# For every epcoh\n",
    "for epoch in range(epochs):\n",
    "    print(f\"Currently on Epoch {epoch+1}\")\n",
    "    i = 0\n",
    "    # For every batch in the dataset\n",
    "    for X_batch in dataset:\n",
    "        i=i+1\n",
    "        if i%20 == 0:\n",
    "            print(f\"\\tCurrently on batch number {i} of {len(my_data)//batch_size}\")\n",
    "        #####################################\n",
    "        ## TRAINING THE DISCRIMINATOR ######\n",
    "        ###################################\n",
    "        \n",
    "        # Create Noise\n",
    "        noise = tf.random.normal(shape=[batch_size, codings_size])\n",
    "        \n",
    "        # Generate numbers based just on noise input\n",
    "        gen_images = generator(noise)\n",
    "        \n",
    "        # Concatenate Generated Images against the Real Ones\n",
    "        # TO use tf.concat, the data types must match!\n",
    "        X_fake_vs_real = tf.concat([gen_images, tf.dtypes.cast(X_batch,tf.float32)], axis=0)\n",
    "        \n",
    "        # Targets set to zero for fake images and 1 for real images\n",
    "        y1 = tf.constant([[0.]] * batch_size + [[1.]] * batch_size)\n",
    "        \n",
    "        # This gets rid of a Keras warning\n",
    "        discriminator.trainable = True\n",
    "        \n",
    "        # Train the discriminator on this batch\n",
    "        discriminator.train_on_batch(X_fake_vs_real, y1)\n",
    "        \n",
    "        \n",
    "        #####################################\n",
    "        ## TRAINING THE GENERATOR     ######\n",
    "        ###################################\n",
    "        \n",
    "        # Create some noise\n",
    "        noise = tf.random.normal(shape=[batch_size, codings_size])\n",
    "        \n",
    "        # We want discriminator to belive that fake images are real\n",
    "        y2 = tf.constant([[1.]] * batch_size)\n",
    "        \n",
    "        # Avois a warning\n",
    "        discriminator.trainable = False\n",
    "        \n",
    "        GAN.train_on_batch(noise, y2)\n",
    "        \n",
    "print(\"TRAINING COMPLETE\")            "
   ]
  },
  {
   "cell_type": "code",
   "execution_count": 30,
   "id": "7fd617f9",
   "metadata": {},
   "outputs": [],
   "source": [
    "# Most likely your generator will only learn to create one type of noisey zero\n",
    "# Regardless of what noise is passed in."
   ]
  },
  {
   "cell_type": "code",
   "execution_count": 31,
   "id": "11019b07",
   "metadata": {},
   "outputs": [],
   "source": [
    "noise = tf.random.normal(shape=[10, codings_size])"
   ]
  },
  {
   "cell_type": "code",
   "execution_count": 32,
   "id": "1571b5af",
   "metadata": {},
   "outputs": [
    {
     "data": {
      "text/plain": [
       "TensorShape([10, 100])"
      ]
     },
     "execution_count": 32,
     "metadata": {},
     "output_type": "execute_result"
    }
   ],
   "source": [
    "noise.shape"
   ]
  },
  {
   "cell_type": "markdown",
   "id": "aa522a37",
   "metadata": {},
   "source": [
    "# VISUALIZATION"
   ]
  },
  {
   "cell_type": "code",
   "execution_count": 33,
   "id": "a02b3e19",
   "metadata": {},
   "outputs": [
    {
     "data": {
      "text/plain": [
       "<matplotlib.image.AxesImage at 0x2560d2316d0>"
      ]
     },
     "execution_count": 33,
     "metadata": {},
     "output_type": "execute_result"
    },
    {
     "data": {
      "image/png": "[encoded data removed]",
      "text/plain": [
       "<Figure size 432x288 with 1 Axes>"
      ]
     },
     "metadata": {
      "needs_background": "light"
     },
     "output_type": "display_data"
    }
   ],
   "source": [
    "plt.imshow(noise)"
   ]
  },
  {
   "cell_type": "code",
   "execution_count": 34,
   "id": "d889c935",
   "metadata": {},
   "outputs": [],
   "source": [
    "images = generator(noise)"
   ]
  },
  {
   "cell_type": "code",
   "execution_count": 35,
   "id": "59161bc6",
   "metadata": {},
   "outputs": [],
   "source": [
    "single_image = images[0]"
   ]
  },
  {
   "cell_type": "code",
   "execution_count": 36,
   "id": "524ae8b6",
   "metadata": {},
   "outputs": [],
   "source": [
    "# single_image.numpy().reshape(28,28)"
   ]
  },
  {
   "cell_type": "code",
   "execution_count": 37,
   "id": "8ada9429",
   "metadata": {},
   "outputs": [
    {
     "data": {
      "image/png": "[encoded data removed]",
      "text/plain": [
       "<Figure size 432x288 with 1 Axes>"
      ]
     },
     "metadata": {
      "needs_background": "light"
     },
     "output_type": "display_data"
    },
    {
     "data": {
      "image/png": "[encoded data removed]",
      "text/plain": [
       "<Figure size 432x288 with 1 Axes>"
      ]
     },
     "metadata": {
      "needs_background": "light"
     },
     "output_type": "display_data"
    },
    {
     "data": {
      "image/png": "[encoded data removed]",
      "text/plain": [
       "<Figure size 432x288 with 1 Axes>"
      ]
     },
     "metadata": {
      "needs_background": "light"
     },
     "output_type": "display_data"
    },
    {
     "data": {
      "image/png": "[encoded data removed]",
      "text/plain": [
       "<Figure size 432x288 with 1 Axes>"
      ]
     },
     "metadata": {
      "needs_background": "light"
     },
     "output_type": "display_data"
    },
    {
     "data": {
      "image/png": "[encoded data removed]",
      "text/plain": [
       "<Figure size 432x288 with 1 Axes>"
      ]
     },
     "metadata": {
      "needs_background": "light"
     },
     "output_type": "display_data"
    },
    {
     "data": {
      "image/png": "[encoded data removed]",
      "text/plain": [
       "<Figure size 432x288 with 1 Axes>"
      ]
     },
     "metadata": {
      "needs_background": "light"
     },
     "output_type": "display_data"
    },
    {
     "data": {
      "image/png": "[encoded data removed]",
      "text/plain": [
       "<Figure size 432x288 with 1 Axes>"
      ]
     },
     "metadata": {
      "needs_background": "light"
     },
     "output_type": "display_data"
    },
    {
     "data": {
      "image/png": "[encoded data removed]",
      "text/plain": [
       "<Figure size 432x288 with 1 Axes>"
      ]
     },
     "metadata": {
      "needs_background": "light"
     },
     "output_type": "display_data"
    },
    {
     "data": {
      "image/png": "[encoded data removed]",
      "text/plain": [
       "<Figure size 432x288 with 1 Axes>"
      ]
     },
     "metadata": {
      "needs_background": "light"
     },
     "output_type": "display_data"
    },
    {
     "data": {
      "image/png": "[encoded data removed]",
      "text/plain": [
       "<Figure size 432x288 with 1 Axes>"
      ]
     },
     "metadata": {
      "needs_background": "light"
     },
     "output_type": "display_data"
    }
   ],
   "source": [
    "for image in images:\n",
    "    plt.imshow(single_image.numpy().reshape(28,28))\n",
    "    plt.show()"
   ]
  },
  {
   "cell_type": "markdown",
   "id": "7504bcdd",
   "metadata": {},
   "source": [
    "# Great Job!"
   ]
  },
  {
   "cell_type": "code",
   "execution_count": null,
   "id": "46331dbc",
   "metadata": {},
   "outputs": [],
   "source": []
  }
 ],
 "metadata": {
  "kernelspec": {
   "display_name": "Python 3 (ipykernel)",
   "language": "python",
   "name": "python3"
  },
  "language_info": {
   "codemirror_mode": {
    "name": "ipython",
    "version": 3
   },
   "file_extension": ".py",
   "mimetype": "text/x-python",
   "name": "python",
   "nbconvert_exporter": "python",
   "pygments_lexer": "ipython3",
   "version": "3.9.7"
  }
 },
 "nbformat": 4,
 "nbformat_minor": 5
}
