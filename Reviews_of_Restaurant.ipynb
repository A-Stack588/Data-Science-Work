{
 "cells": [
  {
   "cell_type": "markdown",
   "id": "d035905d",
   "metadata": {},
   "source": [
    "# Business Case Studies of Restaurant's Reviews"
   ]
  },
  {
   "cell_type": "markdown",
   "id": "a140b76b",
   "metadata": {},
   "source": [
    "#### In this dataset we will take look on restaruant reviews and we will see how customers gave reviews. Bascially it is classification problem."
   ]
  },
  {
   "cell_type": "markdown",
   "id": "deef3f36",
   "metadata": {},
   "source": [
    "# Import Libraries"
   ]
  },
  {
   "cell_type": "code",
   "execution_count": 1,
   "id": "311d8edc",
   "metadata": {},
   "outputs": [],
   "source": [
    "import pandas\n",
    "import numpy\n",
    "import keras\n",
    "import tensorflow as tf\n",
    "import numpy as np \n",
    "import pandas as pd \n",
    "import seaborn as sns\n",
    "import matplotlib.pyplot as plt\n",
    "from tensorflow.keras.preprocessing.text import Tokenizer\n",
    "from tensorflow.keras.preprocessing.sequence import pad_sequences\n",
    "import warnings\n",
    "warnings.filterwarnings('ignore')\n",
    "%matplotlib inline"
   ]
  },
  {
   "cell_type": "markdown",
   "id": "c582702a",
   "metadata": {},
   "source": [
    "# Load Dataset"
   ]
  },
  {
   "cell_type": "code",
   "execution_count": 2,
   "id": "cfb72de8",
   "metadata": {},
   "outputs": [],
   "source": [
    "df = pd.read_csv('Restaurant_Reviews.tsv', delimiter='\\t', quoting=3)"
   ]
  },
  {
   "cell_type": "code",
   "execution_count": 3,
   "id": "515216f7",
   "metadata": {},
   "outputs": [
    {
     "data": {
      "text/html": [
       "<div>\n",
       "<style scoped>\n",
       "    .dataframe tbody tr th:only-of-type {\n",
       "        vertical-align: middle;\n",
       "    }\n",
       "\n",
       "    .dataframe tbody tr th {\n",
       "        vertical-align: top;\n",
       "    }\n",
       "\n",
       "    .dataframe thead th {\n",
       "        text-align: right;\n",
       "    }\n",
       "</style>\n",
       "<table border=\"1\" class=\"dataframe\">\n",
       "  <thead>\n",
       "    <tr style=\"text-align: right;\">\n",
       "      <th></th>\n",
       "      <th>Review</th>\n",
       "      <th>Liked</th>\n",
       "    </tr>\n",
       "  </thead>\n",
       "  <tbody>\n",
       "    <tr>\n",
       "      <th>0</th>\n",
       "      <td>Wow... Loved this place.</td>\n",
       "      <td>1</td>\n",
       "    </tr>\n",
       "    <tr>\n",
       "      <th>1</th>\n",
       "      <td>Crust is not good.</td>\n",
       "      <td>0</td>\n",
       "    </tr>\n",
       "    <tr>\n",
       "      <th>2</th>\n",
       "      <td>Not tasty and the texture was just nasty.</td>\n",
       "      <td>0</td>\n",
       "    </tr>\n",
       "    <tr>\n",
       "      <th>3</th>\n",
       "      <td>Stopped by during the late May bank holiday of...</td>\n",
       "      <td>1</td>\n",
       "    </tr>\n",
       "    <tr>\n",
       "      <th>4</th>\n",
       "      <td>The selection on the menu was great and so wer...</td>\n",
       "      <td>1</td>\n",
       "    </tr>\n",
       "  </tbody>\n",
       "</table>\n",
       "</div>"
      ],
      "text/plain": [
       "                                              Review  Liked\n",
       "0                           Wow... Loved this place.      1\n",
       "1                                 Crust is not good.      0\n",
       "2          Not tasty and the texture was just nasty.      0\n",
       "3  Stopped by during the late May bank holiday of...      1\n",
       "4  The selection on the menu was great and so wer...      1"
      ]
     },
     "execution_count": 3,
     "metadata": {},
     "output_type": "execute_result"
    }
   ],
   "source": [
    "df.head()"
   ]
  },
  {
   "cell_type": "code",
   "execution_count": 4,
   "id": "386da28a",
   "metadata": {},
   "outputs": [
    {
     "data": {
      "text/html": [
       "<div>\n",
       "<style scoped>\n",
       "    .dataframe tbody tr th:only-of-type {\n",
       "        vertical-align: middle;\n",
       "    }\n",
       "\n",
       "    .dataframe tbody tr th {\n",
       "        vertical-align: top;\n",
       "    }\n",
       "\n",
       "    .dataframe thead th {\n",
       "        text-align: right;\n",
       "    }\n",
       "</style>\n",
       "<table border=\"1\" class=\"dataframe\">\n",
       "  <thead>\n",
       "    <tr style=\"text-align: right;\">\n",
       "      <th></th>\n",
       "      <th>Review</th>\n",
       "      <th>Liked</th>\n",
       "    </tr>\n",
       "  </thead>\n",
       "  <tbody>\n",
       "    <tr>\n",
       "      <th>995</th>\n",
       "      <td>I think food should have flavor and texture an...</td>\n",
       "      <td>0</td>\n",
       "    </tr>\n",
       "    <tr>\n",
       "      <th>996</th>\n",
       "      <td>Appetite instantly gone.</td>\n",
       "      <td>0</td>\n",
       "    </tr>\n",
       "    <tr>\n",
       "      <th>997</th>\n",
       "      <td>Overall I was not impressed and would not go b...</td>\n",
       "      <td>0</td>\n",
       "    </tr>\n",
       "    <tr>\n",
       "      <th>998</th>\n",
       "      <td>The whole experience was underwhelming, and I ...</td>\n",
       "      <td>0</td>\n",
       "    </tr>\n",
       "    <tr>\n",
       "      <th>999</th>\n",
       "      <td>Then, as if I hadn't wasted enough of my life ...</td>\n",
       "      <td>0</td>\n",
       "    </tr>\n",
       "  </tbody>\n",
       "</table>\n",
       "</div>"
      ],
      "text/plain": [
       "                                                Review  Liked\n",
       "995  I think food should have flavor and texture an...      0\n",
       "996                           Appetite instantly gone.      0\n",
       "997  Overall I was not impressed and would not go b...      0\n",
       "998  The whole experience was underwhelming, and I ...      0\n",
       "999  Then, as if I hadn't wasted enough of my life ...      0"
      ]
     },
     "execution_count": 4,
     "metadata": {},
     "output_type": "execute_result"
    }
   ],
   "source": [
    "df.tail()"
   ]
  },
  {
   "cell_type": "code",
   "execution_count": 5,
   "id": "25c7c4a7",
   "metadata": {},
   "outputs": [
    {
     "data": {
      "text/plain": [
       "(1000, 2)"
      ]
     },
     "execution_count": 5,
     "metadata": {},
     "output_type": "execute_result"
    }
   ],
   "source": [
    "df.shape"
   ]
  },
  {
   "cell_type": "code",
   "execution_count": 6,
   "id": "c2aa4466",
   "metadata": {},
   "outputs": [
    {
     "data": {
      "text/plain": [
       "Review    0\n",
       "Liked     0\n",
       "dtype: int64"
      ]
     },
     "execution_count": 6,
     "metadata": {},
     "output_type": "execute_result"
    }
   ],
   "source": [
    "df.isnull().sum()"
   ]
  },
  {
   "cell_type": "code",
   "execution_count": 7,
   "id": "2c973802",
   "metadata": {},
   "outputs": [
    {
     "data": {
      "text/plain": [
       "0      False\n",
       "1      False\n",
       "2      False\n",
       "3      False\n",
       "4      False\n",
       "       ...  \n",
       "995    False\n",
       "996    False\n",
       "997    False\n",
       "998    False\n",
       "999    False\n",
       "Length: 1000, dtype: bool"
      ]
     },
     "execution_count": 7,
     "metadata": {},
     "output_type": "execute_result"
    }
   ],
   "source": [
    "df.duplicated()"
   ]
  },
  {
   "cell_type": "code",
   "execution_count": 8,
   "id": "497d1be6",
   "metadata": {},
   "outputs": [
    {
     "name": "stdout",
     "output_type": "stream",
     "text": [
      "<class 'pandas.core.frame.DataFrame'>\n",
      "RangeIndex: 1000 entries, 0 to 999\n",
      "Data columns (total 2 columns):\n",
      " #   Column  Non-Null Count  Dtype \n",
      "---  ------  --------------  ----- \n",
      " 0   Review  1000 non-null   object\n",
      " 1   Liked   1000 non-null   int64 \n",
      "dtypes: int64(1), object(1)\n",
      "memory usage: 15.8+ KB\n"
     ]
    }
   ],
   "source": [
    "df.info()"
   ]
  },
  {
   "cell_type": "markdown",
   "id": "acc3e982",
   "metadata": {},
   "source": [
    "# EDA(Exploratory Data Analysis)"
   ]
  },
  {
   "cell_type": "markdown",
   "id": "a4902b47",
   "metadata": {},
   "source": [
    "## Data Visualization"
   ]
  },
  {
   "cell_type": "code",
   "execution_count": 9,
   "id": "0dff2e7d",
   "metadata": {},
   "outputs": [
    {
     "data": {
      "text/plain": [
       "<seaborn.axisgrid.PairGrid at 0x2a2b3d81dc0>"
      ]
     },
     "execution_count": 9,
     "metadata": {},
     "output_type": "execute_result"
    },
    {
     "data": {
      "image/png": "[encoded data removed]",
      "text/plain": [
       "<Figure size 180x180 with 2 Axes>"
      ]
     },
     "metadata": {
      "needs_background": "light"
     },
     "output_type": "display_data"
    }
   ],
   "source": [
    "sns.pairplot(df)"
   ]
  },
  {
   "cell_type": "code",
   "execution_count": 10,
   "id": "ff07dcab",
   "metadata": {},
   "outputs": [
    {
     "data": {
      "text/plain": [
       "<AxesSubplot:>"
      ]
     },
     "execution_count": 10,
     "metadata": {},
     "output_type": "execute_result"
    },
    {
     "data": {
      "image/png": "[encoded data removed]",
      "text/plain": [
       "<Figure size 432x288 with 2 Axes>"
      ]
     },
     "metadata": {
      "needs_background": "light"
     },
     "output_type": "display_data"
    }
   ],
   "source": [
    "sns.heatmap(df.corr(),cmap = 'viridis',annot = True, linewidths=1)"
   ]
  },
  {
   "cell_type": "code",
   "execution_count": 11,
   "id": "b866cc5b",
   "metadata": {},
   "outputs": [
    {
     "data": {
      "text/plain": [
       "<AxesSubplot:xlabel='Liked', ylabel='Density'>"
      ]
     },
     "execution_count": 11,
     "metadata": {},
     "output_type": "execute_result"
    },
    {
     "data": {
      "image/png": "[encoded data removed]",
      "text/plain": [
       "<Figure size 432x288 with 1 Axes>"
      ]
     },
     "metadata": {
      "needs_background": "light"
     },
     "output_type": "display_data"
    }
   ],
   "source": [
    "sns.distplot(df['Liked'])"
   ]
  },
  {
   "cell_type": "code",
   "execution_count": 12,
   "id": "63e42128",
   "metadata": {},
   "outputs": [
    {
     "data": {
      "text/plain": [
       "<AxesSubplot:xlabel='Liked', ylabel='count'>"
      ]
     },
     "execution_count": 12,
     "metadata": {},
     "output_type": "execute_result"
    },
    {
     "data": {
      "image/png": "[encoded data removed]",
      "text/plain": [
       "<Figure size 432x288 with 1 Axes>"
      ]
     },
     "metadata": {
      "needs_background": "light"
     },
     "output_type": "display_data"
    }
   ],
   "source": [
    "sns.countplot(x = 'Liked', data = df)"
   ]
  },
  {
   "cell_type": "code",
   "execution_count": 13,
   "id": "29f1eae3",
   "metadata": {},
   "outputs": [
    {
     "data": {
      "text/plain": [
       "<AxesSubplot:>"
      ]
     },
     "execution_count": 13,
     "metadata": {},
     "output_type": "execute_result"
    },
    {
     "data": {
      "image/png": "[encoded data removed]",
      "text/plain": [
       "<Figure size 432x288 with 1 Axes>"
      ]
     },
     "metadata": {
      "needs_background": "light"
     },
     "output_type": "display_data"
    }
   ],
   "source": [
    "df['Liked'].hist()"
   ]
  },
  {
   "cell_type": "markdown",
   "id": "c48ed4e2",
   "metadata": {},
   "source": [
    "## Setting Parameters"
   ]
  },
  {
   "cell_type": "code",
   "execution_count": 14,
   "id": "ba42fd35",
   "metadata": {},
   "outputs": [],
   "source": [
    "vocab_size = 500\n",
    "embadding_size = 16\n",
    "max_length = 100\n",
    "trunc_type = 'post'\n",
    "padding_type = 'post'\n",
    "oov_token = '<OOV>'\n",
    "training_size = 900"
   ]
  },
  {
   "cell_type": "markdown",
   "id": "6dbfd538",
   "metadata": {},
   "source": [
    "## Seperating data column to Sentences and Labels"
   ]
  },
  {
   "cell_type": "code",
   "execution_count": 15,
   "id": "0fdf9eb4",
   "metadata": {},
   "outputs": [],
   "source": [
    "sentences = df['Review'].tolist()\n",
    "labels = df['Liked'].tolist()"
   ]
  },
  {
   "cell_type": "markdown",
   "id": "7d3184fd",
   "metadata": {},
   "source": [
    "# Splitting Dataset into Training Set and Testing Set"
   ]
  },
  {
   "cell_type": "code",
   "execution_count": 16,
   "id": "5456d4b7",
   "metadata": {},
   "outputs": [],
   "source": [
    "training_sentences = sentences[0:training_size]\n",
    "testing_sentences = sentences[training_size:]\n",
    "training_labels = labels[0:training_size]\n",
    "testing_labels = labels[training_size:]"
   ]
  },
  {
   "cell_type": "markdown",
   "id": "cade4942",
   "metadata": {},
   "source": [
    "## Setting Tokenizer and Padding data"
   ]
  },
  {
   "cell_type": "code",
   "execution_count": 17,
   "id": "adda5621",
   "metadata": {},
   "outputs": [],
   "source": [
    "tokenizer = Tokenizer(num_words=vocab_size, oov_token=oov_token)\n",
    "tokenizer.fit_on_texts(training_sentences)\n",
    "\n",
    "word_index = tokenizer.word_index\n",
    "\n",
    "training_sequences = tokenizer.texts_to_sequences(training_sentences)\n",
    "training_padded = pad_sequences(training_sequences, maxlen=max_length, padding=padding_type, truncating=trunc_type)\n",
    "\n",
    "testing_sequences = tokenizer.texts_to_sequences(testing_sentences)\n",
    "testing_padded = pad_sequences(testing_sequences, maxlen=max_length, padding=padding_type, truncating=trunc_type)"
   ]
  },
  {
   "cell_type": "markdown",
   "id": "a43f53da",
   "metadata": {},
   "source": [
    "### Coverting data into Arrays"
   ]
  },
  {
   "cell_type": "code",
   "execution_count": 18,
   "id": "d72a254c",
   "metadata": {},
   "outputs": [],
   "source": [
    "training_padded = np.array(training_padded)\n",
    "training_labels = np.array(training_labels)\n",
    "testing_padded = np.array(testing_padded)\n",
    "testing_labels = np.array(testing_labels)"
   ]
  },
  {
   "cell_type": "markdown",
   "id": "f772425e",
   "metadata": {},
   "source": [
    "# Model Building"
   ]
  },
  {
   "cell_type": "markdown",
   "id": "b413261b",
   "metadata": {},
   "source": [
    "## CNN Model"
   ]
  },
  {
   "cell_type": "code",
   "execution_count": 19,
   "id": "79ab42b3",
   "metadata": {},
   "outputs": [],
   "source": [
    "from tensorflow.keras.models import Sequential\n",
    "from tensorflow.keras.layers import GlobalAvgPool1D, Dense, Embedding"
   ]
  },
  {
   "cell_type": "code",
   "execution_count": 20,
   "id": "7bdcdc6f",
   "metadata": {},
   "outputs": [],
   "source": [
    "model = tf.keras.Sequential([\n",
    "    tf.keras.layers.Embedding(vocab_size, embadding_size, input_length=max_length),\n",
    "    tf.keras.layers.GlobalAveragePooling1D(),\n",
    "    tf.keras.layers.Dense(24, activation='relu'),\n",
    "    tf.keras.layers.Dense(1, activation='sigmoid')\n",
    "])\n",
    "model.compile(loss='binary_crossentropy',optimizer='adam',metrics=['accuracy'])"
   ]
  },
  {
   "cell_type": "markdown",
   "id": "5877c92d",
   "metadata": {},
   "source": [
    "## Model Summary"
   ]
  },
  {
   "cell_type": "code",
   "execution_count": 21,
   "id": "2a7e1c1e",
   "metadata": {},
   "outputs": [
    {
     "name": "stdout",
     "output_type": "stream",
     "text": [
      "Model: \"sequential\"\n",
      "_________________________________________________________________\n",
      " Layer (type)                Output Shape              Param #   \n",
      "=================================================================\n",
      " embedding (Embedding)       (None, 100, 16)           8000      \n",
      "                                                                 \n",
      " global_average_pooling1d (G  (None, 16)               0         \n",
      " lobalAveragePooling1D)                                          \n",
      "                                                                 \n",
      " dense (Dense)               (None, 24)                408       \n",
      "                                                                 \n",
      " dense_1 (Dense)             (None, 1)                 25        \n",
      "                                                                 \n",
      "=================================================================\n",
      "Total params: 8,433\n",
      "Trainable params: 8,433\n",
      "Non-trainable params: 0\n",
      "_________________________________________________________________\n"
     ]
    }
   ],
   "source": [
    "model.summary()"
   ]
  },
  {
   "cell_type": "markdown",
   "id": "15bc901d",
   "metadata": {},
   "source": [
    "## Training Model"
   ]
  },
  {
   "cell_type": "code",
   "execution_count": 22,
   "id": "2898b6b5",
   "metadata": {},
   "outputs": [
    {
     "name": "stdout",
     "output_type": "stream",
     "text": [
      "Epoch 1/50\n",
      "29/29 - 1s - loss: 0.6936 - accuracy: 0.4767 - val_loss: 0.7114 - val_accuracy: 0.0400 - 621ms/epoch - 21ms/step\n",
      "Epoch 2/50\n",
      "29/29 - 0s - loss: 0.6899 - accuracy: 0.5511 - val_loss: 0.7388 - val_accuracy: 0.0400 - 38ms/epoch - 1ms/step\n",
      "Epoch 3/50\n",
      "29/29 - 0s - loss: 0.6881 - accuracy: 0.5511 - val_loss: 0.7637 - val_accuracy: 0.0400 - 37ms/epoch - 1ms/step\n",
      "Epoch 4/50\n",
      "29/29 - 0s - loss: 0.6867 - accuracy: 0.5511 - val_loss: 0.7729 - val_accuracy: 0.0400 - 37ms/epoch - 1ms/step\n",
      "Epoch 5/50\n",
      "29/29 - 0s - loss: 0.6861 - accuracy: 0.5511 - val_loss: 0.7813 - val_accuracy: 0.0400 - 39ms/epoch - 1ms/step\n",
      "Epoch 6/50\n",
      "29/29 - 0s - loss: 0.6847 - accuracy: 0.5511 - val_loss: 0.7896 - val_accuracy: 0.0400 - 37ms/epoch - 1ms/step\n",
      "Epoch 7/50\n",
      "29/29 - 0s - loss: 0.6832 - accuracy: 0.5511 - val_loss: 0.7956 - val_accuracy: 0.0400 - 38ms/epoch - 1ms/step\n",
      "Epoch 8/50\n",
      "29/29 - 0s - loss: 0.6813 - accuracy: 0.5511 - val_loss: 0.7885 - val_accuracy: 0.0400 - 39ms/epoch - 1ms/step\n",
      "Epoch 9/50\n",
      "29/29 - 0s - loss: 0.6796 - accuracy: 0.5522 - val_loss: 0.7690 - val_accuracy: 0.0400 - 39ms/epoch - 1ms/step\n",
      "Epoch 10/50\n",
      "29/29 - 0s - loss: 0.6738 - accuracy: 0.5522 - val_loss: 0.7805 - val_accuracy: 0.0500 - 39ms/epoch - 1ms/step\n",
      "Epoch 11/50\n",
      "29/29 - 0s - loss: 0.6685 - accuracy: 0.5644 - val_loss: 0.7716 - val_accuracy: 0.0700 - 38ms/epoch - 1ms/step\n",
      "Epoch 12/50\n",
      "29/29 - 0s - loss: 0.6602 - accuracy: 0.5789 - val_loss: 0.7563 - val_accuracy: 0.1500 - 38ms/epoch - 1ms/step\n",
      "Epoch 13/50\n",
      "29/29 - 0s - loss: 0.6498 - accuracy: 0.6189 - val_loss: 0.7505 - val_accuracy: 0.2600 - 39ms/epoch - 1ms/step\n",
      "Epoch 14/50\n",
      "29/29 - 0s - loss: 0.6386 - accuracy: 0.7011 - val_loss: 0.7301 - val_accuracy: 0.3200 - 42ms/epoch - 1ms/step\n",
      "Epoch 15/50\n",
      "29/29 - 0s - loss: 0.6256 - accuracy: 0.6900 - val_loss: 0.7043 - val_accuracy: 0.3800 - 38ms/epoch - 1ms/step\n",
      "Epoch 16/50\n",
      "29/29 - 0s - loss: 0.6098 - accuracy: 0.7222 - val_loss: 0.6799 - val_accuracy: 0.4500 - 38ms/epoch - 1ms/step\n",
      "Epoch 17/50\n",
      "29/29 - 0s - loss: 0.5942 - accuracy: 0.7256 - val_loss: 0.6189 - val_accuracy: 0.7300 - 39ms/epoch - 1ms/step\n",
      "Epoch 18/50\n",
      "29/29 - 0s - loss: 0.5772 - accuracy: 0.7344 - val_loss: 0.5991 - val_accuracy: 0.7500 - 38ms/epoch - 1ms/step\n",
      "Epoch 19/50\n",
      "29/29 - 0s - loss: 0.5596 - accuracy: 0.7689 - val_loss: 0.6340 - val_accuracy: 0.6100 - 38ms/epoch - 1ms/step\n",
      "Epoch 20/50\n",
      "29/29 - 0s - loss: 0.5397 - accuracy: 0.7689 - val_loss: 0.6007 - val_accuracy: 0.6900 - 36ms/epoch - 1ms/step\n",
      "Epoch 21/50\n",
      "29/29 - 0s - loss: 0.5199 - accuracy: 0.7989 - val_loss: 0.6179 - val_accuracy: 0.6500 - 39ms/epoch - 1ms/step\n",
      "Epoch 22/50\n",
      "29/29 - 0s - loss: 0.4990 - accuracy: 0.8111 - val_loss: 0.6074 - val_accuracy: 0.6700 - 38ms/epoch - 1ms/step\n",
      "Epoch 23/50\n",
      "29/29 - 0s - loss: 0.4808 - accuracy: 0.8122 - val_loss: 0.6336 - val_accuracy: 0.5800 - 38ms/epoch - 1ms/step\n",
      "Epoch 24/50\n",
      "29/29 - 0s - loss: 0.4646 - accuracy: 0.8211 - val_loss: 0.6657 - val_accuracy: 0.5100 - 39ms/epoch - 1ms/step\n",
      "Epoch 25/50\n",
      "29/29 - 0s - loss: 0.4444 - accuracy: 0.8278 - val_loss: 0.4946 - val_accuracy: 0.8100 - 38ms/epoch - 1ms/step\n",
      "Epoch 26/50\n",
      "29/29 - 0s - loss: 0.4306 - accuracy: 0.8478 - val_loss: 0.5516 - val_accuracy: 0.7200 - 38ms/epoch - 1ms/step\n",
      "Epoch 27/50\n",
      "29/29 - 0s - loss: 0.4147 - accuracy: 0.8467 - val_loss: 0.5425 - val_accuracy: 0.7100 - 38ms/epoch - 1ms/step\n",
      "Epoch 28/50\n",
      "29/29 - 0s - loss: 0.3969 - accuracy: 0.8644 - val_loss: 0.5426 - val_accuracy: 0.7200 - 42ms/epoch - 1ms/step\n",
      "Epoch 29/50\n",
      "29/29 - 0s - loss: 0.3836 - accuracy: 0.8611 - val_loss: 0.6364 - val_accuracy: 0.5800 - 38ms/epoch - 1ms/step\n",
      "Epoch 30/50\n",
      "29/29 - 0s - loss: 0.3709 - accuracy: 0.8611 - val_loss: 0.5671 - val_accuracy: 0.6800 - 39ms/epoch - 1ms/step\n",
      "Epoch 31/50\n",
      "29/29 - 0s - loss: 0.3619 - accuracy: 0.8611 - val_loss: 0.7190 - val_accuracy: 0.5300 - 38ms/epoch - 1ms/step\n",
      "Epoch 32/50\n",
      "29/29 - 0s - loss: 0.3534 - accuracy: 0.8633 - val_loss: 0.5837 - val_accuracy: 0.6600 - 38ms/epoch - 1ms/step\n",
      "Epoch 33/50\n",
      "29/29 - 0s - loss: 0.3335 - accuracy: 0.8933 - val_loss: 0.5679 - val_accuracy: 0.6800 - 38ms/epoch - 1ms/step\n",
      "Epoch 34/50\n",
      "29/29 - 0s - loss: 0.3226 - accuracy: 0.8933 - val_loss: 0.4940 - val_accuracy: 0.7800 - 38ms/epoch - 1ms/step\n",
      "Epoch 35/50\n",
      "29/29 - 0s - loss: 0.3133 - accuracy: 0.8933 - val_loss: 0.5261 - val_accuracy: 0.7200 - 38ms/epoch - 1ms/step\n",
      "Epoch 36/50\n",
      "29/29 - 0s - loss: 0.3034 - accuracy: 0.8989 - val_loss: 0.4340 - val_accuracy: 0.8200 - 38ms/epoch - 1ms/step\n",
      "Epoch 37/50\n",
      "29/29 - 0s - loss: 0.2945 - accuracy: 0.9000 - val_loss: 0.5090 - val_accuracy: 0.7700 - 40ms/epoch - 1ms/step\n",
      "Epoch 38/50\n",
      "29/29 - 0s - loss: 0.2864 - accuracy: 0.9033 - val_loss: 0.5663 - val_accuracy: 0.6900 - 37ms/epoch - 1ms/step\n",
      "Epoch 39/50\n",
      "29/29 - 0s - loss: 0.2784 - accuracy: 0.9078 - val_loss: 0.4133 - val_accuracy: 0.8500 - 37ms/epoch - 1ms/step\n",
      "Epoch 40/50\n",
      "29/29 - 0s - loss: 0.2718 - accuracy: 0.9067 - val_loss: 0.4052 - val_accuracy: 0.8500 - 40ms/epoch - 1ms/step\n",
      "Epoch 41/50\n",
      "29/29 - 0s - loss: 0.2659 - accuracy: 0.9089 - val_loss: 0.4912 - val_accuracy: 0.7900 - 44ms/epoch - 2ms/step\n",
      "Epoch 42/50\n",
      "29/29 - 0s - loss: 0.2598 - accuracy: 0.9144 - val_loss: 0.5353 - val_accuracy: 0.7400 - 38ms/epoch - 1ms/step\n",
      "Epoch 43/50\n",
      "29/29 - 0s - loss: 0.2504 - accuracy: 0.9044 - val_loss: 0.4468 - val_accuracy: 0.8000 - 37ms/epoch - 1ms/step\n",
      "Epoch 44/50\n",
      "29/29 - 0s - loss: 0.2463 - accuracy: 0.9144 - val_loss: 0.5173 - val_accuracy: 0.7600 - 39ms/epoch - 1ms/step\n",
      "Epoch 45/50\n",
      "29/29 - 0s - loss: 0.2422 - accuracy: 0.9089 - val_loss: 0.4731 - val_accuracy: 0.8100 - 39ms/epoch - 1ms/step\n",
      "Epoch 46/50\n",
      "29/29 - 0s - loss: 0.2371 - accuracy: 0.9233 - val_loss: 0.5442 - val_accuracy: 0.7500 - 38ms/epoch - 1ms/step\n",
      "Epoch 47/50\n",
      "29/29 - 0s - loss: 0.2346 - accuracy: 0.9189 - val_loss: 0.4773 - val_accuracy: 0.8000 - 42ms/epoch - 1ms/step\n",
      "Epoch 48/50\n",
      "29/29 - 0s - loss: 0.2259 - accuracy: 0.9167 - val_loss: 0.4103 - val_accuracy: 0.8200 - 40ms/epoch - 1ms/step\n",
      "Epoch 49/50\n",
      "29/29 - 0s - loss: 0.2198 - accuracy: 0.9267 - val_loss: 0.4209 - val_accuracy: 0.8200 - 41ms/epoch - 1ms/step\n",
      "Epoch 50/50\n",
      "29/29 - 0s - loss: 0.2166 - accuracy: 0.9189 - val_loss: 0.4786 - val_accuracy: 0.8000 - 51ms/epoch - 2ms/step\n"
     ]
    }
   ],
   "source": [
    "num_epochs = 50\n",
    "history = model.fit(training_padded, training_labels, epochs=num_epochs, validation_data=(testing_padded, testing_labels), verbose=2)"
   ]
  },
  {
   "cell_type": "code",
   "execution_count": 23,
   "id": "6d618340",
   "metadata": {},
   "outputs": [
    {
     "data": {
      "text/plain": [
       "{'loss': [0.6936021447181702,\n",
       "  0.6899377703666687,\n",
       "  0.6881188750267029,\n",
       "  0.6867472529411316,\n",
       "  0.6861035823822021,\n",
       "  0.6847220659255981,\n",
       "  0.6831665635108948,\n",
       "  0.6812597513198853,\n",
       "  0.6795569062232971,\n",
       "  0.6737547516822815,\n",
       "  0.6685099005699158,\n",
       "  0.6602420806884766,\n",
       "  0.6497798562049866,\n",
       "  0.6385840773582458,\n",
       "  0.6256183385848999,\n",
       "  0.6098014116287231,\n",
       "  0.5942004919052124,\n",
       "  0.5771618485450745,\n",
       "  0.5595621466636658,\n",
       "  0.539669930934906,\n",
       "  0.5198922753334045,\n",
       "  0.4989621937274933,\n",
       "  0.48083990812301636,\n",
       "  0.46459901332855225,\n",
       "  0.4443642497062683,\n",
       "  0.43058016896247864,\n",
       "  0.4147401452064514,\n",
       "  0.39686888456344604,\n",
       "  0.3836371898651123,\n",
       "  0.37093451619148254,\n",
       "  0.3619123101234436,\n",
       "  0.35335201025009155,\n",
       "  0.3335130512714386,\n",
       "  0.3226288855075836,\n",
       "  0.31326693296432495,\n",
       "  0.3033615052700043,\n",
       "  0.2945007383823395,\n",
       "  0.2864336371421814,\n",
       "  0.2784290611743927,\n",
       "  0.2718004286289215,\n",
       "  0.2658877968788147,\n",
       "  0.25979486107826233,\n",
       "  0.2504241168498993,\n",
       "  0.2463499754667282,\n",
       "  0.2421683520078659,\n",
       "  0.23705846071243286,\n",
       "  0.23459774255752563,\n",
       "  0.22594018280506134,\n",
       "  0.2198139727115631,\n",
       "  0.21660365164279938],\n",
       " 'accuracy': [0.476666659116745,\n",
       "  0.551111102104187,\n",
       "  0.551111102104187,\n",
       "  0.551111102104187,\n",
       "  0.551111102104187,\n",
       "  0.551111102104187,\n",
       "  0.551111102104187,\n",
       "  0.551111102104187,\n",
       "  0.5522222518920898,\n",
       "  0.5522222518920898,\n",
       "  0.5644444227218628,\n",
       "  0.5788888931274414,\n",
       "  0.6188889145851135,\n",
       "  0.7011111378669739,\n",
       "  0.6899999976158142,\n",
       "  0.7222222089767456,\n",
       "  0.7255555391311646,\n",
       "  0.7344444394111633,\n",
       "  0.7688888907432556,\n",
       "  0.7688888907432556,\n",
       "  0.7988888621330261,\n",
       "  0.8111110925674438,\n",
       "  0.8122222423553467,\n",
       "  0.8211110830307007,\n",
       "  0.8277778029441833,\n",
       "  0.847777783870697,\n",
       "  0.846666693687439,\n",
       "  0.8644444346427917,\n",
       "  0.8611111044883728,\n",
       "  0.8611111044883728,\n",
       "  0.8611111044883728,\n",
       "  0.8633333444595337,\n",
       "  0.8933333158493042,\n",
       "  0.8933333158493042,\n",
       "  0.8933333158493042,\n",
       "  0.898888885974884,\n",
       "  0.8999999761581421,\n",
       "  0.903333306312561,\n",
       "  0.9077777862548828,\n",
       "  0.9066666960716248,\n",
       "  0.9088888764381409,\n",
       "  0.9144444465637207,\n",
       "  0.9044444561004639,\n",
       "  0.9144444465637207,\n",
       "  0.9088888764381409,\n",
       "  0.9233333468437195,\n",
       "  0.9188888669013977,\n",
       "  0.9166666865348816,\n",
       "  0.9266666769981384,\n",
       "  0.9188888669013977],\n",
       " 'val_loss': [0.7114372849464417,\n",
       "  0.7388494610786438,\n",
       "  0.7637179493904114,\n",
       "  0.7728865742683411,\n",
       "  0.7812513709068298,\n",
       "  0.7896393537521362,\n",
       "  0.7955837249755859,\n",
       "  0.7884675860404968,\n",
       "  0.769030749797821,\n",
       "  0.780468761920929,\n",
       "  0.7715778350830078,\n",
       "  0.7563459277153015,\n",
       "  0.7504745721817017,\n",
       "  0.7300505638122559,\n",
       "  0.7043429613113403,\n",
       "  0.679929256439209,\n",
       "  0.6188836693763733,\n",
       "  0.5991050601005554,\n",
       "  0.6340406537055969,\n",
       "  0.600664496421814,\n",
       "  0.6179239153862,\n",
       "  0.607393741607666,\n",
       "  0.6336343884468079,\n",
       "  0.6656617522239685,\n",
       "  0.4945756196975708,\n",
       "  0.5515530705451965,\n",
       "  0.5425461530685425,\n",
       "  0.542630136013031,\n",
       "  0.6364212036132812,\n",
       "  0.5671473741531372,\n",
       "  0.7189735174179077,\n",
       "  0.5836679935455322,\n",
       "  0.5678675770759583,\n",
       "  0.494022011756897,\n",
       "  0.5260703563690186,\n",
       "  0.43395379185676575,\n",
       "  0.5089917182922363,\n",
       "  0.5663488507270813,\n",
       "  0.413269966840744,\n",
       "  0.40516576170921326,\n",
       "  0.4911597967147827,\n",
       "  0.5352885723114014,\n",
       "  0.4468311369419098,\n",
       "  0.5173051953315735,\n",
       "  0.4730522632598877,\n",
       "  0.5442416667938232,\n",
       "  0.4773130714893341,\n",
       "  0.41028884053230286,\n",
       "  0.4209480285644531,\n",
       "  0.47863051295280457],\n",
       " 'val_accuracy': [0.03999999910593033,\n",
       "  0.03999999910593033,\n",
       "  0.03999999910593033,\n",
       "  0.03999999910593033,\n",
       "  0.03999999910593033,\n",
       "  0.03999999910593033,\n",
       "  0.03999999910593033,\n",
       "  0.03999999910593033,\n",
       "  0.03999999910593033,\n",
       "  0.05000000074505806,\n",
       "  0.07000000029802322,\n",
       "  0.15000000596046448,\n",
       "  0.25999999046325684,\n",
       "  0.3199999928474426,\n",
       "  0.3799999952316284,\n",
       "  0.44999998807907104,\n",
       "  0.7300000190734863,\n",
       "  0.75,\n",
       "  0.6100000143051147,\n",
       "  0.6899999976158142,\n",
       "  0.6499999761581421,\n",
       "  0.6700000166893005,\n",
       "  0.5799999833106995,\n",
       "  0.5099999904632568,\n",
       "  0.8100000023841858,\n",
       "  0.7200000286102295,\n",
       "  0.7099999785423279,\n",
       "  0.7200000286102295,\n",
       "  0.5799999833106995,\n",
       "  0.6800000071525574,\n",
       "  0.5299999713897705,\n",
       "  0.6600000262260437,\n",
       "  0.6800000071525574,\n",
       "  0.7799999713897705,\n",
       "  0.7200000286102295,\n",
       "  0.8199999928474426,\n",
       "  0.7699999809265137,\n",
       "  0.6899999976158142,\n",
       "  0.8500000238418579,\n",
       "  0.8500000238418579,\n",
       "  0.7900000214576721,\n",
       "  0.7400000095367432,\n",
       "  0.800000011920929,\n",
       "  0.7599999904632568,\n",
       "  0.8100000023841858,\n",
       "  0.75,\n",
       "  0.800000011920929,\n",
       "  0.8199999928474426,\n",
       "  0.8199999928474426,\n",
       "  0.800000011920929]}"
      ]
     },
     "execution_count": 23,
     "metadata": {},
     "output_type": "execute_result"
    }
   ],
   "source": [
    "model.history.history"
   ]
  },
  {
   "cell_type": "code",
   "execution_count": 26,
   "id": "28990044",
   "metadata": {},
   "outputs": [
    {
     "data": {
      "image/png": "[encoded data removed]",
      "text/plain": [
       "<Figure size 432x288 with 1 Axes>"
      ]
     },
     "metadata": {
      "needs_background": "light"
     },
     "output_type": "display_data"
    },
    {
     "data": {
      "image/png": "[encoded data removed]",
      "text/plain": [
       "<Figure size 432x288 with 1 Axes>"
      ]
     },
     "metadata": {
      "needs_background": "light"
     },
     "output_type": "display_data"
    }
   ],
   "source": [
    "def plot_graphs(history, string):\n",
    "    plt.plot(history.history[string])\n",
    "    plt.plot(history.history['val_'+string])\n",
    "    plt.xlabel(\"Epochs\")\n",
    "    plt.ylabel(string)\n",
    "    plt.legend([string, 'val_'+string])\n",
    "    plt.show()\n",
    "plot_graphs(history, \"accuracy\")\n",
    "plot_graphs(history, \"loss\")"
   ]
  },
  {
   "cell_type": "markdown",
   "id": "d12ec972",
   "metadata": {},
   "source": [
    "## Decoding sentences"
   ]
  },
  {
   "cell_type": "code",
   "execution_count": 27,
   "id": "5ddb585c",
   "metadata": {},
   "outputs": [
    {
     "name": "stdout",
     "output_type": "stream",
     "text": [
      "wow loved this place ? ? ? ? ? ? ? ? ? ? ? ? ? ? ? ? ? ? ? ? ? ? ? ? ? ? ? ? ? ? ? ? ? ? ? ? ? ? ? ? ? ? ? ? ? ? ? ? ? ? ? ? ? ? ? ? ? ? ? ? ? ? ? ? ? ? ? ? ? ? ? ? ? ? ? ? ? ? ? ? ? ? ? ? ? ? ? ? ? ? ? ? ? ? ? ?\n",
      "Wow... Loved this place.\n",
      "1\n"
     ]
    }
   ],
   "source": [
    "reverse_word_index = dict([(value, key) for (key, value) in word_index.items()])\n",
    "\n",
    "def decode_sentence(text):\n",
    "    return ' '.join([reverse_word_index.get(i, '?') for i in text])\n",
    "\n",
    "print(decode_sentence(training_padded[0]))\n",
    "print(training_sentences[0])\n",
    "print(labels[0])"
   ]
  },
  {
   "cell_type": "markdown",
   "id": "4ee8b2f2",
   "metadata": {},
   "source": [
    "## Predictions on Testing Data"
   ]
  },
  {
   "cell_type": "code",
   "execution_count": 28,
   "id": "f147d83d",
   "metadata": {},
   "outputs": [
    {
     "name": "stdout",
     "output_type": "stream",
     "text": [
      "Spend your money elsewhere. :  0\n",
      "Their regular toasted bread was equally satisfying with the occasional pats of butter... Mmmm...! :  1\n",
      "The Buffet at Bellagio was far from what I anticipated. :  0\n",
      "And the drinks are WEAK, people! :  0\n",
      "-My order was not correct. :  0\n",
      "Also, I feel like the chips are bought, not made in house. :  0\n",
      "After the disappointing dinner we went elsewhere for dessert. :  0\n",
      "The chips and sals a here is amazing!!!!!!!!!!!!!!!!!!! :  1\n",
      "We won't be returning. :  0\n",
      "This is my new fav Vegas buffet spot. :  1\n"
     ]
    }
   ],
   "source": [
    "for n in range(10):\n",
    "    print(testing_sentences[n],': ',testing_labels[n])"
   ]
  },
  {
   "cell_type": "markdown",
   "id": "9d1c1c60",
   "metadata": {},
   "source": [
    "### Getting Predictions with Randomly Created Reviews"
   ]
  },
  {
   "cell_type": "code",
   "execution_count": 29,
   "id": "88a5b9f8",
   "metadata": {},
   "outputs": [
    {
     "name": "stdout",
     "output_type": "stream",
     "text": [
      "[[0.9443935 ]\n",
      " [0.7852771 ]\n",
      " [0.08185986]]\n"
     ]
    }
   ],
   "source": [
    "sentence = [\"Awesome Pizza\", \"I will come here everytime!!!\", \"Dont come here ever, Worst Food\"]\n",
    "sequences = tokenizer.texts_to_sequences(sentence)\n",
    "padded = pad_sequences(sequences, maxlen=max_length, padding=padding_type, truncating=trunc_type)\n",
    "print(model.predict(padded))"
   ]
  },
  {
   "cell_type": "markdown",
   "id": "4ebf4dc0",
   "metadata": {},
   "source": [
    "# Great Work!"
   ]
  },
  {
   "cell_type": "code",
   "execution_count": null,
   "id": "bdc677f2",
   "metadata": {},
   "outputs": [],
   "source": []
  }
 ],
 "metadata": {
  "kernelspec": {
   "display_name": "Python 3 (ipykernel)",
   "language": "python",
   "name": "python3"
  },
  "language_info": {
   "codemirror_mode": {
    "name": "ipython",
    "version": 3
   },
   "file_extension": ".py",
   "mimetype": "text/x-python",
   "name": "python",
   "nbconvert_exporter": "python",
   "pygments_lexer": "ipython3",
   "version": "3.9.7"
  }
 },
 "nbformat": 4,
 "nbformat_minor": 5
}
