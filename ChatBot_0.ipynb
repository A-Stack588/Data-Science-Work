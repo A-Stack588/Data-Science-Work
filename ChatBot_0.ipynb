{
 "cells": [
  {
   "cell_type": "markdown",
   "id": "fc5b09e0-3eaa-45e6-a11f-3021912e9956",
   "metadata": {},
   "source": [
    "# Business Objective\n",
    "##### Crrate a simple ChatBot."
   ]
  },
  {
   "cell_type": "markdown",
   "id": "7e5ace03-accf-4f08-ba5b-db69af097b16",
   "metadata": {},
   "source": [
    "# Import Dependencies"
   ]
  },
  {
   "cell_type": "code",
   "execution_count": 1,
   "id": "6d898585-f723-4322-a27a-9eb7fe69d505",
   "metadata": {},
   "outputs": [],
   "source": [
    "import nltk\n",
    "import string\n",
    "import random\n",
    "import numpy as np"
   ]
  },
  {
   "cell_type": "markdown",
   "id": "f2c0bd0e-6376-4bd6-bad9-ee27fd48e15c",
   "metadata": {},
   "source": [
    "# Importing and Reading Corpus"
   ]
  },
  {
   "cell_type": "code",
   "execution_count": 2,
   "id": "fec07bc3-9724-4b2e-8308-9d62f5d74f31",
   "metadata": {},
   "outputs": [
    {
     "name": "stderr",
     "output_type": "stream",
     "text": [
      "[nltk_data] Downloading package punkt to\n",
      "[nltk_data]     C:\\Users\\avina\\AppData\\Roaming\\nltk_data...\n",
      "[nltk_data]   Package punkt is already up-to-date!\n",
      "[nltk_data] Downloading package wordnet to\n",
      "[nltk_data]     C:\\Users\\avina\\AppData\\Roaming\\nltk_data...\n",
      "[nltk_data]   Package wordnet is already up-to-date!\n"
     ]
    }
   ],
   "source": [
    "f = open(\"chatbot.txt\",\"r\",errors = \"ignore\")\n",
    "raw_doc = f.read()\n",
    "raw_doc = raw_doc.lower() # Converting doc into lowercase\n",
    "nltk.download(\"punkt\") # Using Punkt Tokenizer\n",
    "nltk.download(\"wordnet\") # Using Wordnet dictionary\n",
    "sent_tokens = nltk.sent_tokenize(raw_doc) # Converting doc into list of sentences\n",
    "word_tokens = nltk.word_tokenize(raw_doc) # Converting doc into list of words"
   ]
  },
  {
   "cell_type": "markdown",
   "id": "4ea25da0-0407-4faf-b4f3-6f780e3fc887",
   "metadata": {},
   "source": [
    "## Example of Sentence Tokens"
   ]
  },
  {
   "cell_type": "code",
   "execution_count": 3,
   "id": "62950f35-9027-47cd-ac65-94069cad3647",
   "metadata": {},
   "outputs": [
    {
     "data": {
      "text/plain": [
       "[\"machine learning (ml) is an umbrella term for solving problems for which development of algorithms by human programmers would be cost-prohibitive, and instead the problems are solved by helping machines 'discover' their 'own' algorithms,[1] without needing to be explicitly told what to do by any human-developed algorithms.\",\n",
       " '[2] recently, generative artificial neural networks have been able to surpass results of many previous approaches.']"
      ]
     },
     "execution_count": 3,
     "metadata": {},
     "output_type": "execute_result"
    }
   ],
   "source": [
    "sent_tokens[:2]"
   ]
  },
  {
   "cell_type": "markdown",
   "id": "811baa64-3243-460a-8276-5d6c456be485",
   "metadata": {},
   "source": [
    "## Example of Word Tokens"
   ]
  },
  {
   "cell_type": "code",
   "execution_count": 4,
   "id": "8669b0e8-de68-461c-8a94-71b1a572bf08",
   "metadata": {},
   "outputs": [
    {
     "data": {
      "text/plain": [
       "['machine', 'learning']"
      ]
     },
     "execution_count": 4,
     "metadata": {},
     "output_type": "execute_result"
    }
   ],
   "source": [
    "word_tokens[:2]"
   ]
  },
  {
   "cell_type": "markdown",
   "id": "289947eb-5402-40e5-8ca6-66c80c1d63c8",
   "metadata": {},
   "source": [
    "## Text Pre-Processing"
   ]
  },
  {
   "cell_type": "code",
   "execution_count": 5,
   "id": "428c6a10-276b-427c-9445-24a1cf32293c",
   "metadata": {},
   "outputs": [],
   "source": [
    "lemmer = nltk.stem.WordNetLemmatizer()\n",
    "def LemTokens(tokens):\n",
    "    return [lemmer.lemmatize(tokens) for token in tokens]\n",
    "remove_punct_dict = dict((ord(punct),None) for punct in string.punctuation)\n",
    "\n",
    "def LemNormalize(text):\n",
    "    return LemTokens(nltk.word_tokenize(text.lower().translate(remove_punct_dict)))"
   ]
  },
  {
   "cell_type": "markdown",
   "id": "68f3f4c2-b343-4ab0-973e-c8c954d5ddda",
   "metadata": {},
   "source": [
    "## Defining A Greeting Function"
   ]
  },
  {
   "cell_type": "code",
   "execution_count": 6,
   "id": "94431d76-d912-458e-b321-1ad2add512f1",
   "metadata": {},
   "outputs": [],
   "source": [
    "GREET_INPUTS = (\"hello\",\"hi\",\"greetings\",\"sup\",\"what's up\",\"hey\")\n",
    "GREET_RESPONSES = (\"hi\",\"hey\",\"*nods*\",\"hi there\",\"I am glad! You are talking to me\")\n",
    "\n",
    "def greet(sentence):\n",
    "    \n",
    "    \n",
    "    for word in sentence.split():\n",
    "        if word.lower() in GREET_INPUTS:\n",
    "            return random.choice(GREET_RESPONSES)"
   ]
  },
  {
   "cell_type": "markdown",
   "id": "f4cc1ec6-f816-49ce-a652-1b82a6371023",
   "metadata": {},
   "source": [
    "## Response Generation "
   ]
  },
  {
   "cell_type": "code",
   "execution_count": 7,
   "id": "580ad03e-1065-4004-8777-9d501dc64e23",
   "metadata": {},
   "outputs": [],
   "source": [
    "from sklearn.feature_extraction.text import TfidfVectorizer\n",
    "from sklearn.metrics.pairwise import cosine_similarity"
   ]
  },
  {
   "cell_type": "code",
   "execution_count": 8,
   "id": "e828c38a-830a-411a-8ea3-26a7f99e934b",
   "metadata": {},
   "outputs": [],
   "source": [
    "def response(user_response):\n",
    "    robol_response = ''\n",
    "    Tfidfvec = TfidfVectorizer(tokenizer=LemNormalize,stop_words='english')\n",
    "    tfidf = Tfidfvec.fit_transform(sent_tokens)\n",
    "    vals = cosine_similarity(tfidf[-1],tfidf)\n",
    "    idx = vals.argsort()[0][-2]\n",
    "    flat = vals.flatten()\n",
    "    flat.sort()\n",
    "    req_tfidf = flat[-2]\n",
    "    if req_tfidf == 0:\n",
    "        robol_response = robol_response+\"Sorry, I don't understand you\"\n",
    "        return robol_response\n",
    "    else:\n",
    "        robol_response = robol_response.sent_tokens[idx]\n",
    "        return robol_response"
   ]
  },
  {
   "cell_type": "markdown",
   "id": "ce4250f0-dc9d-4c0a-afa4-1b2fd497bc4d",
   "metadata": {},
   "source": [
    "## Defining Conversation Start/End protocols"
   ]
  },
  {
   "cell_type": "code",
   "execution_count": 13,
   "id": "6db7f0a7-1eee-40be-8f44-b42186fb5b04",
   "metadata": {},
   "outputs": [
    {
     "name": "stdout",
     "output_type": "stream",
     "text": [
      "BOT:My name is Jeffry. Let's have conversation! Also, if you wanna exit anytime just type Bye!\n",
      "hi\n",
      "BOT: hi there\n",
      "hey\n",
      "BOT: *nods*\n",
      "hello\n",
      "BOT: hi there\n",
      "bye\n",
      "BOT: Goodbye! Take care <3 \n"
     ]
    }
   ],
   "source": [
    "flag = True\n",
    "print(\"BOT:My name is Jeffry. Let's have conversation! Also, if you wanna exit anytime just type Bye!\")\n",
    "\n",
    "while flag == True:\n",
    "    user_response = input()\n",
    "    user_response = user_response.lower()\n",
    "    if user_response!= \"bye\":\n",
    "        if user_response == \"thanks\" or user_response == \"thank you\":\n",
    "            flag = False\n",
    "            print(\"BOT:You are welcome..\")\n",
    "        else:\n",
    "            if(greet(user_response) != None):\n",
    "                print(\"BOT: \"+greet(user_response))\n",
    "            else:\n",
    "                sent_tokens.append(user_response)\n",
    "                word_tokens = word_tokens+nltk.word_tokenize(user_response)\n",
    "                final_words = list(set(word_tokens))\n",
    "                print(\"BOT: \",end = \"\")\n",
    "                print(response(user_response))\n",
    "                sent_tokens.remove(user_response)\n",
    "    else:\n",
    "        flag = False\n",
    "        print(\"BOT: Goodbye! Take care <3 \")"
   ]
  },
  {
   "cell_type": "code",
   "execution_count": null,
   "id": "d671836c-b7b4-4f50-956f-5a559fa65ada",
   "metadata": {},
   "outputs": [],
   "source": []
  }
 ],
 "metadata": {
  "kernelspec": {
   "display_name": "Python 3 (ipykernel)",
   "language": "python",
   "name": "python3"
  },
  "language_info": {
   "codemirror_mode": {
    "name": "ipython",
    "version": 3
   },
   "file_extension": ".py",
   "mimetype": "text/x-python",
   "name": "python",
   "nbconvert_exporter": "python",
   "pygments_lexer": "ipython3",
   "version": "3.10.9"
  }
 },
 "nbformat": 4,
 "nbformat_minor": 5
}
