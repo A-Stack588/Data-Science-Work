{
 "cells": [
  {
   "cell_type": "code",
   "execution_count": null,
   "id": "fbebb3e6",
   "metadata": {},
   "outputs": [],
   "source": []
  },
  {
   "cell_type": "code",
   "execution_count": 1,
   "id": "3f70989b",
   "metadata": {},
   "outputs": [],
   "source": [
    "import pandas as pd "
   ]
  },
  {
   "cell_type": "code",
   "execution_count": 2,
   "id": "fd735505",
   "metadata": {},
   "outputs": [],
   "source": [
    "import numpy as np "
   ]
  },
  {
   "cell_type": "code",
   "execution_count": 3,
   "id": "38591e08",
   "metadata": {},
   "outputs": [],
   "source": [
    "import matplotlib.pyplot as plt "
   ]
  },
  {
   "cell_type": "code",
   "execution_count": 4,
   "id": "0a67c2f9",
   "metadata": {},
   "outputs": [],
   "source": [
    "\n",
    "import seaborn as sns "
   ]
  },
  {
   "cell_type": "code",
   "execution_count": 5,
   "id": "9acdecb6",
   "metadata": {},
   "outputs": [],
   "source": [
    "import torch"
   ]
  },
  {
   "cell_type": "code",
   "execution_count": 6,
   "id": "e36a34a9",
   "metadata": {},
   "outputs": [
    {
     "name": "stdout",
     "output_type": "stream",
     "text": [
      "1.12.0\n"
     ]
    }
   ],
   "source": [
    "print(torch.__version__)"
   ]
  },
  {
   "cell_type": "code",
   "execution_count": 7,
   "id": "06085ffc",
   "metadata": {},
   "outputs": [
    {
     "name": "stdout",
     "output_type": "stream",
     "text": [
      "tensor([0.0416, 0.6636, 0.6316])\n"
     ]
    }
   ],
   "source": [
    "x = torch.rand(3)\n",
    "print(x)"
   ]
  },
  {
   "cell_type": "code",
   "execution_count": 8,
   "id": "6f508163",
   "metadata": {},
   "outputs": [],
   "source": [
    "x = torch.empty(1)"
   ]
  },
  {
   "cell_type": "code",
   "execution_count": 9,
   "id": "e895091d",
   "metadata": {},
   "outputs": [
    {
     "name": "stdout",
     "output_type": "stream",
     "text": [
      "tensor([9.1477e-41])\n"
     ]
    }
   ],
   "source": [
    "print(x)"
   ]
  },
  {
   "cell_type": "code",
   "execution_count": 10,
   "id": "66b600e3",
   "metadata": {},
   "outputs": [
    {
     "name": "stdout",
     "output_type": "stream",
     "text": [
      "tensor([[[[0., 0., 0., 0.],\n",
      "          [0., 0., 0., 0.],\n",
      "          [0., 0., 0., 0.]],\n",
      "\n",
      "         [[0., 0., 0., 0.],\n",
      "          [0., 0., 0., 0.],\n",
      "          [0., 0., 0., 0.]]]])\n"
     ]
    }
   ],
   "source": [
    "x = torch.empty(1,2,3,4)\n",
    "print(x)"
   ]
  },
  {
   "cell_type": "code",
   "execution_count": 11,
   "id": "c542ada0",
   "metadata": {},
   "outputs": [
    {
     "name": "stdout",
     "output_type": "stream",
     "text": [
      "tensor([[0., 0.]])\n"
     ]
    }
   ],
   "source": [
    "y = torch.zeros(1,2)\n",
    "print(y)"
   ]
  },
  {
   "cell_type": "code",
   "execution_count": 12,
   "id": "9eedc8fa",
   "metadata": {},
   "outputs": [
    {
     "name": "stdout",
     "output_type": "stream",
     "text": [
      "tensor([[1., 1., 1.]])\n"
     ]
    }
   ],
   "source": [
    "y = torch.ones(1,3)\n",
    "print(y)"
   ]
  },
  {
   "cell_type": "code",
   "execution_count": 13,
   "id": "b5d08e11",
   "metadata": {},
   "outputs": [
    {
     "name": "stdout",
     "output_type": "stream",
     "text": [
      "torch.float32\n"
     ]
    }
   ],
   "source": [
    "z = torch.ones(1,2)\n",
    "print(z.dtype)"
   ]
  },
  {
   "cell_type": "code",
   "execution_count": 14,
   "id": "bcc50935",
   "metadata": {},
   "outputs": [
    {
     "name": "stdout",
     "output_type": "stream",
     "text": [
      "tensor([[0.6382, 0.8591],\n",
      "        [0.1933, 0.8140]])\n",
      "tensor([[0.5204, 0.4401],\n",
      "        [0.8273, 0.8328]])\n"
     ]
    }
   ],
   "source": [
    "x = torch.rand(2,2)\n",
    "y = torch.rand(2,2)\n",
    "print(x)\n",
    "print(y)\n",
    "z = x + y"
   ]
  },
  {
   "cell_type": "code",
   "execution_count": 15,
   "id": "c6be43fb",
   "metadata": {},
   "outputs": [
    {
     "name": "stdout",
     "output_type": "stream",
     "text": [
      "tensor([[1.1586, 1.2991],\n",
      "        [1.0206, 1.6468]])\n"
     ]
    }
   ],
   "source": [
    "print(z)"
   ]
  },
  {
   "cell_type": "code",
   "execution_count": 16,
   "id": "6d19a74e",
   "metadata": {},
   "outputs": [
    {
     "name": "stdout",
     "output_type": "stream",
     "text": [
      "tensor([[1.1586, 1.2991],\n",
      "        [1.0206, 1.6468]])\n"
     ]
    }
   ],
   "source": [
    "# add\n",
    "z = torch.add(x,y)\n",
    "print(z)"
   ]
  },
  {
   "cell_type": "code",
   "execution_count": 17,
   "id": "43c6fbcf",
   "metadata": {},
   "outputs": [
    {
     "name": "stdout",
     "output_type": "stream",
     "text": [
      "tensor([[ 0.1178,  0.4190],\n",
      "        [-0.6340, -0.0188]])\n"
     ]
    }
   ],
   "source": [
    "# sub\n",
    "z = torch.sub(x,y)\n",
    "print(z)"
   ]
  },
  {
   "cell_type": "code",
   "execution_count": 18,
   "id": "87ed6a5d",
   "metadata": {},
   "outputs": [
    {
     "name": "stdout",
     "output_type": "stream",
     "text": [
      "tensor([[0.3321, 0.3781],\n",
      "        [0.1599, 0.6779]])\n"
     ]
    }
   ],
   "source": [
    "# multiplication\n",
    "z = torch.mul(x,y)\n",
    "print(z)"
   ]
  },
  {
   "cell_type": "code",
   "execution_count": 19,
   "id": "7bace205",
   "metadata": {},
   "outputs": [
    {
     "name": "stdout",
     "output_type": "stream",
     "text": [
      "tensor([[1.2263, 1.9520],\n",
      "        [0.2337, 0.9774]])\n"
     ]
    }
   ],
   "source": [
    "# division\n",
    "z = torch.div(x,y)\n",
    "print(z)"
   ]
  },
  {
   "cell_type": "markdown",
   "id": "d1a61419",
   "metadata": {},
   "source": [
    "### Slicing operation"
   ]
  },
  {
   "cell_type": "code",
   "execution_count": 20,
   "id": "39438164",
   "metadata": {},
   "outputs": [
    {
     "name": "stdout",
     "output_type": "stream",
     "text": [
      "tensor([[0.4414, 0.8574, 0.2245, 0.3247, 0.0185],\n",
      "        [0.9906, 0.2762, 0.5491, 0.0433, 0.7176],\n",
      "        [0.4136, 0.0372, 0.6800, 0.9680, 0.7644]])\n"
     ]
    }
   ],
   "source": [
    "x = torch.rand(3,5)\n",
    "print(x)"
   ]
  },
  {
   "cell_type": "code",
   "execution_count": 21,
   "id": "c141b89d",
   "metadata": {},
   "outputs": [
    {
     "name": "stdout",
     "output_type": "stream",
     "text": [
      "tensor([0.9906, 0.2762, 0.5491, 0.0433, 0.7176])\n"
     ]
    }
   ],
   "source": [
    "print(x[1,:])"
   ]
  },
  {
   "cell_type": "code",
   "execution_count": 22,
   "id": "cd96e750",
   "metadata": {},
   "outputs": [
    {
     "name": "stdout",
     "output_type": "stream",
     "text": [
      "tensor([[0.8574],\n",
      "        [0.2762],\n",
      "        [0.0372]])\n"
     ]
    }
   ],
   "source": [
    "print(x[:,1:2])"
   ]
  },
  {
   "cell_type": "code",
   "execution_count": 23,
   "id": "7f002675",
   "metadata": {},
   "outputs": [
    {
     "name": "stdout",
     "output_type": "stream",
     "text": [
      "tensor([0.9680, 0.7644])\n"
     ]
    }
   ],
   "source": [
    "print(x[2,3:])"
   ]
  },
  {
   "cell_type": "code",
   "execution_count": 24,
   "id": "cfe6ac7e",
   "metadata": {},
   "outputs": [
    {
     "name": "stdout",
     "output_type": "stream",
     "text": [
      "tensor(0.9680)\n"
     ]
    }
   ],
   "source": [
    "print(x[2,3])"
   ]
  },
  {
   "cell_type": "code",
   "execution_count": 25,
   "id": "5133c1d7",
   "metadata": {},
   "outputs": [
    {
     "name": "stdout",
     "output_type": "stream",
     "text": [
      "0.9679996967315674\n"
     ]
    }
   ],
   "source": [
    "print(x[2,3].item()) # By using '.item() method' we will value of tensor and it is valid only for one element."
   ]
  },
  {
   "cell_type": "markdown",
   "id": "80f6d700",
   "metadata": {},
   "source": [
    "### Reshaping"
   ]
  },
  {
   "cell_type": "code",
   "execution_count": 26,
   "id": "825049d2",
   "metadata": {},
   "outputs": [
    {
     "name": "stdout",
     "output_type": "stream",
     "text": [
      "tensor([[3.3991e-01, 2.4154e-01, 9.5060e-01, 4.7181e-01],\n",
      "        [3.8694e-01, 6.3179e-01, 3.0065e-01, 3.2124e-01],\n",
      "        [2.2331e-01, 9.2177e-02, 6.3638e-01, 3.9065e-04],\n",
      "        [8.1553e-02, 4.3714e-01, 7.1598e-01, 8.3134e-01]])\n",
      "tensor([3.3991e-01, 2.4154e-01, 9.5060e-01, 4.7181e-01, 3.8694e-01, 6.3179e-01,\n",
      "        3.0065e-01, 3.2124e-01, 2.2331e-01, 9.2177e-02, 6.3638e-01, 3.9065e-04,\n",
      "        8.1553e-02, 4.3714e-01, 7.1598e-01, 8.3134e-01])\n"
     ]
    }
   ],
   "source": [
    "x = torch.rand(4,4)\n",
    "print(x)\n",
    "y = x.view(16)\n",
    "print(y)"
   ]
  },
  {
   "cell_type": "code",
   "execution_count": 27,
   "id": "dde8394b",
   "metadata": {},
   "outputs": [
    {
     "name": "stdout",
     "output_type": "stream",
     "text": [
      "tensor([[0.7928, 0.6625, 0.8187, 0.0250],\n",
      "        [0.1669, 0.5270, 0.3707, 0.6341],\n",
      "        [0.2017, 0.0147, 0.4508, 0.2466],\n",
      "        [0.9444, 0.9630, 0.9018, 0.8801]])\n",
      "torch.Size([2, 8])\n"
     ]
    }
   ],
   "source": [
    "x = torch.rand(4,4)\n",
    "print(x)\n",
    "y = x.view(-1,8)\n",
    "print(y.size())"
   ]
  },
  {
   "cell_type": "markdown",
   "id": "6b2ba5a7",
   "metadata": {},
   "source": [
    "### Creating NumPy array"
   ]
  },
  {
   "cell_type": "code",
   "execution_count": 28,
   "id": "29b1d2df",
   "metadata": {},
   "outputs": [
    {
     "name": "stdout",
     "output_type": "stream",
     "text": [
      "tensor([1., 1., 1., 1., 1.])\n"
     ]
    }
   ],
   "source": [
    "a = torch.ones(5)\n",
    "print(a)"
   ]
  },
  {
   "cell_type": "code",
   "execution_count": 29,
   "id": "d0a9b46e",
   "metadata": {},
   "outputs": [
    {
     "name": "stdout",
     "output_type": "stream",
     "text": [
      "[1. 1. 1. 1. 1.]\n"
     ]
    }
   ],
   "source": [
    "b= a.numpy()\n",
    "print(b)"
   ]
  },
  {
   "cell_type": "code",
   "execution_count": 30,
   "id": "31506cee",
   "metadata": {},
   "outputs": [
    {
     "name": "stdout",
     "output_type": "stream",
     "text": [
      "<class 'numpy.ndarray'>\n"
     ]
    }
   ],
   "source": [
    "b= a.numpy()\n",
    "print(type(b))"
   ]
  },
  {
   "cell_type": "code",
   "execution_count": 31,
   "id": "a7dfe60b",
   "metadata": {},
   "outputs": [
    {
     "name": "stdout",
     "output_type": "stream",
     "text": [
      "[1. 1. 1. 1. 1.]\n"
     ]
    }
   ],
   "source": [
    "a = np.ones(5)\n",
    "print(a)"
   ]
  },
  {
   "cell_type": "code",
   "execution_count": 34,
   "id": "2affab91",
   "metadata": {},
   "outputs": [
    {
     "name": "stdout",
     "output_type": "stream",
     "text": [
      "tensor([1., 1., 1., 1., 1.], requires_grad=True)\n"
     ]
    }
   ],
   "source": [
    "x = torch.ones(5,requires_grad = True)\n",
    "print(x)"
   ]
  },
  {
   "cell_type": "code",
   "execution_count": null,
   "id": "ceaaa383",
   "metadata": {},
   "outputs": [],
   "source": []
  }
 ],
 "metadata": {
  "kernelspec": {
   "display_name": "Python 3 (ipykernel)",
   "language": "python",
   "name": "python3"
  },
  "language_info": {
   "codemirror_mode": {
    "name": "ipython",
    "version": 3
   },
   "file_extension": ".py",
   "mimetype": "text/x-python",
   "name": "python",
   "nbconvert_exporter": "python",
   "pygments_lexer": "ipython3",
   "version": "3.9.7"
  }
 },
 "nbformat": 4,
 "nbformat_minor": 5
}
