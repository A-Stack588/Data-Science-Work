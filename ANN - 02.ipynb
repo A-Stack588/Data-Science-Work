{
 "cells": [
  {
   "cell_type": "markdown",
   "id": "d9d63ac8",
   "metadata": {},
   "source": [
    "# Import Libraries"
   ]
  },
  {
   "cell_type": "code",
   "execution_count": 1,
   "id": "cff38ee4",
   "metadata": {},
   "outputs": [],
   "source": [
    "import pandas\n",
    "import numpy\n",
    "import keras\n",
    "import tensorflow\n",
    "import tensorflow as tf \n",
    "import pandas as pd \n",
    "import numpy as np\n",
    "import seaborn as sns\n",
    "import matplotlib.pyplot as plt\n",
    "import warnings\n",
    "warnings.filterwarnings('ignore')\n",
    "%matplotlib inline"
   ]
  },
  {
   "cell_type": "markdown",
   "id": "7adb8a3d",
   "metadata": {},
   "source": [
    "# Load Dataset"
   ]
  },
  {
   "cell_type": "code",
   "execution_count": 2,
   "id": "b86ccd03",
   "metadata": {},
   "outputs": [],
   "source": [
    "df = pd.read_csv('fake_reg.csv')"
   ]
  },
  {
   "cell_type": "code",
   "execution_count": 3,
   "id": "b742c132",
   "metadata": {},
   "outputs": [
    {
     "data": {
      "text/html": [
       "<div>\n",
       "<style scoped>\n",
       "    .dataframe tbody tr th:only-of-type {\n",
       "        vertical-align: middle;\n",
       "    }\n",
       "\n",
       "    .dataframe tbody tr th {\n",
       "        vertical-align: top;\n",
       "    }\n",
       "\n",
       "    .dataframe thead th {\n",
       "        text-align: right;\n",
       "    }\n",
       "</style>\n",
       "<table border=\"1\" class=\"dataframe\">\n",
       "  <thead>\n",
       "    <tr style=\"text-align: right;\">\n",
       "      <th></th>\n",
       "      <th>price</th>\n",
       "      <th>feature1</th>\n",
       "      <th>feature2</th>\n",
       "    </tr>\n",
       "  </thead>\n",
       "  <tbody>\n",
       "    <tr>\n",
       "      <th>0</th>\n",
       "      <td>461.527929</td>\n",
       "      <td>999.787558</td>\n",
       "      <td>999.766096</td>\n",
       "    </tr>\n",
       "    <tr>\n",
       "      <th>1</th>\n",
       "      <td>548.130011</td>\n",
       "      <td>998.861615</td>\n",
       "      <td>1001.042403</td>\n",
       "    </tr>\n",
       "    <tr>\n",
       "      <th>2</th>\n",
       "      <td>410.297162</td>\n",
       "      <td>1000.070267</td>\n",
       "      <td>998.844015</td>\n",
       "    </tr>\n",
       "    <tr>\n",
       "      <th>3</th>\n",
       "      <td>540.382220</td>\n",
       "      <td>999.952251</td>\n",
       "      <td>1000.440940</td>\n",
       "    </tr>\n",
       "    <tr>\n",
       "      <th>4</th>\n",
       "      <td>546.024553</td>\n",
       "      <td>1000.446011</td>\n",
       "      <td>1000.338531</td>\n",
       "    </tr>\n",
       "    <tr>\n",
       "      <th>5</th>\n",
       "      <td>542.983672</td>\n",
       "      <td>999.693184</td>\n",
       "      <td>1000.628006</td>\n",
       "    </tr>\n",
       "    <tr>\n",
       "      <th>6</th>\n",
       "      <td>555.485664</td>\n",
       "      <td>1000.275855</td>\n",
       "      <td>1000.444949</td>\n",
       "    </tr>\n",
       "    <tr>\n",
       "      <th>7</th>\n",
       "      <td>417.569725</td>\n",
       "      <td>1000.414205</td>\n",
       "      <td>998.878486</td>\n",
       "    </tr>\n",
       "    <tr>\n",
       "      <th>8</th>\n",
       "      <td>373.146531</td>\n",
       "      <td>1000.016606</td>\n",
       "      <td>998.475997</td>\n",
       "    </tr>\n",
       "    <tr>\n",
       "      <th>9</th>\n",
       "      <td>633.350292</td>\n",
       "      <td>999.905646</td>\n",
       "      <td>1001.594481</td>\n",
       "    </tr>\n",
       "  </tbody>\n",
       "</table>\n",
       "</div>"
      ],
      "text/plain": [
       "        price     feature1     feature2\n",
       "0  461.527929   999.787558   999.766096\n",
       "1  548.130011   998.861615  1001.042403\n",
       "2  410.297162  1000.070267   998.844015\n",
       "3  540.382220   999.952251  1000.440940\n",
       "4  546.024553  1000.446011  1000.338531\n",
       "5  542.983672   999.693184  1000.628006\n",
       "6  555.485664  1000.275855  1000.444949\n",
       "7  417.569725  1000.414205   998.878486\n",
       "8  373.146531  1000.016606   998.475997\n",
       "9  633.350292   999.905646  1001.594481"
      ]
     },
     "execution_count": 3,
     "metadata": {},
     "output_type": "execute_result"
    }
   ],
   "source": [
    "df.head(10)"
   ]
  },
  {
   "cell_type": "code",
   "execution_count": 4,
   "id": "950bbf3b",
   "metadata": {},
   "outputs": [
    {
     "data": {
      "text/html": [
       "<div>\n",
       "<style scoped>\n",
       "    .dataframe tbody tr th:only-of-type {\n",
       "        vertical-align: middle;\n",
       "    }\n",
       "\n",
       "    .dataframe tbody tr th {\n",
       "        vertical-align: top;\n",
       "    }\n",
       "\n",
       "    .dataframe thead th {\n",
       "        text-align: right;\n",
       "    }\n",
       "</style>\n",
       "<table border=\"1\" class=\"dataframe\">\n",
       "  <thead>\n",
       "    <tr style=\"text-align: right;\">\n",
       "      <th></th>\n",
       "      <th>price</th>\n",
       "      <th>feature1</th>\n",
       "      <th>feature2</th>\n",
       "    </tr>\n",
       "  </thead>\n",
       "  <tbody>\n",
       "    <tr>\n",
       "      <th>990</th>\n",
       "      <td>625.080185</td>\n",
       "      <td>1001.724740</td>\n",
       "      <td>1000.638738</td>\n",
       "    </tr>\n",
       "    <tr>\n",
       "      <th>991</th>\n",
       "      <td>434.275283</td>\n",
       "      <td>998.838508</td>\n",
       "      <td>999.705923</td>\n",
       "    </tr>\n",
       "    <tr>\n",
       "      <th>992</th>\n",
       "      <td>657.734251</td>\n",
       "      <td>1000.547353</td>\n",
       "      <td>1001.565843</td>\n",
       "    </tr>\n",
       "    <tr>\n",
       "      <th>993</th>\n",
       "      <td>518.356144</td>\n",
       "      <td>1000.127270</td>\n",
       "      <td>1000.094651</td>\n",
       "    </tr>\n",
       "    <tr>\n",
       "      <th>994</th>\n",
       "      <td>481.862806</td>\n",
       "      <td>998.960411</td>\n",
       "      <td>1000.242243</td>\n",
       "    </tr>\n",
       "    <tr>\n",
       "      <th>995</th>\n",
       "      <td>476.526078</td>\n",
       "      <td>1000.018988</td>\n",
       "      <td>999.672732</td>\n",
       "    </tr>\n",
       "    <tr>\n",
       "      <th>996</th>\n",
       "      <td>457.313186</td>\n",
       "      <td>998.855379</td>\n",
       "      <td>1000.020026</td>\n",
       "    </tr>\n",
       "    <tr>\n",
       "      <th>997</th>\n",
       "      <td>456.720992</td>\n",
       "      <td>1001.451646</td>\n",
       "      <td>998.847606</td>\n",
       "    </tr>\n",
       "    <tr>\n",
       "      <th>998</th>\n",
       "      <td>403.315576</td>\n",
       "      <td>1000.771023</td>\n",
       "      <td>998.562851</td>\n",
       "    </tr>\n",
       "    <tr>\n",
       "      <th>999</th>\n",
       "      <td>599.367093</td>\n",
       "      <td>999.232244</td>\n",
       "      <td>1001.451407</td>\n",
       "    </tr>\n",
       "  </tbody>\n",
       "</table>\n",
       "</div>"
      ],
      "text/plain": [
       "          price     feature1     feature2\n",
       "990  625.080185  1001.724740  1000.638738\n",
       "991  434.275283   998.838508   999.705923\n",
       "992  657.734251  1000.547353  1001.565843\n",
       "993  518.356144  1000.127270  1000.094651\n",
       "994  481.862806   998.960411  1000.242243\n",
       "995  476.526078  1000.018988   999.672732\n",
       "996  457.313186   998.855379  1000.020026\n",
       "997  456.720992  1001.451646   998.847606\n",
       "998  403.315576  1000.771023   998.562851\n",
       "999  599.367093   999.232244  1001.451407"
      ]
     },
     "execution_count": 4,
     "metadata": {},
     "output_type": "execute_result"
    }
   ],
   "source": [
    "df.tail(10)"
   ]
  },
  {
   "cell_type": "code",
   "execution_count": 5,
   "id": "00577b4b",
   "metadata": {},
   "outputs": [
    {
     "data": {
      "text/plain": [
       "(1000, 3)"
      ]
     },
     "execution_count": 5,
     "metadata": {},
     "output_type": "execute_result"
    }
   ],
   "source": [
    "df.shape"
   ]
  },
  {
   "cell_type": "code",
   "execution_count": 6,
   "id": "765903e6",
   "metadata": {},
   "outputs": [
    {
     "data": {
      "text/plain": [
       "price       0\n",
       "feature1    0\n",
       "feature2    0\n",
       "dtype: int64"
      ]
     },
     "execution_count": 6,
     "metadata": {},
     "output_type": "execute_result"
    }
   ],
   "source": [
    "df.isnull().sum()"
   ]
  },
  {
   "cell_type": "code",
   "execution_count": 7,
   "id": "0c2c4ee2",
   "metadata": {},
   "outputs": [
    {
     "data": {
      "text/plain": [
       "0      False\n",
       "1      False\n",
       "2      False\n",
       "3      False\n",
       "4      False\n",
       "       ...  \n",
       "995    False\n",
       "996    False\n",
       "997    False\n",
       "998    False\n",
       "999    False\n",
       "Length: 1000, dtype: bool"
      ]
     },
     "execution_count": 7,
     "metadata": {},
     "output_type": "execute_result"
    }
   ],
   "source": [
    "df.duplicated()"
   ]
  },
  {
   "cell_type": "code",
   "execution_count": 8,
   "id": "7578d8f4",
   "metadata": {},
   "outputs": [
    {
     "data": {
      "text/plain": [
       "Index(['price', 'feature1', 'feature2'], dtype='object')"
      ]
     },
     "execution_count": 8,
     "metadata": {},
     "output_type": "execute_result"
    }
   ],
   "source": [
    "df.columns"
   ]
  },
  {
   "cell_type": "code",
   "execution_count": 9,
   "id": "582b61da",
   "metadata": {},
   "outputs": [
    {
     "name": "stdout",
     "output_type": "stream",
     "text": [
      "<class 'pandas.core.frame.DataFrame'>\n",
      "RangeIndex: 1000 entries, 0 to 999\n",
      "Data columns (total 3 columns):\n",
      " #   Column    Non-Null Count  Dtype  \n",
      "---  ------    --------------  -----  \n",
      " 0   price     1000 non-null   float64\n",
      " 1   feature1  1000 non-null   float64\n",
      " 2   feature2  1000 non-null   float64\n",
      "dtypes: float64(3)\n",
      "memory usage: 23.6 KB\n"
     ]
    }
   ],
   "source": [
    "df.info()"
   ]
  },
  {
   "cell_type": "code",
   "execution_count": 10,
   "id": "1dbbe5e7",
   "metadata": {},
   "outputs": [
    {
     "data": {
      "text/html": [
       "<div>\n",
       "<style scoped>\n",
       "    .dataframe tbody tr th:only-of-type {\n",
       "        vertical-align: middle;\n",
       "    }\n",
       "\n",
       "    .dataframe tbody tr th {\n",
       "        vertical-align: top;\n",
       "    }\n",
       "\n",
       "    .dataframe thead th {\n",
       "        text-align: right;\n",
       "    }\n",
       "</style>\n",
       "<table border=\"1\" class=\"dataframe\">\n",
       "  <thead>\n",
       "    <tr style=\"text-align: right;\">\n",
       "      <th></th>\n",
       "      <th>price</th>\n",
       "      <th>feature1</th>\n",
       "      <th>feature2</th>\n",
       "    </tr>\n",
       "  </thead>\n",
       "  <tbody>\n",
       "    <tr>\n",
       "      <th>count</th>\n",
       "      <td>1000.000000</td>\n",
       "      <td>1000.000000</td>\n",
       "      <td>1000.000000</td>\n",
       "    </tr>\n",
       "    <tr>\n",
       "      <th>mean</th>\n",
       "      <td>498.673029</td>\n",
       "      <td>1000.014171</td>\n",
       "      <td>999.979847</td>\n",
       "    </tr>\n",
       "    <tr>\n",
       "      <th>std</th>\n",
       "      <td>93.785431</td>\n",
       "      <td>0.974018</td>\n",
       "      <td>0.948330</td>\n",
       "    </tr>\n",
       "    <tr>\n",
       "      <th>min</th>\n",
       "      <td>223.346793</td>\n",
       "      <td>997.058347</td>\n",
       "      <td>996.995651</td>\n",
       "    </tr>\n",
       "    <tr>\n",
       "      <th>25%</th>\n",
       "      <td>433.025732</td>\n",
       "      <td>999.332068</td>\n",
       "      <td>999.316106</td>\n",
       "    </tr>\n",
       "    <tr>\n",
       "      <th>50%</th>\n",
       "      <td>502.382117</td>\n",
       "      <td>1000.009915</td>\n",
       "      <td>1000.002243</td>\n",
       "    </tr>\n",
       "    <tr>\n",
       "      <th>75%</th>\n",
       "      <td>564.921588</td>\n",
       "      <td>1000.637580</td>\n",
       "      <td>1000.645380</td>\n",
       "    </tr>\n",
       "    <tr>\n",
       "      <th>max</th>\n",
       "      <td>774.407854</td>\n",
       "      <td>1003.207934</td>\n",
       "      <td>1002.666308</td>\n",
       "    </tr>\n",
       "  </tbody>\n",
       "</table>\n",
       "</div>"
      ],
      "text/plain": [
       "             price     feature1     feature2\n",
       "count  1000.000000  1000.000000  1000.000000\n",
       "mean    498.673029  1000.014171   999.979847\n",
       "std      93.785431     0.974018     0.948330\n",
       "min     223.346793   997.058347   996.995651\n",
       "25%     433.025732   999.332068   999.316106\n",
       "50%     502.382117  1000.009915  1000.002243\n",
       "75%     564.921588  1000.637580  1000.645380\n",
       "max     774.407854  1003.207934  1002.666308"
      ]
     },
     "execution_count": 10,
     "metadata": {},
     "output_type": "execute_result"
    }
   ],
   "source": [
    "df.describe()"
   ]
  },
  {
   "cell_type": "code",
   "execution_count": 11,
   "id": "a77ecc72",
   "metadata": {},
   "outputs": [
    {
     "data": {
      "text/html": [
       "<div>\n",
       "<style scoped>\n",
       "    .dataframe tbody tr th:only-of-type {\n",
       "        vertical-align: middle;\n",
       "    }\n",
       "\n",
       "    .dataframe tbody tr th {\n",
       "        vertical-align: top;\n",
       "    }\n",
       "\n",
       "    .dataframe thead th {\n",
       "        text-align: right;\n",
       "    }\n",
       "</style>\n",
       "<table border=\"1\" class=\"dataframe\">\n",
       "  <thead>\n",
       "    <tr style=\"text-align: right;\">\n",
       "      <th></th>\n",
       "      <th>price</th>\n",
       "      <th>feature1</th>\n",
       "      <th>feature2</th>\n",
       "    </tr>\n",
       "  </thead>\n",
       "  <tbody>\n",
       "    <tr>\n",
       "      <th>price</th>\n",
       "      <td>1.000000</td>\n",
       "      <td>0.444190</td>\n",
       "      <td>0.907576</td>\n",
       "    </tr>\n",
       "    <tr>\n",
       "      <th>feature1</th>\n",
       "      <td>0.444190</td>\n",
       "      <td>1.000000</td>\n",
       "      <td>0.030607</td>\n",
       "    </tr>\n",
       "    <tr>\n",
       "      <th>feature2</th>\n",
       "      <td>0.907576</td>\n",
       "      <td>0.030607</td>\n",
       "      <td>1.000000</td>\n",
       "    </tr>\n",
       "  </tbody>\n",
       "</table>\n",
       "</div>"
      ],
      "text/plain": [
       "             price  feature1  feature2\n",
       "price     1.000000  0.444190  0.907576\n",
       "feature1  0.444190  1.000000  0.030607\n",
       "feature2  0.907576  0.030607  1.000000"
      ]
     },
     "execution_count": 11,
     "metadata": {},
     "output_type": "execute_result"
    }
   ],
   "source": [
    "df.corr()"
   ]
  },
  {
   "cell_type": "markdown",
   "id": "07293f2f",
   "metadata": {},
   "source": [
    "# EDA(Exploratory Data Analysis)"
   ]
  },
  {
   "cell_type": "markdown",
   "id": "c4d6a630",
   "metadata": {},
   "source": [
    "## Data Visualization"
   ]
  },
  {
   "cell_type": "code",
   "execution_count": 12,
   "id": "295772be",
   "metadata": {},
   "outputs": [
    {
     "data": {
      "text/plain": [
       "<seaborn.axisgrid.PairGrid at 0x26fc6079370>"
      ]
     },
     "execution_count": 12,
     "metadata": {},
     "output_type": "execute_result"
    },
    {
     "data": {
      "image/png": "[encoded data removed]",
      "text/plain": [
       "<Figure size 540x540 with 12 Axes>"
      ]
     },
     "metadata": {
      "needs_background": "light"
     },
     "output_type": "display_data"
    }
   ],
   "source": [
    "sns.pairplot(df)"
   ]
  },
  {
   "cell_type": "code",
   "execution_count": 13,
   "id": "93fc4ce7",
   "metadata": {},
   "outputs": [
    {
     "data": {
      "text/plain": [
       "<AxesSubplot:>"
      ]
     },
     "execution_count": 13,
     "metadata": {},
     "output_type": "execute_result"
    },
    {
     "data": {
      "image/png": "[encoded data removed]",
      "text/plain": [
       "<Figure size 432x288 with 2 Axes>"
      ]
     },
     "metadata": {
      "needs_background": "light"
     },
     "output_type": "display_data"
    }
   ],
   "source": [
    "sns.heatmap(df.corr(), annot = True, cmap = 'magma',linewidths=1)"
   ]
  },
  {
   "cell_type": "code",
   "execution_count": 14,
   "id": "6be3359e",
   "metadata": {},
   "outputs": [
    {
     "data": {
      "text/plain": [
       "<AxesSubplot:xlabel='price', ylabel='Density'>"
      ]
     },
     "execution_count": 14,
     "metadata": {},
     "output_type": "execute_result"
    },
    {
     "data": {
      "image/png": "[encoded data removed]",
      "text/plain": [
       "<Figure size 432x288 with 1 Axes>"
      ]
     },
     "metadata": {
      "needs_background": "light"
     },
     "output_type": "display_data"
    }
   ],
   "source": [
    "sns.distplot(df['price'])"
   ]
  },
  {
   "cell_type": "code",
   "execution_count": 15,
   "id": "9fb32e5b",
   "metadata": {},
   "outputs": [
    {
     "data": {
      "text/plain": [
       "<AxesSubplot:xlabel='feature1', ylabel='Density'>"
      ]
     },
     "execution_count": 15,
     "metadata": {},
     "output_type": "execute_result"
    },
    {
     "data": {
      "image/png": "[encoded data removed]",
      "text/plain": [
       "<Figure size 432x288 with 1 Axes>"
      ]
     },
     "metadata": {
      "needs_background": "light"
     },
     "output_type": "display_data"
    }
   ],
   "source": [
    "sns.distplot(df['feature1'])"
   ]
  },
  {
   "cell_type": "code",
   "execution_count": 16,
   "id": "c6db9067",
   "metadata": {},
   "outputs": [
    {
     "data": {
      "text/plain": [
       "<AxesSubplot:xlabel='feature2', ylabel='Density'>"
      ]
     },
     "execution_count": 16,
     "metadata": {},
     "output_type": "execute_result"
    },
    {
     "data": {
      "image/png": "[encoded data removed]",
      "text/plain": [
       "<Figure size 432x288 with 1 Axes>"
      ]
     },
     "metadata": {
      "needs_background": "light"
     },
     "output_type": "display_data"
    }
   ],
   "source": [
    "sns.distplot(df['feature2'])"
   ]
  },
  {
   "cell_type": "code",
   "execution_count": 17,
   "id": "103d080a",
   "metadata": {},
   "outputs": [
    {
     "data": {
      "text/plain": [
       "<seaborn.axisgrid.FacetGrid at 0x26fc7673c40>"
      ]
     },
     "execution_count": 17,
     "metadata": {},
     "output_type": "execute_result"
    },
    {
     "data": {
      "image/png": "[encoded data removed]",
      "text/plain": [
       "<Figure size 360x360 with 1 Axes>"
      ]
     },
     "metadata": {
      "needs_background": "light"
     },
     "output_type": "display_data"
    }
   ],
   "source": [
    "sns.lmplot(x = 'price',y = 'feature1', data =df)"
   ]
  },
  {
   "cell_type": "code",
   "execution_count": 18,
   "id": "1493b9a8",
   "metadata": {},
   "outputs": [
    {
     "data": {
      "text/plain": [
       "<seaborn.axisgrid.FacetGrid at 0x26fc7559670>"
      ]
     },
     "execution_count": 18,
     "metadata": {},
     "output_type": "execute_result"
    },
    {
     "data": {
      "image/png": "[encoded data removed]",
      "text/plain": [
       "<Figure size 360x360 with 1 Axes>"
      ]
     },
     "metadata": {
      "needs_background": "light"
     },
     "output_type": "display_data"
    }
   ],
   "source": [
    "sns.lmplot(x = 'price',y = 'feature2', data = df)"
   ]
  },
  {
   "cell_type": "markdown",
   "id": "3cc8dbc7",
   "metadata": {},
   "source": [
    "# Train Test Split Dataset"
   ]
  },
  {
   "cell_type": "code",
   "execution_count": 19,
   "id": "abd12d5e",
   "metadata": {},
   "outputs": [],
   "source": [
    "from sklearn.model_selection import train_test_split"
   ]
  },
  {
   "cell_type": "code",
   "execution_count": 20,
   "id": "9a16fc02",
   "metadata": {},
   "outputs": [],
   "source": [
    "X = df[['feature1','feature2']].values\n",
    "y = df['price'].values"
   ]
  },
  {
   "cell_type": "code",
   "execution_count": 21,
   "id": "eacf6f09",
   "metadata": {},
   "outputs": [],
   "source": [
    "X_train,X_test,y_train,y_test = train_test_split(X,y,random_state=42,test_size=0.30)"
   ]
  },
  {
   "cell_type": "code",
   "execution_count": 22,
   "id": "66bfb62a",
   "metadata": {},
   "outputs": [
    {
     "data": {
      "text/plain": [
       "(700, 2)"
      ]
     },
     "execution_count": 22,
     "metadata": {},
     "output_type": "execute_result"
    }
   ],
   "source": [
    "X_train.shape"
   ]
  },
  {
   "cell_type": "code",
   "execution_count": 23,
   "id": "21fa9c5f",
   "metadata": {},
   "outputs": [
    {
     "data": {
      "text/plain": [
       "(300, 2)"
      ]
     },
     "execution_count": 23,
     "metadata": {},
     "output_type": "execute_result"
    }
   ],
   "source": [
    "X_test.shape"
   ]
  },
  {
   "cell_type": "code",
   "execution_count": 24,
   "id": "107592b3",
   "metadata": {},
   "outputs": [
    {
     "data": {
      "text/plain": [
       "(300,)"
      ]
     },
     "execution_count": 24,
     "metadata": {},
     "output_type": "execute_result"
    }
   ],
   "source": [
    "y_test.shape"
   ]
  },
  {
   "cell_type": "code",
   "execution_count": 25,
   "id": "744abffd",
   "metadata": {},
   "outputs": [
    {
     "data": {
      "text/plain": [
       "(700,)"
      ]
     },
     "execution_count": 25,
     "metadata": {},
     "output_type": "execute_result"
    }
   ],
   "source": [
    "y_train.shape"
   ]
  },
  {
   "cell_type": "markdown",
   "id": "44f1fcfe",
   "metadata": {},
   "source": [
    "# Preprocessing "
   ]
  },
  {
   "cell_type": "markdown",
   "id": "dc10b196",
   "metadata": {},
   "source": [
    "## Normalizing/Scaling of Dataset"
   ]
  },
  {
   "cell_type": "code",
   "execution_count": 26,
   "id": "85887fbc",
   "metadata": {},
   "outputs": [],
   "source": [
    "from sklearn.preprocessing import MinMaxScaler"
   ]
  },
  {
   "cell_type": "code",
   "execution_count": 27,
   "id": "21178652",
   "metadata": {},
   "outputs": [],
   "source": [
    "scaler = MinMaxScaler()"
   ]
  },
  {
   "cell_type": "markdown",
   "id": "64445805",
   "metadata": {},
   "source": [
    "### Notice to prevent data leakage from the test set, we only fit our scaler to the training set"
   ]
  },
  {
   "cell_type": "code",
   "execution_count": 28,
   "id": "e04620d3",
   "metadata": {},
   "outputs": [
    {
     "data": {
      "text/plain": [
       "MinMaxScaler()"
      ]
     },
     "execution_count": 28,
     "metadata": {},
     "output_type": "execute_result"
    }
   ],
   "source": [
    "scaler.fit(X_train)"
   ]
  },
  {
   "cell_type": "code",
   "execution_count": 29,
   "id": "6f3a32f8",
   "metadata": {},
   "outputs": [],
   "source": [
    "X_train = scaler.transform(X_train)\n",
    "X_test = scaler.transform(X_test)"
   ]
  },
  {
   "cell_type": "markdown",
   "id": "2a7a2c74",
   "metadata": {},
   "source": [
    "# Building Model"
   ]
  },
  {
   "cell_type": "code",
   "execution_count": 30,
   "id": "680ff6bf",
   "metadata": {},
   "outputs": [],
   "source": [
    "from tensorflow.keras.models import Sequential\n",
    "from tensorflow.keras.layers import Dense, Activation"
   ]
  },
  {
   "cell_type": "code",
   "execution_count": 31,
   "id": "f68f5155",
   "metadata": {},
   "outputs": [],
   "source": [
    "model = Sequential()\n",
    "\n",
    "model.add(Dense(4,activation='relu'))\n",
    "model.add(Dense(4,activation='relu'))\n",
    "model.add(Dense(4,activation='relu'))\n",
    "\n",
    "model.add(Dense(1))"
   ]
  },
  {
   "cell_type": "markdown",
   "id": "10eb2bba",
   "metadata": {},
   "source": [
    "## Compiling Model"
   ]
  },
  {
   "cell_type": "code",
   "execution_count": 32,
   "id": "5b92c4f7",
   "metadata": {},
   "outputs": [],
   "source": [
    "model.compile(optimizer='rmsprop',loss = 'mse')"
   ]
  },
  {
   "cell_type": "markdown",
   "id": "3b66e16a",
   "metadata": {},
   "source": [
    "## Training Model"
   ]
  },
  {
   "cell_type": "code",
   "execution_count": 33,
   "id": "dac0bdda",
   "metadata": {},
   "outputs": [
    {
     "name": "stdout",
     "output_type": "stream",
     "text": [
      "Epoch 1/250\n",
      "22/22 [==============================] - 1s 1ms/step - loss: 256678.9062\n",
      "Epoch 2/250\n",
      "22/22 [==============================] - 0s 1ms/step - loss: 256590.7188\n",
      "Epoch 3/250\n",
      "22/22 [==============================] - 0s 2ms/step - loss: 256495.0469\n",
      "Epoch 4/250\n",
      "22/22 [==============================] - 0s 1ms/step - loss: 256386.0156\n",
      "Epoch 5/250\n",
      "22/22 [==============================] - 0s 1ms/step - loss: 256262.1719\n",
      "Epoch 6/250\n",
      "22/22 [==============================] - 0s 1ms/step - loss: 256122.0156\n",
      "Epoch 7/250\n",
      "22/22 [==============================] - 0s 1ms/step - loss: 255963.2500\n",
      "Epoch 8/250\n",
      "22/22 [==============================] - 0s 1ms/step - loss: 255782.0312\n",
      "Epoch 9/250\n",
      "22/22 [==============================] - 0s 761us/step - loss: 255573.5938\n",
      "Epoch 10/250\n",
      "22/22 [==============================] - 0s 1ms/step - loss: 255334.0312\n",
      "Epoch 11/250\n",
      "22/22 [==============================] - 0s 1ms/step - loss: 255064.9844\n",
      "Epoch 12/250\n",
      "22/22 [==============================] - 0s 761us/step - loss: 254765.1250\n",
      "Epoch 13/250\n",
      "22/22 [==============================] - 0s 1ms/step - loss: 254430.0156\n",
      "Epoch 14/250\n",
      "22/22 [==============================] - 0s 761us/step - loss: 254058.1875\n",
      "Epoch 15/250\n",
      "22/22 [==============================] - 0s 1ms/step - loss: 253647.4531\n",
      "Epoch 16/250\n",
      "22/22 [==============================] - 0s 1ms/step - loss: 253190.7031\n",
      "Epoch 17/250\n",
      "22/22 [==============================] - 0s 1ms/step - loss: 252676.4375\n",
      "Epoch 18/250\n",
      "22/22 [==============================] - 0s 761us/step - loss: 252089.5312\n",
      "Epoch 19/250\n",
      "22/22 [==============================] - 0s 1ms/step - loss: 251428.2812\n",
      "Epoch 20/250\n",
      "22/22 [==============================] - 0s 1ms/step - loss: 250692.5000\n",
      "Epoch 21/250\n",
      "22/22 [==============================] - ETA: 0s - loss: 226977.12 - 0s 1ms/step - loss: 249876.4531\n",
      "Epoch 22/250\n",
      "22/22 [==============================] - 0s 2ms/step - loss: 248975.7969\n",
      "Epoch 23/250\n",
      "22/22 [==============================] - 0s 2ms/step - loss: 247993.2500\n",
      "Epoch 24/250\n",
      "22/22 [==============================] - 0s 2ms/step - loss: 246914.5625\n",
      "Epoch 25/250\n",
      "22/22 [==============================] - 0s 1ms/step - loss: 245741.3281\n",
      "Epoch 26/250\n",
      "22/22 [==============================] - 0s 1ms/step - loss: 244459.8438\n",
      "Epoch 27/250\n",
      "22/22 [==============================] - 0s 2ms/step - loss: 243065.9219\n",
      "Epoch 28/250\n",
      "22/22 [==============================] - 0s 2ms/step - loss: 241563.0000\n",
      "Epoch 29/250\n",
      "22/22 [==============================] - 0s 1ms/step - loss: 239937.5156\n",
      "Epoch 30/250\n",
      "22/22 [==============================] - 0s 1ms/step - loss: 238186.3281\n",
      "Epoch 31/250\n",
      "22/22 [==============================] - 0s 2ms/step - loss: 236302.5781\n",
      "Epoch 32/250\n",
      "22/22 [==============================] - 0s 2ms/step - loss: 234286.1250\n",
      "Epoch 33/250\n",
      "22/22 [==============================] - 0s 1ms/step - loss: 232121.5938\n",
      "Epoch 34/250\n",
      "22/22 [==============================] - 0s 2ms/step - loss: 229808.6875\n",
      "Epoch 35/250\n",
      "22/22 [==============================] - 0s 1ms/step - loss: 227349.1250\n",
      "Epoch 36/250\n",
      "22/22 [==============================] - 0s 1ms/step - loss: 224728.8281\n",
      "Epoch 37/250\n",
      "22/22 [==============================] - 0s 2ms/step - loss: 221938.7656\n",
      "Epoch 38/250\n",
      "22/22 [==============================] - 0s 3ms/step - loss: 218986.5781\n",
      "Epoch 39/250\n",
      "22/22 [==============================] - 0s 3ms/step - loss: 215875.2656\n",
      "Epoch 40/250\n",
      "22/22 [==============================] - 0s 3ms/step - loss: 212565.9219\n",
      "Epoch 41/250\n",
      "22/22 [==============================] - 0s 3ms/step - loss: 209087.0000\n",
      "Epoch 42/250\n",
      "22/22 [==============================] - 0s 3ms/step - loss: 205415.2031\n",
      "Epoch 43/250\n",
      "22/22 [==============================] - 0s 3ms/step - loss: 201574.5156\n",
      "Epoch 44/250\n",
      "22/22 [==============================] - 0s 3ms/step - loss: 197552.6562\n",
      "Epoch 45/250\n",
      "22/22 [==============================] - 0s 3ms/step - loss: 193331.4219\n",
      "Epoch 46/250\n",
      "22/22 [==============================] - 0s 3ms/step - loss: 188943.9844\n",
      "Epoch 47/250\n",
      "22/22 [==============================] - 0s 3ms/step - loss: 184353.7969\n",
      "Epoch 48/250\n",
      "22/22 [==============================] - 0s 3ms/step - loss: 179553.8125\n",
      "Epoch 49/250\n",
      "22/22 [==============================] - 0s 3ms/step - loss: 174605.7031\n",
      "Epoch 50/250\n",
      "22/22 [==============================] - 0s 3ms/step - loss: 169455.0781\n",
      "Epoch 51/250\n",
      "22/22 [==============================] - 0s 3ms/step - loss: 164127.6562\n",
      "Epoch 52/250\n",
      "22/22 [==============================] - 0s 3ms/step - loss: 158621.1250\n",
      "Epoch 53/250\n",
      "22/22 [==============================] - 0s 3ms/step - loss: 152958.5156\n",
      "Epoch 54/250\n",
      "22/22 [==============================] - 0s 3ms/step - loss: 147086.0156\n",
      "Epoch 55/250\n",
      "22/22 [==============================] - 0s 3ms/step - loss: 141111.3906\n",
      "Epoch 56/250\n",
      "22/22 [==============================] - 0s 3ms/step - loss: 134968.8750\n",
      "Epoch 57/250\n",
      "22/22 [==============================] - 0s 3ms/step - loss: 128674.1484\n",
      "Epoch 58/250\n",
      "22/22 [==============================] - 0s 3ms/step - loss: 122296.5859\n",
      "Epoch 59/250\n",
      "22/22 [==============================] - 0s 3ms/step - loss: 115796.6719\n",
      "Epoch 60/250\n",
      "22/22 [==============================] - 0s 3ms/step - loss: 109214.5625\n",
      "Epoch 61/250\n",
      "22/22 [==============================] - 0s 3ms/step - loss: 102514.8438\n",
      "Epoch 62/250\n",
      "22/22 [==============================] - 0s 3ms/step - loss: 95801.9141\n",
      "Epoch 63/250\n",
      "22/22 [==============================] - 0s 3ms/step - loss: 89019.9453\n",
      "Epoch 64/250\n",
      "22/22 [==============================] - 0s 3ms/step - loss: 82241.3828\n",
      "Epoch 65/250\n",
      "22/22 [==============================] - 0s 3ms/step - loss: 75499.2031\n",
      "Epoch 66/250\n",
      "22/22 [==============================] - 0s 3ms/step - loss: 68818.3203\n",
      "Epoch 67/250\n",
      "22/22 [==============================] - 0s 3ms/step - loss: 62251.4609\n",
      "Epoch 68/250\n",
      "22/22 [==============================] - 0s 3ms/step - loss: 55802.7656\n",
      "Epoch 69/250\n",
      "22/22 [==============================] - 0s 3ms/step - loss: 49466.1328\n",
      "Epoch 70/250\n",
      "22/22 [==============================] - 0s 3ms/step - loss: 43335.5586\n",
      "Epoch 71/250\n",
      "22/22 [==============================] - 0s 3ms/step - loss: 37437.0898\n",
      "Epoch 72/250\n",
      "22/22 [==============================] - 0s 3ms/step - loss: 31849.9941\n",
      "Epoch 73/250\n",
      "22/22 [==============================] - 0s 3ms/step - loss: 26569.7168\n",
      "Epoch 74/250\n",
      "22/22 [==============================] - 0s 3ms/step - loss: 21673.2168\n",
      "Epoch 75/250\n",
      "22/22 [==============================] - 0s 3ms/step - loss: 17288.8809\n",
      "Epoch 76/250\n",
      "22/22 [==============================] - 0s 3ms/step - loss: 13364.4326\n",
      "Epoch 77/250\n",
      "22/22 [==============================] - 0s 3ms/step - loss: 9939.1924\n",
      "Epoch 78/250\n",
      "22/22 [==============================] - 0s 3ms/step - loss: 7135.1880\n",
      "Epoch 79/250\n",
      "22/22 [==============================] - 0s 3ms/step - loss: 4980.5420\n",
      "Epoch 80/250\n",
      "22/22 [==============================] - 0s 2ms/step - loss: 3508.7742\n",
      "Epoch 81/250\n",
      "22/22 [==============================] - 0s 2ms/step - loss: 2717.0525\n",
      "Epoch 82/250\n",
      "22/22 [==============================] - 0s 3ms/step - loss: 2415.5422\n",
      "Epoch 83/250\n",
      "22/22 [==============================] - 0s 3ms/step - loss: 2342.5847\n",
      "Epoch 84/250\n",
      "22/22 [==============================] - 0s 3ms/step - loss: 2299.6833\n",
      "Epoch 85/250\n",
      "22/22 [==============================] - 0s 3ms/step - loss: 2257.8052\n",
      "Epoch 86/250\n",
      "22/22 [==============================] - 0s 3ms/step - loss: 2214.0688\n",
      "Epoch 87/250\n",
      "22/22 [==============================] - 0s 3ms/step - loss: 2177.6440\n",
      "Epoch 88/250\n",
      "22/22 [==============================] - 0s 3ms/step - loss: 2132.7170\n",
      "Epoch 89/250\n",
      "22/22 [==============================] - 0s 3ms/step - loss: 2092.8096\n",
      "Epoch 90/250\n",
      "22/22 [==============================] - 0s 1ms/step - loss: 2056.9751\n",
      "Epoch 91/250\n",
      "22/22 [==============================] - 0s 1ms/step - loss: 2018.2689\n",
      "Epoch 92/250\n",
      "22/22 [==============================] - 0s 2ms/step - loss: 1977.3677\n",
      "Epoch 93/250\n",
      "22/22 [==============================] - 0s 3ms/step - loss: 1937.4418\n",
      "Epoch 94/250\n",
      "22/22 [==============================] - 0s 3ms/step - loss: 1900.8512\n",
      "Epoch 95/250\n",
      "22/22 [==============================] - 0s 3ms/step - loss: 1862.3121\n",
      "Epoch 96/250\n"
     ]
    },
    {
     "name": "stdout",
     "output_type": "stream",
     "text": [
      "22/22 [==============================] - 0s 3ms/step - loss: 1829.1331\n",
      "Epoch 97/250\n",
      "22/22 [==============================] - 0s 5ms/step - loss: 1789.1182\n",
      "Epoch 98/250\n",
      "22/22 [==============================] - 0s 3ms/step - loss: 1750.7010\n",
      "Epoch 99/250\n",
      "22/22 [==============================] - 0s 3ms/step - loss: 1715.7944\n",
      "Epoch 100/250\n",
      "22/22 [==============================] - 0s 3ms/step - loss: 1681.5626\n",
      "Epoch 101/250\n",
      "22/22 [==============================] - 0s 3ms/step - loss: 1642.1953\n",
      "Epoch 102/250\n",
      "22/22 [==============================] - 0s 1ms/step - loss: 1602.8527\n",
      "Epoch 103/250\n",
      "22/22 [==============================] - 0s 2ms/step - loss: 1570.3322\n",
      "Epoch 104/250\n",
      "22/22 [==============================] - 0s 3ms/step - loss: 1530.5659\n",
      "Epoch 105/250\n",
      "22/22 [==============================] - 0s 3ms/step - loss: 1488.6940\n",
      "Epoch 106/250\n",
      "22/22 [==============================] - 0s 3ms/step - loss: 1463.8146\n",
      "Epoch 107/250\n",
      "22/22 [==============================] - 0s 3ms/step - loss: 1426.9231\n",
      "Epoch 108/250\n",
      "22/22 [==============================] - 0s 3ms/step - loss: 1394.7931\n",
      "Epoch 109/250\n",
      "22/22 [==============================] - 0s 3ms/step - loss: 1362.1420\n",
      "Epoch 110/250\n",
      "22/22 [==============================] - 0s 3ms/step - loss: 1317.8093\n",
      "Epoch 111/250\n",
      "22/22 [==============================] - 0s 2ms/step - loss: 1292.5590\n",
      "Epoch 112/250\n",
      "22/22 [==============================] - 0s 3ms/step - loss: 1262.9224\n",
      "Epoch 113/250\n",
      "22/22 [==============================] - 0s 3ms/step - loss: 1232.8834\n",
      "Epoch 114/250\n",
      "22/22 [==============================] - 0s 3ms/step - loss: 1206.0892\n",
      "Epoch 115/250\n",
      "22/22 [==============================] - 0s 3ms/step - loss: 1175.2169\n",
      "Epoch 116/250\n",
      "22/22 [==============================] - 0s 3ms/step - loss: 1142.9941\n",
      "Epoch 117/250\n",
      "22/22 [==============================] - 0s 3ms/step - loss: 1114.5334\n",
      "Epoch 118/250\n",
      "22/22 [==============================] - 0s 3ms/step - loss: 1082.5186\n",
      "Epoch 119/250\n",
      "22/22 [==============================] - 0s 3ms/step - loss: 1053.4221\n",
      "Epoch 120/250\n",
      "22/22 [==============================] - 0s 3ms/step - loss: 1025.1428\n",
      "Epoch 121/250\n",
      "22/22 [==============================] - 0s 3ms/step - loss: 997.5370\n",
      "Epoch 122/250\n",
      "22/22 [==============================] - 0s 3ms/step - loss: 968.6181\n",
      "Epoch 123/250\n",
      "22/22 [==============================] - 0s 3ms/step - loss: 943.1379\n",
      "Epoch 124/250\n",
      "22/22 [==============================] - 0s 3ms/step - loss: 916.1304\n",
      "Epoch 125/250\n",
      "22/22 [==============================] - 0s 3ms/step - loss: 892.1106\n",
      "Epoch 126/250\n",
      "22/22 [==============================] - 0s 3ms/step - loss: 864.8706\n",
      "Epoch 127/250\n",
      "22/22 [==============================] - 0s 2ms/step - loss: 840.1025\n",
      "Epoch 128/250\n",
      "22/22 [==============================] - 0s 3ms/step - loss: 812.9659\n",
      "Epoch 129/250\n",
      "22/22 [==============================] - 0s 3ms/step - loss: 783.8603\n",
      "Epoch 130/250\n",
      "22/22 [==============================] - 0s 3ms/step - loss: 755.7675\n",
      "Epoch 131/250\n",
      "22/22 [==============================] - 0s 3ms/step - loss: 731.9710\n",
      "Epoch 132/250\n",
      "22/22 [==============================] - 0s 3ms/step - loss: 704.2852\n",
      "Epoch 133/250\n",
      "22/22 [==============================] - 0s 3ms/step - loss: 679.0550\n",
      "Epoch 134/250\n",
      "22/22 [==============================] - 0s 3ms/step - loss: 650.3912\n",
      "Epoch 135/250\n",
      "22/22 [==============================] - 0s 3ms/step - loss: 620.8324\n",
      "Epoch 136/250\n",
      "22/22 [==============================] - 0s 3ms/step - loss: 592.5109\n",
      "Epoch 137/250\n",
      "22/22 [==============================] - 0s 2ms/step - loss: 569.1445\n",
      "Epoch 138/250\n",
      "22/22 [==============================] - 0s 2ms/step - loss: 546.0089\n",
      "Epoch 139/250\n",
      "22/22 [==============================] - 0s 3ms/step - loss: 520.8970\n",
      "Epoch 140/250\n",
      "22/22 [==============================] - 0s 2ms/step - loss: 495.6599\n",
      "Epoch 141/250\n",
      "22/22 [==============================] - 0s 2ms/step - loss: 477.3521\n",
      "Epoch 142/250\n",
      "22/22 [==============================] - 0s 2ms/step - loss: 456.8366\n",
      "Epoch 143/250\n",
      "22/22 [==============================] - 0s 919us/step - loss: 436.0320\n",
      "Epoch 144/250\n",
      "22/22 [==============================] - 0s 761us/step - loss: 417.2811\n",
      "Epoch 145/250\n",
      "22/22 [==============================] - 0s 763us/step - loss: 397.7778\n",
      "Epoch 146/250\n",
      "22/22 [==============================] - 0s 1ms/step - loss: 378.9252\n",
      "Epoch 147/250\n",
      "22/22 [==============================] - 0s 1ms/step - loss: 361.8690\n",
      "Epoch 148/250\n",
      "22/22 [==============================] - 0s 1ms/step - loss: 344.3607\n",
      "Epoch 149/250\n",
      "22/22 [==============================] - 0s 1ms/step - loss: 326.1187\n",
      "Epoch 150/250\n",
      "22/22 [==============================] - 0s 1ms/step - loss: 306.9114\n",
      "Epoch 151/250\n",
      "22/22 [==============================] - 0s 1ms/step - loss: 289.0310\n",
      "Epoch 152/250\n",
      "22/22 [==============================] - 0s 1ms/step - loss: 271.9079\n",
      "Epoch 153/250\n",
      "22/22 [==============================] - 0s 1ms/step - loss: 256.5050\n",
      "Epoch 154/250\n",
      "22/22 [==============================] - 0s 761us/step - loss: 242.2583\n",
      "Epoch 155/250\n",
      "22/22 [==============================] - 0s 763us/step - loss: 230.1615\n",
      "Epoch 156/250\n",
      "22/22 [==============================] - 0s 1ms/step - loss: 215.9720\n",
      "Epoch 157/250\n",
      "22/22 [==============================] - 0s 1ms/step - loss: 203.0962\n",
      "Epoch 158/250\n",
      "22/22 [==============================] - 0s 1ms/step - loss: 188.5048\n",
      "Epoch 159/250\n",
      "22/22 [==============================] - 0s 1ms/step - loss: 175.1735\n",
      "Epoch 160/250\n",
      "22/22 [==============================] - 0s 1ms/step - loss: 164.1874\n",
      "Epoch 161/250\n",
      "22/22 [==============================] - 0s 1ms/step - loss: 153.8120\n",
      "Epoch 162/250\n",
      "22/22 [==============================] - 0s 1ms/step - loss: 143.9324\n",
      "Epoch 163/250\n",
      "22/22 [==============================] - 0s 1ms/step - loss: 134.0007\n",
      "Epoch 164/250\n",
      "22/22 [==============================] - 0s 1ms/step - loss: 124.0712\n",
      "Epoch 165/250\n",
      "22/22 [==============================] - 0s 1ms/step - loss: 115.3807\n",
      "Epoch 166/250\n",
      "22/22 [==============================] - 0s 1ms/step - loss: 107.1969\n",
      "Epoch 167/250\n",
      "22/22 [==============================] - 0s 1ms/step - loss: 99.7772\n",
      "Epoch 168/250\n",
      "22/22 [==============================] - 0s 1ms/step - loss: 93.0499\n",
      "Epoch 169/250\n",
      "22/22 [==============================] - 0s 1ms/step - loss: 86.0058\n",
      "Epoch 170/250\n",
      "22/22 [==============================] - 0s 1ms/step - loss: 79.3689\n",
      "Epoch 171/250\n",
      "22/22 [==============================] - 0s 1ms/step - loss: 72.9045\n",
      "Epoch 172/250\n",
      "22/22 [==============================] - 0s 1ms/step - loss: 68.2688\n",
      "Epoch 173/250\n",
      "22/22 [==============================] - 0s 1ms/step - loss: 62.6074\n",
      "Epoch 174/250\n",
      "22/22 [==============================] - 0s 1ms/step - loss: 57.6963\n",
      "Epoch 175/250\n",
      "22/22 [==============================] - 0s 761us/step - loss: 53.9609\n",
      "Epoch 176/250\n",
      "22/22 [==============================] - 0s 761us/step - loss: 48.5195\n",
      "Epoch 177/250\n",
      "22/22 [==============================] - 0s 1ms/step - loss: 45.5141\n",
      "Epoch 178/250\n",
      "22/22 [==============================] - 0s 1ms/step - loss: 42.5095\n",
      "Epoch 179/250\n",
      "22/22 [==============================] - 0s 1ms/step - loss: 40.1755\n",
      "Epoch 180/250\n",
      "22/22 [==============================] - 0s 1ms/step - loss: 37.4910\n",
      "Epoch 181/250\n",
      "22/22 [==============================] - 0s 1ms/step - loss: 35.5995\n",
      "Epoch 182/250\n",
      "22/22 [==============================] - 0s 1ms/step - loss: 33.8775\n",
      "Epoch 183/250\n",
      "22/22 [==============================] - 0s 1ms/step - loss: 32.0872\n",
      "Epoch 184/250\n",
      "22/22 [==============================] - 0s 763us/step - loss: 30.5646\n",
      "Epoch 185/250\n",
      "22/22 [==============================] - 0s 1ms/step - loss: 30.2398\n",
      "Epoch 186/250\n",
      "22/22 [==============================] - 0s 1ms/step - loss: 28.7309\n",
      "Epoch 187/250\n",
      "22/22 [==============================] - 0s 1ms/step - loss: 27.9242\n",
      "Epoch 188/250\n",
      "22/22 [==============================] - 0s 1ms/step - loss: 27.4778\n",
      "Epoch 189/250\n",
      "22/22 [==============================] - 0s 1ms/step - loss: 26.9855\n",
      "Epoch 190/250\n",
      "22/22 [==============================] - 0s 1ms/step - loss: 26.1107\n",
      "Epoch 191/250\n",
      "22/22 [==============================] - 0s 2ms/step - loss: 26.4976\n",
      "Epoch 192/250\n",
      "22/22 [==============================] - 0s 2ms/step - loss: 25.3448\n",
      "Epoch 193/250\n"
     ]
    },
    {
     "name": "stdout",
     "output_type": "stream",
     "text": [
      "22/22 [==============================] - 0s 2ms/step - loss: 25.2852\n",
      "Epoch 194/250\n",
      "22/22 [==============================] - 0s 2ms/step - loss: 25.2738\n",
      "Epoch 195/250\n",
      "22/22 [==============================] - 0s 2ms/step - loss: 25.0870\n",
      "Epoch 196/250\n",
      "22/22 [==============================] - 0s 3ms/step - loss: 25.3380\n",
      "Epoch 197/250\n",
      "22/22 [==============================] - 0s 3ms/step - loss: 24.7669\n",
      "Epoch 198/250\n",
      "22/22 [==============================] - 0s 3ms/step - loss: 25.0461\n",
      "Epoch 199/250\n",
      "22/22 [==============================] - 0s 3ms/step - loss: 25.1324\n",
      "Epoch 200/250\n",
      "22/22 [==============================] - 0s 4ms/step - loss: 24.7822\n",
      "Epoch 201/250\n",
      "22/22 [==============================] - 0s 2ms/step - loss: 24.7074\n",
      "Epoch 202/250\n",
      "22/22 [==============================] - 0s 2ms/step - loss: 24.4225\n",
      "Epoch 203/250\n",
      "22/22 [==============================] - 0s 2ms/step - loss: 24.4077\n",
      "Epoch 204/250\n",
      "22/22 [==============================] - 0s 1ms/step - loss: 24.5908\n",
      "Epoch 205/250\n",
      "22/22 [==============================] - 0s 1ms/step - loss: 24.2004\n",
      "Epoch 206/250\n",
      "22/22 [==============================] - 0s 761us/step - loss: 24.8745\n",
      "Epoch 207/250\n",
      "22/22 [==============================] - 0s 1ms/step - loss: 24.5513\n",
      "Epoch 208/250\n",
      "22/22 [==============================] - 0s 1ms/step - loss: 24.0282\n",
      "Epoch 209/250\n",
      "22/22 [==============================] - 0s 2ms/step - loss: 24.6927\n",
      "Epoch 210/250\n",
      "22/22 [==============================] - 0s 3ms/step - loss: 24.5402\n",
      "Epoch 211/250\n",
      "22/22 [==============================] - 0s 3ms/step - loss: 24.8154\n",
      "Epoch 212/250\n",
      "22/22 [==============================] - 0s 3ms/step - loss: 24.1693\n",
      "Epoch 213/250\n",
      "22/22 [==============================] - 0s 3ms/step - loss: 24.4315\n",
      "Epoch 214/250\n",
      "22/22 [==============================] - 0s 3ms/step - loss: 24.5371\n",
      "Epoch 215/250\n",
      "22/22 [==============================] - 0s 3ms/step - loss: 24.1191\n",
      "Epoch 216/250\n",
      "22/22 [==============================] - 0s 3ms/step - loss: 24.2475\n",
      "Epoch 217/250\n",
      "22/22 [==============================] - 0s 3ms/step - loss: 24.0392\n",
      "Epoch 218/250\n",
      "22/22 [==============================] - 0s 3ms/step - loss: 24.0573\n",
      "Epoch 219/250\n",
      "22/22 [==============================] - 0s 3ms/step - loss: 24.6513\n",
      "Epoch 220/250\n",
      "22/22 [==============================] - 0s 3ms/step - loss: 24.3196\n",
      "Epoch 221/250\n",
      "22/22 [==============================] - 0s 3ms/step - loss: 24.3356\n",
      "Epoch 222/250\n",
      "22/22 [==============================] - 0s 3ms/step - loss: 24.2530\n",
      "Epoch 223/250\n",
      "22/22 [==============================] - 0s 3ms/step - loss: 24.4621\n",
      "Epoch 224/250\n",
      "22/22 [==============================] - 0s 2ms/step - loss: 24.6294\n",
      "Epoch 225/250\n",
      "22/22 [==============================] - 0s 3ms/step - loss: 24.1804\n",
      "Epoch 226/250\n",
      "22/22 [==============================] - 0s 3ms/step - loss: 24.5434\n",
      "Epoch 227/250\n",
      "22/22 [==============================] - 0s 3ms/step - loss: 24.3711\n",
      "Epoch 228/250\n",
      "22/22 [==============================] - 0s 3ms/step - loss: 23.9474\n",
      "Epoch 229/250\n",
      "22/22 [==============================] - 0s 3ms/step - loss: 24.1374\n",
      "Epoch 230/250\n",
      "22/22 [==============================] - 0s 3ms/step - loss: 24.2229\n",
      "Epoch 231/250\n",
      "22/22 [==============================] - 0s 3ms/step - loss: 24.4106\n",
      "Epoch 232/250\n",
      "22/22 [==============================] - 0s 3ms/step - loss: 24.3174\n",
      "Epoch 233/250\n",
      "22/22 [==============================] - 0s 3ms/step - loss: 24.3443\n",
      "Epoch 234/250\n",
      "22/22 [==============================] - 0s 3ms/step - loss: 24.5983\n",
      "Epoch 235/250\n",
      "22/22 [==============================] - 0s 3ms/step - loss: 24.1362\n",
      "Epoch 236/250\n",
      "22/22 [==============================] - 0s 3ms/step - loss: 24.4145\n",
      "Epoch 237/250\n",
      "22/22 [==============================] - 0s 3ms/step - loss: 24.3094\n",
      "Epoch 238/250\n",
      "22/22 [==============================] - 0s 3ms/step - loss: 24.6545\n",
      "Epoch 239/250\n",
      "22/22 [==============================] - 0s 3ms/step - loss: 24.7489\n",
      "Epoch 240/250\n",
      "22/22 [==============================] - 0s 3ms/step - loss: 24.4080\n",
      "Epoch 241/250\n",
      "22/22 [==============================] - 0s 3ms/step - loss: 24.3481\n",
      "Epoch 242/250\n",
      "22/22 [==============================] - 0s 3ms/step - loss: 24.3918\n",
      "Epoch 243/250\n",
      "22/22 [==============================] - 0s 3ms/step - loss: 24.2485\n",
      "Epoch 244/250\n",
      "22/22 [==============================] - 0s 1ms/step - loss: 24.0104\n",
      "Epoch 245/250\n",
      "22/22 [==============================] - 0s 1ms/step - loss: 24.1537\n",
      "Epoch 246/250\n",
      "22/22 [==============================] - 0s 761us/step - loss: 24.6445\n",
      "Epoch 247/250\n",
      "22/22 [==============================] - 0s 1ms/step - loss: 24.3628\n",
      "Epoch 248/250\n",
      "22/22 [==============================] - 0s 1ms/step - loss: 24.5155\n",
      "Epoch 249/250\n",
      "22/22 [==============================] - 0s 1ms/step - loss: 24.3042\n",
      "Epoch 250/250\n",
      "22/22 [==============================] - 0s 2ms/step - loss: 24.6567\n"
     ]
    },
    {
     "data": {
      "text/plain": [
       "<keras.callbacks.History at 0x26fcdef18e0>"
      ]
     },
     "execution_count": 33,
     "metadata": {},
     "output_type": "execute_result"
    }
   ],
   "source": [
    "model.fit(X_train,y_train,epochs=250)"
   ]
  },
  {
   "cell_type": "markdown",
   "id": "cb413b9a",
   "metadata": {},
   "source": [
    "## Evaluation of Model"
   ]
  },
  {
   "cell_type": "code",
   "execution_count": 34,
   "id": "180f6525",
   "metadata": {},
   "outputs": [
    {
     "data": {
      "text/plain": [
       "{'loss': [256678.90625,\n",
       "  256590.71875,\n",
       "  256495.046875,\n",
       "  256386.015625,\n",
       "  256262.171875,\n",
       "  256122.015625,\n",
       "  255963.25,\n",
       "  255782.03125,\n",
       "  255573.59375,\n",
       "  255334.03125,\n",
       "  255064.984375,\n",
       "  254765.125,\n",
       "  254430.015625,\n",
       "  254058.1875,\n",
       "  253647.453125,\n",
       "  253190.703125,\n",
       "  252676.4375,\n",
       "  252089.53125,\n",
       "  251428.28125,\n",
       "  250692.5,\n",
       "  249876.453125,\n",
       "  248975.796875,\n",
       "  247993.25,\n",
       "  246914.5625,\n",
       "  245741.328125,\n",
       "  244459.84375,\n",
       "  243065.921875,\n",
       "  241563.0,\n",
       "  239937.515625,\n",
       "  238186.328125,\n",
       "  236302.578125,\n",
       "  234286.125,\n",
       "  232121.59375,\n",
       "  229808.6875,\n",
       "  227349.125,\n",
       "  224728.828125,\n",
       "  221938.765625,\n",
       "  218986.578125,\n",
       "  215875.265625,\n",
       "  212565.921875,\n",
       "  209087.0,\n",
       "  205415.203125,\n",
       "  201574.515625,\n",
       "  197552.65625,\n",
       "  193331.421875,\n",
       "  188943.984375,\n",
       "  184353.796875,\n",
       "  179553.8125,\n",
       "  174605.703125,\n",
       "  169455.078125,\n",
       "  164127.65625,\n",
       "  158621.125,\n",
       "  152958.515625,\n",
       "  147086.015625,\n",
       "  141111.390625,\n",
       "  134968.875,\n",
       "  128674.1484375,\n",
       "  122296.5859375,\n",
       "  115796.671875,\n",
       "  109214.5625,\n",
       "  102514.84375,\n",
       "  95801.9140625,\n",
       "  89019.9453125,\n",
       "  82241.3828125,\n",
       "  75499.203125,\n",
       "  68818.3203125,\n",
       "  62251.4609375,\n",
       "  55802.765625,\n",
       "  49466.1328125,\n",
       "  43335.55859375,\n",
       "  37437.08984375,\n",
       "  31849.994140625,\n",
       "  26569.716796875,\n",
       "  21673.216796875,\n",
       "  17288.880859375,\n",
       "  13364.4326171875,\n",
       "  9939.1923828125,\n",
       "  7135.18798828125,\n",
       "  4980.5419921875,\n",
       "  3508.774169921875,\n",
       "  2717.052490234375,\n",
       "  2415.542236328125,\n",
       "  2342.584716796875,\n",
       "  2299.683349609375,\n",
       "  2257.80517578125,\n",
       "  2214.06884765625,\n",
       "  2177.64404296875,\n",
       "  2132.717041015625,\n",
       "  2092.8095703125,\n",
       "  2056.97509765625,\n",
       "  2018.2689208984375,\n",
       "  1977.36767578125,\n",
       "  1937.4417724609375,\n",
       "  1900.8511962890625,\n",
       "  1862.3121337890625,\n",
       "  1829.133056640625,\n",
       "  1789.1181640625,\n",
       "  1750.7010498046875,\n",
       "  1715.79443359375,\n",
       "  1681.5626220703125,\n",
       "  1642.1953125,\n",
       "  1602.8526611328125,\n",
       "  1570.3321533203125,\n",
       "  1530.56591796875,\n",
       "  1488.6939697265625,\n",
       "  1463.8145751953125,\n",
       "  1426.923095703125,\n",
       "  1394.7930908203125,\n",
       "  1362.1419677734375,\n",
       "  1317.809326171875,\n",
       "  1292.5589599609375,\n",
       "  1262.92236328125,\n",
       "  1232.8834228515625,\n",
       "  1206.0892333984375,\n",
       "  1175.2169189453125,\n",
       "  1142.994140625,\n",
       "  1114.533447265625,\n",
       "  1082.5185546875,\n",
       "  1053.422119140625,\n",
       "  1025.142822265625,\n",
       "  997.5370483398438,\n",
       "  968.6181030273438,\n",
       "  943.1378784179688,\n",
       "  916.1304321289062,\n",
       "  892.110595703125,\n",
       "  864.87060546875,\n",
       "  840.1024780273438,\n",
       "  812.9658813476562,\n",
       "  783.8602905273438,\n",
       "  755.7675170898438,\n",
       "  731.9710083007812,\n",
       "  704.28515625,\n",
       "  679.0549926757812,\n",
       "  650.3912353515625,\n",
       "  620.8323974609375,\n",
       "  592.5108642578125,\n",
       "  569.14453125,\n",
       "  546.0089111328125,\n",
       "  520.8970336914062,\n",
       "  495.6599426269531,\n",
       "  477.3521423339844,\n",
       "  456.83660888671875,\n",
       "  436.0319519042969,\n",
       "  417.28106689453125,\n",
       "  397.77777099609375,\n",
       "  378.92523193359375,\n",
       "  361.8689880371094,\n",
       "  344.3606872558594,\n",
       "  326.11865234375,\n",
       "  306.91143798828125,\n",
       "  289.0310363769531,\n",
       "  271.90789794921875,\n",
       "  256.5050354003906,\n",
       "  242.25828552246094,\n",
       "  230.1615447998047,\n",
       "  215.97198486328125,\n",
       "  203.09622192382812,\n",
       "  188.5048065185547,\n",
       "  175.17347717285156,\n",
       "  164.18736267089844,\n",
       "  153.81202697753906,\n",
       "  143.932373046875,\n",
       "  134.000732421875,\n",
       "  124.07115936279297,\n",
       "  115.38074493408203,\n",
       "  107.19688415527344,\n",
       "  99.77717590332031,\n",
       "  93.04988098144531,\n",
       "  86.00578308105469,\n",
       "  79.36888122558594,\n",
       "  72.90447235107422,\n",
       "  68.26878356933594,\n",
       "  62.60744857788086,\n",
       "  57.69633865356445,\n",
       "  53.96086883544922,\n",
       "  48.51947021484375,\n",
       "  45.51408004760742,\n",
       "  42.50953674316406,\n",
       "  40.175453186035156,\n",
       "  37.49098587036133,\n",
       "  35.59949493408203,\n",
       "  33.877532958984375,\n",
       "  32.08721160888672,\n",
       "  30.56462860107422,\n",
       "  30.239818572998047,\n",
       "  28.730913162231445,\n",
       "  27.924230575561523,\n",
       "  27.477779388427734,\n",
       "  26.985485076904297,\n",
       "  26.110652923583984,\n",
       "  26.497631072998047,\n",
       "  25.344812393188477,\n",
       "  25.285198211669922,\n",
       "  25.27383041381836,\n",
       "  25.086973190307617,\n",
       "  25.338043212890625,\n",
       "  24.766916275024414,\n",
       "  25.04607391357422,\n",
       "  25.132421493530273,\n",
       "  24.782203674316406,\n",
       "  24.70742416381836,\n",
       "  24.42253303527832,\n",
       "  24.407670974731445,\n",
       "  24.5908145904541,\n",
       "  24.200410842895508,\n",
       "  24.87450408935547,\n",
       "  24.551252365112305,\n",
       "  24.028175354003906,\n",
       "  24.69269561767578,\n",
       "  24.540206909179688,\n",
       "  24.815418243408203,\n",
       "  24.16927146911621,\n",
       "  24.431501388549805,\n",
       "  24.537090301513672,\n",
       "  24.1191349029541,\n",
       "  24.247493743896484,\n",
       "  24.03920555114746,\n",
       "  24.057340621948242,\n",
       "  24.651260375976562,\n",
       "  24.319595336914062,\n",
       "  24.33561897277832,\n",
       "  24.253002166748047,\n",
       "  24.462066650390625,\n",
       "  24.629352569580078,\n",
       "  24.180360794067383,\n",
       "  24.543384552001953,\n",
       "  24.371076583862305,\n",
       "  23.9473819732666,\n",
       "  24.13735580444336,\n",
       "  24.222881317138672,\n",
       "  24.410633087158203,\n",
       "  24.317401885986328,\n",
       "  24.344255447387695,\n",
       "  24.598318099975586,\n",
       "  24.13623046875,\n",
       "  24.414508819580078,\n",
       "  24.309396743774414,\n",
       "  24.654508590698242,\n",
       "  24.748897552490234,\n",
       "  24.40795135498047,\n",
       "  24.348054885864258,\n",
       "  24.391822814941406,\n",
       "  24.24846839904785,\n",
       "  24.010435104370117,\n",
       "  24.153663635253906,\n",
       "  24.644502639770508,\n",
       "  24.3627872467041,\n",
       "  24.515451431274414,\n",
       "  24.30419921875,\n",
       "  24.65666389465332]}"
      ]
     },
     "execution_count": 34,
     "metadata": {},
     "output_type": "execute_result"
    }
   ],
   "source": [
    "model.history.history"
   ]
  },
  {
   "cell_type": "code",
   "execution_count": 35,
   "id": "7c81e682",
   "metadata": {},
   "outputs": [],
   "source": [
    "loss = model.history.history['loss']"
   ]
  },
  {
   "cell_type": "code",
   "execution_count": 36,
   "id": "7e6fbe5a",
   "metadata": {},
   "outputs": [
    {
     "data": {
      "text/plain": [
       "[256678.90625,\n",
       " 256590.71875,\n",
       " 256495.046875,\n",
       " 256386.015625,\n",
       " 256262.171875,\n",
       " 256122.015625,\n",
       " 255963.25,\n",
       " 255782.03125,\n",
       " 255573.59375,\n",
       " 255334.03125,\n",
       " 255064.984375,\n",
       " 254765.125,\n",
       " 254430.015625,\n",
       " 254058.1875,\n",
       " 253647.453125,\n",
       " 253190.703125,\n",
       " 252676.4375,\n",
       " 252089.53125,\n",
       " 251428.28125,\n",
       " 250692.5,\n",
       " 249876.453125,\n",
       " 248975.796875,\n",
       " 247993.25,\n",
       " 246914.5625,\n",
       " 245741.328125,\n",
       " 244459.84375,\n",
       " 243065.921875,\n",
       " 241563.0,\n",
       " 239937.515625,\n",
       " 238186.328125,\n",
       " 236302.578125,\n",
       " 234286.125,\n",
       " 232121.59375,\n",
       " 229808.6875,\n",
       " 227349.125,\n",
       " 224728.828125,\n",
       " 221938.765625,\n",
       " 218986.578125,\n",
       " 215875.265625,\n",
       " 212565.921875,\n",
       " 209087.0,\n",
       " 205415.203125,\n",
       " 201574.515625,\n",
       " 197552.65625,\n",
       " 193331.421875,\n",
       " 188943.984375,\n",
       " 184353.796875,\n",
       " 179553.8125,\n",
       " 174605.703125,\n",
       " 169455.078125,\n",
       " 164127.65625,\n",
       " 158621.125,\n",
       " 152958.515625,\n",
       " 147086.015625,\n",
       " 141111.390625,\n",
       " 134968.875,\n",
       " 128674.1484375,\n",
       " 122296.5859375,\n",
       " 115796.671875,\n",
       " 109214.5625,\n",
       " 102514.84375,\n",
       " 95801.9140625,\n",
       " 89019.9453125,\n",
       " 82241.3828125,\n",
       " 75499.203125,\n",
       " 68818.3203125,\n",
       " 62251.4609375,\n",
       " 55802.765625,\n",
       " 49466.1328125,\n",
       " 43335.55859375,\n",
       " 37437.08984375,\n",
       " 31849.994140625,\n",
       " 26569.716796875,\n",
       " 21673.216796875,\n",
       " 17288.880859375,\n",
       " 13364.4326171875,\n",
       " 9939.1923828125,\n",
       " 7135.18798828125,\n",
       " 4980.5419921875,\n",
       " 3508.774169921875,\n",
       " 2717.052490234375,\n",
       " 2415.542236328125,\n",
       " 2342.584716796875,\n",
       " 2299.683349609375,\n",
       " 2257.80517578125,\n",
       " 2214.06884765625,\n",
       " 2177.64404296875,\n",
       " 2132.717041015625,\n",
       " 2092.8095703125,\n",
       " 2056.97509765625,\n",
       " 2018.2689208984375,\n",
       " 1977.36767578125,\n",
       " 1937.4417724609375,\n",
       " 1900.8511962890625,\n",
       " 1862.3121337890625,\n",
       " 1829.133056640625,\n",
       " 1789.1181640625,\n",
       " 1750.7010498046875,\n",
       " 1715.79443359375,\n",
       " 1681.5626220703125,\n",
       " 1642.1953125,\n",
       " 1602.8526611328125,\n",
       " 1570.3321533203125,\n",
       " 1530.56591796875,\n",
       " 1488.6939697265625,\n",
       " 1463.8145751953125,\n",
       " 1426.923095703125,\n",
       " 1394.7930908203125,\n",
       " 1362.1419677734375,\n",
       " 1317.809326171875,\n",
       " 1292.5589599609375,\n",
       " 1262.92236328125,\n",
       " 1232.8834228515625,\n",
       " 1206.0892333984375,\n",
       " 1175.2169189453125,\n",
       " 1142.994140625,\n",
       " 1114.533447265625,\n",
       " 1082.5185546875,\n",
       " 1053.422119140625,\n",
       " 1025.142822265625,\n",
       " 997.5370483398438,\n",
       " 968.6181030273438,\n",
       " 943.1378784179688,\n",
       " 916.1304321289062,\n",
       " 892.110595703125,\n",
       " 864.87060546875,\n",
       " 840.1024780273438,\n",
       " 812.9658813476562,\n",
       " 783.8602905273438,\n",
       " 755.7675170898438,\n",
       " 731.9710083007812,\n",
       " 704.28515625,\n",
       " 679.0549926757812,\n",
       " 650.3912353515625,\n",
       " 620.8323974609375,\n",
       " 592.5108642578125,\n",
       " 569.14453125,\n",
       " 546.0089111328125,\n",
       " 520.8970336914062,\n",
       " 495.6599426269531,\n",
       " 477.3521423339844,\n",
       " 456.83660888671875,\n",
       " 436.0319519042969,\n",
       " 417.28106689453125,\n",
       " 397.77777099609375,\n",
       " 378.92523193359375,\n",
       " 361.8689880371094,\n",
       " 344.3606872558594,\n",
       " 326.11865234375,\n",
       " 306.91143798828125,\n",
       " 289.0310363769531,\n",
       " 271.90789794921875,\n",
       " 256.5050354003906,\n",
       " 242.25828552246094,\n",
       " 230.1615447998047,\n",
       " 215.97198486328125,\n",
       " 203.09622192382812,\n",
       " 188.5048065185547,\n",
       " 175.17347717285156,\n",
       " 164.18736267089844,\n",
       " 153.81202697753906,\n",
       " 143.932373046875,\n",
       " 134.000732421875,\n",
       " 124.07115936279297,\n",
       " 115.38074493408203,\n",
       " 107.19688415527344,\n",
       " 99.77717590332031,\n",
       " 93.04988098144531,\n",
       " 86.00578308105469,\n",
       " 79.36888122558594,\n",
       " 72.90447235107422,\n",
       " 68.26878356933594,\n",
       " 62.60744857788086,\n",
       " 57.69633865356445,\n",
       " 53.96086883544922,\n",
       " 48.51947021484375,\n",
       " 45.51408004760742,\n",
       " 42.50953674316406,\n",
       " 40.175453186035156,\n",
       " 37.49098587036133,\n",
       " 35.59949493408203,\n",
       " 33.877532958984375,\n",
       " 32.08721160888672,\n",
       " 30.56462860107422,\n",
       " 30.239818572998047,\n",
       " 28.730913162231445,\n",
       " 27.924230575561523,\n",
       " 27.477779388427734,\n",
       " 26.985485076904297,\n",
       " 26.110652923583984,\n",
       " 26.497631072998047,\n",
       " 25.344812393188477,\n",
       " 25.285198211669922,\n",
       " 25.27383041381836,\n",
       " 25.086973190307617,\n",
       " 25.338043212890625,\n",
       " 24.766916275024414,\n",
       " 25.04607391357422,\n",
       " 25.132421493530273,\n",
       " 24.782203674316406,\n",
       " 24.70742416381836,\n",
       " 24.42253303527832,\n",
       " 24.407670974731445,\n",
       " 24.5908145904541,\n",
       " 24.200410842895508,\n",
       " 24.87450408935547,\n",
       " 24.551252365112305,\n",
       " 24.028175354003906,\n",
       " 24.69269561767578,\n",
       " 24.540206909179688,\n",
       " 24.815418243408203,\n",
       " 24.16927146911621,\n",
       " 24.431501388549805,\n",
       " 24.537090301513672,\n",
       " 24.1191349029541,\n",
       " 24.247493743896484,\n",
       " 24.03920555114746,\n",
       " 24.057340621948242,\n",
       " 24.651260375976562,\n",
       " 24.319595336914062,\n",
       " 24.33561897277832,\n",
       " 24.253002166748047,\n",
       " 24.462066650390625,\n",
       " 24.629352569580078,\n",
       " 24.180360794067383,\n",
       " 24.543384552001953,\n",
       " 24.371076583862305,\n",
       " 23.9473819732666,\n",
       " 24.13735580444336,\n",
       " 24.222881317138672,\n",
       " 24.410633087158203,\n",
       " 24.317401885986328,\n",
       " 24.344255447387695,\n",
       " 24.598318099975586,\n",
       " 24.13623046875,\n",
       " 24.414508819580078,\n",
       " 24.309396743774414,\n",
       " 24.654508590698242,\n",
       " 24.748897552490234,\n",
       " 24.40795135498047,\n",
       " 24.348054885864258,\n",
       " 24.391822814941406,\n",
       " 24.24846839904785,\n",
       " 24.010435104370117,\n",
       " 24.153663635253906,\n",
       " 24.644502639770508,\n",
       " 24.3627872467041,\n",
       " 24.515451431274414,\n",
       " 24.30419921875,\n",
       " 24.65666389465332]"
      ]
     },
     "execution_count": 36,
     "metadata": {},
     "output_type": "execute_result"
    }
   ],
   "source": [
    "loss"
   ]
  },
  {
   "cell_type": "markdown",
   "id": "055c0f47",
   "metadata": {},
   "source": [
    "## Plotting"
   ]
  },
  {
   "cell_type": "code",
   "execution_count": 37,
   "id": "c88285d3",
   "metadata": {},
   "outputs": [
    {
     "data": {
      "image/png": "[encoded data removed]",
      "text/plain": [
       "<Figure size 432x288 with 1 Axes>"
      ]
     },
     "metadata": {
      "needs_background": "light"
     },
     "output_type": "display_data"
    }
   ],
   "source": [
    "sns.lineplot(x=range(len(loss)),y=loss)\n",
    "plt.title(\"Training Loss per Epoch\");"
   ]
  },
  {
   "cell_type": "markdown",
   "id": "ac119b33",
   "metadata": {},
   "source": [
    "## Comparing final evaluation(MSE) on Training set and Test set "
   ]
  },
  {
   "cell_type": "code",
   "execution_count": 38,
   "id": "a3f61413",
   "metadata": {},
   "outputs": [
    {
     "data": {
      "text/plain": [
       "['loss']"
      ]
     },
     "execution_count": 38,
     "metadata": {},
     "output_type": "execute_result"
    }
   ],
   "source": [
    "model.metrics_names"
   ]
  },
  {
   "cell_type": "code",
   "execution_count": 39,
   "id": "94380dec",
   "metadata": {},
   "outputs": [],
   "source": [
    "training_score = model.evaluate(X_train,y_train,verbose=0)\n",
    "test_score = model.evaluate(X_test,y_test,verbose=0)"
   ]
  },
  {
   "cell_type": "code",
   "execution_count": 40,
   "id": "933405db",
   "metadata": {},
   "outputs": [
    {
     "data": {
      "text/plain": [
       "23.982614517211914"
      ]
     },
     "execution_count": 40,
     "metadata": {},
     "output_type": "execute_result"
    }
   ],
   "source": [
    "training_score"
   ]
  },
  {
   "cell_type": "code",
   "execution_count": 41,
   "id": "1091d5e2",
   "metadata": {},
   "outputs": [
    {
     "data": {
      "text/plain": [
       "25.861642837524414"
      ]
     },
     "execution_count": 41,
     "metadata": {},
     "output_type": "execute_result"
    }
   ],
   "source": [
    "test_score"
   ]
  },
  {
   "cell_type": "markdown",
   "id": "b99cacb7",
   "metadata": {},
   "source": [
    "## Predictions"
   ]
  },
  {
   "cell_type": "code",
   "execution_count": 42,
   "id": "ebcfbda1",
   "metadata": {},
   "outputs": [],
   "source": [
    "test_predictions = model.predict(X_test)"
   ]
  },
  {
   "cell_type": "code",
   "execution_count": 43,
   "id": "d8c55244",
   "metadata": {},
   "outputs": [
    {
     "data": {
      "text/plain": [
       "array([[405.91177],\n",
       "       [624.6073 ],\n",
       "       [593.13654],\n",
       "       [573.1865 ],\n",
       "       [367.1545 ],\n",
       "       [580.15576],\n",
       "       [515.8939 ],\n",
       "       [459.8417 ],\n",
       "       [550.1587 ],\n",
       "       [448.23065],\n",
       "       [612.8298 ],\n",
       "       [549.86633],\n",
       "       [419.74985],\n",
       "       [409.49802],\n",
       "       [652.3717 ],\n",
       "       [437.98834],\n",
       "       [509.28946],\n",
       "       [661.06946],\n",
       "       [663.7293 ],\n",
       "       [566.489  ],\n",
       "       [334.70206],\n",
       "       [445.53653],\n",
       "       [383.1002 ],\n",
       "       [379.32324],\n",
       "       [567.5465 ],\n",
       "       [611.6311 ],\n",
       "       [533.2719 ],\n",
       "       [428.52914],\n",
       "       [656.57434],\n",
       "       [414.72372],\n",
       "       [443.33676],\n",
       "       [485.91336],\n",
       "       [439.10477],\n",
       "       [683.0332 ],\n",
       "       [425.4233 ],\n",
       "       [418.33163],\n",
       "       [502.75266],\n",
       "       [551.3948 ],\n",
       "       [510.56522],\n",
       "       [395.9543 ],\n",
       "       [619.6503 ],\n",
       "       [417.2754 ],\n",
       "       [605.4795 ],\n",
       "       [446.66904],\n",
       "       [502.80893],\n",
       "       [582.70435],\n",
       "       [670.1663 ],\n",
       "       [491.20114],\n",
       "       [319.02658],\n",
       "       [486.2129 ],\n",
       "       [518.11646],\n",
       "       [382.36862],\n",
       "       [542.8143 ],\n",
       "       [409.22427],\n",
       "       [642.6265 ],\n",
       "       [491.8741 ],\n",
       "       [629.01825],\n",
       "       [628.08075],\n",
       "       [447.77957],\n",
       "       [485.48703],\n",
       "       [491.93356],\n",
       "       [475.30624],\n",
       "       [683.9796 ],\n",
       "       [403.9064 ],\n",
       "       [702.3643 ],\n",
       "       [587.39154],\n",
       "       [584.10913],\n",
       "       [538.752  ],\n",
       "       [485.36136],\n",
       "       [517.4105 ],\n",
       "       [361.75845],\n",
       "       [541.6562 ],\n",
       "       [571.59   ],\n",
       "       [529.3365 ],\n",
       "       [454.44504],\n",
       "       [532.02386],\n",
       "       [508.04355],\n",
       "       [444.03644],\n",
       "       [544.27356],\n",
       "       [641.8616 ],\n",
       "       [466.75766],\n",
       "       [568.2156 ],\n",
       "       [691.9764 ],\n",
       "       [459.46884],\n",
       "       [710.1558 ],\n",
       "       [473.45944],\n",
       "       [403.90106],\n",
       "       [586.09564],\n",
       "       [437.44748],\n",
       "       [489.76013],\n",
       "       [618.0957 ],\n",
       "       [440.1726 ],\n",
       "       [456.05508],\n",
       "       [435.94534],\n",
       "       [507.74432],\n",
       "       [609.4879 ],\n",
       "       [322.0831 ],\n",
       "       [436.96005],\n",
       "       [537.2363 ],\n",
       "       [519.4913 ],\n",
       "       [606.08514],\n",
       "       [526.3181 ],\n",
       "       [334.6157 ],\n",
       "       [577.14056],\n",
       "       [432.4628 ],\n",
       "       [563.5029 ],\n",
       "       [514.25256],\n",
       "       [391.68106],\n",
       "       [567.20624],\n",
       "       [455.52615],\n",
       "       [449.19968],\n",
       "       [642.069  ],\n",
       "       [525.2462 ],\n",
       "       [551.6115 ],\n",
       "       [418.345  ],\n",
       "       [479.51764],\n",
       "       [587.51984],\n",
       "       [668.53754],\n",
       "       [701.6911 ],\n",
       "       [660.5387 ],\n",
       "       [561.50964],\n",
       "       [504.00168],\n",
       "       [390.9509 ],\n",
       "       [281.71368],\n",
       "       [480.39352],\n",
       "       [617.4305 ],\n",
       "       [373.8751 ],\n",
       "       [513.1071 ],\n",
       "       [511.8705 ],\n",
       "       [494.29337],\n",
       "       [481.24036],\n",
       "       [424.4547 ],\n",
       "       [494.26523],\n",
       "       [472.23413],\n",
       "       [601.47473],\n",
       "       [574.55396],\n",
       "       [415.61215],\n",
       "       [631.73584],\n",
       "       [467.1246 ],\n",
       "       [565.29083],\n",
       "       [406.31473],\n",
       "       [533.06274],\n",
       "       [573.60657],\n",
       "       [357.60617],\n",
       "       [550.7597 ],\n",
       "       [604.38995],\n",
       "       [384.8866 ],\n",
       "       [543.30115],\n",
       "       [563.54504],\n",
       "       [453.61084],\n",
       "       [633.2978 ],\n",
       "       [372.8131 ],\n",
       "       [475.02243],\n",
       "       [529.7499 ],\n",
       "       [372.86008],\n",
       "       [461.9799 ],\n",
       "       [437.00345],\n",
       "       [499.31427],\n",
       "       [346.6204 ],\n",
       "       [395.8983 ],\n",
       "       [605.61945],\n",
       "       [507.49042],\n",
       "       [469.3724 ],\n",
       "       [491.16995],\n",
       "       [536.1753 ],\n",
       "       [345.0018 ],\n",
       "       [513.17285],\n",
       "       [251.11357],\n",
       "       [504.91876],\n",
       "       [542.00916],\n",
       "       [490.17175],\n",
       "       [471.85156],\n",
       "       [393.15036],\n",
       "       [416.90527],\n",
       "       [550.50183],\n",
       "       [476.56683],\n",
       "       [580.9349 ],\n",
       "       [490.57312],\n",
       "       [602.01556],\n",
       "       [547.9167 ],\n",
       "       [542.87256],\n",
       "       [501.40634],\n",
       "       [646.95984],\n",
       "       [561.36444],\n",
       "       [578.92224],\n",
       "       [444.83926],\n",
       "       [416.1688 ],\n",
       "       [420.6957 ],\n",
       "       [570.0891 ],\n",
       "       [610.0595 ],\n",
       "       [438.4531 ],\n",
       "       [488.76962],\n",
       "       [588.7555 ],\n",
       "       [526.2578 ],\n",
       "       [357.89392],\n",
       "       [646.5402 ],\n",
       "       [528.9152 ],\n",
       "       [337.701  ],\n",
       "       [493.5001 ],\n",
       "       [410.7941 ],\n",
       "       [607.6442 ],\n",
       "       [347.04184],\n",
       "       [523.2876 ],\n",
       "       [405.3171 ],\n",
       "       [258.7415 ],\n",
       "       [520.7605 ],\n",
       "       [341.3926 ],\n",
       "       [362.58707],\n",
       "       [577.39984],\n",
       "       [417.32706],\n",
       "       [551.9157 ],\n",
       "       [521.95123],\n",
       "       [511.60446],\n",
       "       [325.21442],\n",
       "       [404.7775 ],\n",
       "       [603.4347 ],\n",
       "       [618.9265 ],\n",
       "       [604.3064 ],\n",
       "       [567.25104],\n",
       "       [474.19598],\n",
       "       [461.11084],\n",
       "       [509.27304],\n",
       "       [446.61563],\n",
       "       [512.16077],\n",
       "       [503.20682],\n",
       "       [400.75638],\n",
       "       [606.5697 ],\n",
       "       [258.46204],\n",
       "       [629.34045],\n",
       "       [590.1419 ],\n",
       "       [327.61514],\n",
       "       [480.33023],\n",
       "       [596.36554],\n",
       "       [378.9695 ],\n",
       "       [460.89566],\n",
       "       [325.4728 ],\n",
       "       [519.5552 ],\n",
       "       [410.25568],\n",
       "       [557.18884],\n",
       "       [643.0065 ],\n",
       "       [537.72314],\n",
       "       [504.00763],\n",
       "       [636.1402 ],\n",
       "       [516.0963 ],\n",
       "       [532.59705],\n",
       "       [519.68604],\n",
       "       [458.17587],\n",
       "       [506.6638 ],\n",
       "       [461.8492 ],\n",
       "       [592.7135 ],\n",
       "       [466.66464],\n",
       "       [427.85464],\n",
       "       [542.501  ],\n",
       "       [494.6121 ],\n",
       "       [680.85754],\n",
       "       [373.3282 ],\n",
       "       [552.5405 ],\n",
       "       [578.9499 ],\n",
       "       [434.65225],\n",
       "       [543.936  ],\n",
       "       [587.00037],\n",
       "       [580.2346 ],\n",
       "       [722.2181 ],\n",
       "       [433.4268 ],\n",
       "       [399.20914],\n",
       "       [314.44846],\n",
       "       [448.9982 ],\n",
       "       [388.6799 ],\n",
       "       [544.1161 ],\n",
       "       [523.6052 ],\n",
       "       [565.44495],\n",
       "       [448.73016],\n",
       "       [535.3033 ],\n",
       "       [382.36935],\n",
       "       [502.3417 ],\n",
       "       [638.2104 ],\n",
       "       [497.3663 ],\n",
       "       [569.354  ],\n",
       "       [470.87143],\n",
       "       [273.66614],\n",
       "       [518.2218 ],\n",
       "       [622.47327],\n",
       "       [351.0274 ],\n",
       "       [451.16458],\n",
       "       [500.11002],\n",
       "       [543.885  ],\n",
       "       [612.87976],\n",
       "       [388.76767],\n",
       "       [450.11673],\n",
       "       [483.19952],\n",
       "       [599.33997],\n",
       "       [500.20114],\n",
       "       [321.91168],\n",
       "       [556.08105],\n",
       "       [445.33926],\n",
       "       [529.9175 ],\n",
       "       [516.16986],\n",
       "       [610.69165],\n",
       "       [417.60333],\n",
       "       [411.5073 ]], dtype=float32)"
      ]
     },
     "execution_count": 43,
     "metadata": {},
     "output_type": "execute_result"
    }
   ],
   "source": [
    "test_predictions"
   ]
  },
  {
   "cell_type": "code",
   "execution_count": 44,
   "id": "fe58e4a9",
   "metadata": {},
   "outputs": [],
   "source": [
    "pred_df = pd.DataFrame(y_test,columns=['Test Y'])"
   ]
  },
  {
   "cell_type": "code",
   "execution_count": 45,
   "id": "75466911",
   "metadata": {},
   "outputs": [
    {
     "data": {
      "text/html": [
       "<div>\n",
       "<style scoped>\n",
       "    .dataframe tbody tr th:only-of-type {\n",
       "        vertical-align: middle;\n",
       "    }\n",
       "\n",
       "    .dataframe tbody tr th {\n",
       "        vertical-align: top;\n",
       "    }\n",
       "\n",
       "    .dataframe thead th {\n",
       "        text-align: right;\n",
       "    }\n",
       "</style>\n",
       "<table border=\"1\" class=\"dataframe\">\n",
       "  <thead>\n",
       "    <tr style=\"text-align: right;\">\n",
       "      <th></th>\n",
       "      <th>Test Y</th>\n",
       "    </tr>\n",
       "  </thead>\n",
       "  <tbody>\n",
       "    <tr>\n",
       "      <th>0</th>\n",
       "      <td>402.296319</td>\n",
       "    </tr>\n",
       "    <tr>\n",
       "      <th>1</th>\n",
       "      <td>624.156198</td>\n",
       "    </tr>\n",
       "    <tr>\n",
       "      <th>2</th>\n",
       "      <td>582.455066</td>\n",
       "    </tr>\n",
       "    <tr>\n",
       "      <th>3</th>\n",
       "      <td>578.588606</td>\n",
       "    </tr>\n",
       "    <tr>\n",
       "      <th>4</th>\n",
       "      <td>371.224104</td>\n",
       "    </tr>\n",
       "    <tr>\n",
       "      <th>...</th>\n",
       "      <td>...</td>\n",
       "    </tr>\n",
       "    <tr>\n",
       "      <th>295</th>\n",
       "      <td>525.704657</td>\n",
       "    </tr>\n",
       "    <tr>\n",
       "      <th>296</th>\n",
       "      <td>502.909473</td>\n",
       "    </tr>\n",
       "    <tr>\n",
       "      <th>297</th>\n",
       "      <td>612.727910</td>\n",
       "    </tr>\n",
       "    <tr>\n",
       "      <th>298</th>\n",
       "      <td>417.569725</td>\n",
       "    </tr>\n",
       "    <tr>\n",
       "      <th>299</th>\n",
       "      <td>410.538250</td>\n",
       "    </tr>\n",
       "  </tbody>\n",
       "</table>\n",
       "<p>300 rows × 1 columns</p>\n",
       "</div>"
      ],
      "text/plain": [
       "         Test Y\n",
       "0    402.296319\n",
       "1    624.156198\n",
       "2    582.455066\n",
       "3    578.588606\n",
       "4    371.224104\n",
       "..          ...\n",
       "295  525.704657\n",
       "296  502.909473\n",
       "297  612.727910\n",
       "298  417.569725\n",
       "299  410.538250\n",
       "\n",
       "[300 rows x 1 columns]"
      ]
     },
     "execution_count": 45,
     "metadata": {},
     "output_type": "execute_result"
    }
   ],
   "source": [
    "pred_df"
   ]
  },
  {
   "cell_type": "code",
   "execution_count": 46,
   "id": "cee63ada",
   "metadata": {},
   "outputs": [],
   "source": [
    "test_predictions = pd.Series(test_predictions.reshape(300,))"
   ]
  },
  {
   "cell_type": "code",
   "execution_count": 47,
   "id": "aa8829bc",
   "metadata": {},
   "outputs": [
    {
     "data": {
      "text/plain": [
       "0      405.911774\n",
       "1      624.607300\n",
       "2      593.136536\n",
       "3      573.186523\n",
       "4      367.154510\n",
       "          ...    \n",
       "295    529.917480\n",
       "296    516.169861\n",
       "297    610.691650\n",
       "298    417.603333\n",
       "299    411.507294\n",
       "Length: 300, dtype: float32"
      ]
     },
     "execution_count": 47,
     "metadata": {},
     "output_type": "execute_result"
    }
   ],
   "source": [
    "test_predictions"
   ]
  },
  {
   "cell_type": "code",
   "execution_count": 48,
   "id": "c1163b17",
   "metadata": {},
   "outputs": [],
   "source": [
    "pred_df = pd.concat([pred_df,test_predictions],axis=1)"
   ]
  },
  {
   "cell_type": "code",
   "execution_count": 49,
   "id": "cbed0e0f",
   "metadata": {},
   "outputs": [],
   "source": [
    "pred_df.columns = ['Test Y','Model Predictions']"
   ]
  },
  {
   "cell_type": "code",
   "execution_count": 50,
   "id": "b5d3c9ce",
   "metadata": {},
   "outputs": [
    {
     "data": {
      "text/html": [
       "<div>\n",
       "<style scoped>\n",
       "    .dataframe tbody tr th:only-of-type {\n",
       "        vertical-align: middle;\n",
       "    }\n",
       "\n",
       "    .dataframe tbody tr th {\n",
       "        vertical-align: top;\n",
       "    }\n",
       "\n",
       "    .dataframe thead th {\n",
       "        text-align: right;\n",
       "    }\n",
       "</style>\n",
       "<table border=\"1\" class=\"dataframe\">\n",
       "  <thead>\n",
       "    <tr style=\"text-align: right;\">\n",
       "      <th></th>\n",
       "      <th>Test Y</th>\n",
       "      <th>Model Predictions</th>\n",
       "    </tr>\n",
       "  </thead>\n",
       "  <tbody>\n",
       "    <tr>\n",
       "      <th>0</th>\n",
       "      <td>402.296319</td>\n",
       "      <td>405.911774</td>\n",
       "    </tr>\n",
       "    <tr>\n",
       "      <th>1</th>\n",
       "      <td>624.156198</td>\n",
       "      <td>624.607300</td>\n",
       "    </tr>\n",
       "    <tr>\n",
       "      <th>2</th>\n",
       "      <td>582.455066</td>\n",
       "      <td>593.136536</td>\n",
       "    </tr>\n",
       "    <tr>\n",
       "      <th>3</th>\n",
       "      <td>578.588606</td>\n",
       "      <td>573.186523</td>\n",
       "    </tr>\n",
       "    <tr>\n",
       "      <th>4</th>\n",
       "      <td>371.224104</td>\n",
       "      <td>367.154510</td>\n",
       "    </tr>\n",
       "    <tr>\n",
       "      <th>...</th>\n",
       "      <td>...</td>\n",
       "      <td>...</td>\n",
       "    </tr>\n",
       "    <tr>\n",
       "      <th>295</th>\n",
       "      <td>525.704657</td>\n",
       "      <td>529.917480</td>\n",
       "    </tr>\n",
       "    <tr>\n",
       "      <th>296</th>\n",
       "      <td>502.909473</td>\n",
       "      <td>516.169861</td>\n",
       "    </tr>\n",
       "    <tr>\n",
       "      <th>297</th>\n",
       "      <td>612.727910</td>\n",
       "      <td>610.691650</td>\n",
       "    </tr>\n",
       "    <tr>\n",
       "      <th>298</th>\n",
       "      <td>417.569725</td>\n",
       "      <td>417.603333</td>\n",
       "    </tr>\n",
       "    <tr>\n",
       "      <th>299</th>\n",
       "      <td>410.538250</td>\n",
       "      <td>411.507294</td>\n",
       "    </tr>\n",
       "  </tbody>\n",
       "</table>\n",
       "<p>300 rows × 2 columns</p>\n",
       "</div>"
      ],
      "text/plain": [
       "         Test Y  Model Predictions\n",
       "0    402.296319         405.911774\n",
       "1    624.156198         624.607300\n",
       "2    582.455066         593.136536\n",
       "3    578.588606         573.186523\n",
       "4    371.224104         367.154510\n",
       "..          ...                ...\n",
       "295  525.704657         529.917480\n",
       "296  502.909473         516.169861\n",
       "297  612.727910         610.691650\n",
       "298  417.569725         417.603333\n",
       "299  410.538250         411.507294\n",
       "\n",
       "[300 rows x 2 columns]"
      ]
     },
     "execution_count": 50,
     "metadata": {},
     "output_type": "execute_result"
    }
   ],
   "source": [
    "pred_df"
   ]
  },
  {
   "cell_type": "markdown",
   "id": "c8f91ba6",
   "metadata": {},
   "source": [
    "## Plotting"
   ]
  },
  {
   "cell_type": "code",
   "execution_count": 51,
   "id": "7933e9d3",
   "metadata": {},
   "outputs": [
    {
     "data": {
      "text/plain": [
       "<AxesSubplot:xlabel='Test Y', ylabel='Model Predictions'>"
      ]
     },
     "execution_count": 51,
     "metadata": {},
     "output_type": "execute_result"
    },
    {
     "data": {
      "image/png": "[encoded data removed]",
      "text/plain": [
       "<Figure size 432x288 with 1 Axes>"
      ]
     },
     "metadata": {
      "needs_background": "light"
     },
     "output_type": "display_data"
    }
   ],
   "source": [
    "sns.scatterplot(x = 'Test Y', y = 'Model Predictions', data = pred_df)"
   ]
  },
  {
   "cell_type": "code",
   "execution_count": 52,
   "id": "f95d4ab5",
   "metadata": {},
   "outputs": [],
   "source": [
    "pred_df['Error'] = pred_df['Test Y'] - pred_df['Model Predictions']"
   ]
  },
  {
   "cell_type": "code",
   "execution_count": 53,
   "id": "d88a50b5",
   "metadata": {},
   "outputs": [
    {
     "data": {
      "text/plain": [
       "<AxesSubplot:xlabel='Error', ylabel='Density'>"
      ]
     },
     "execution_count": 53,
     "metadata": {},
     "output_type": "execute_result"
    },
    {
     "data": {
      "image/png": "[encoded data removed]",
      "text/plain": [
       "<Figure size 432x288 with 1 Axes>"
      ]
     },
     "metadata": {
      "needs_background": "light"
     },
     "output_type": "display_data"
    }
   ],
   "source": [
    "sns.distplot(pred_df['Error'],bins=50)"
   ]
  },
  {
   "cell_type": "code",
   "execution_count": 54,
   "id": "f5b68fd1",
   "metadata": {},
   "outputs": [],
   "source": [
    "from sklearn.metrics import mean_absolute_error,mean_squared_error"
   ]
  },
  {
   "cell_type": "code",
   "execution_count": 55,
   "id": "f8ccf9b0",
   "metadata": {},
   "outputs": [
    {
     "data": {
      "text/plain": [
       "4.107677326943277"
      ]
     },
     "execution_count": 55,
     "metadata": {},
     "output_type": "execute_result"
    }
   ],
   "source": [
    "mean_absolute_error(pred_df['Test Y'],pred_df['Model Predictions'])"
   ]
  },
  {
   "cell_type": "code",
   "execution_count": 56,
   "id": "58eb968f",
   "metadata": {},
   "outputs": [
    {
     "data": {
      "text/plain": [
       "25.86164505866909"
      ]
     },
     "execution_count": 56,
     "metadata": {},
     "output_type": "execute_result"
    }
   ],
   "source": [
    "mean_squared_error(pred_df['Test Y'],pred_df['Model Predictions'])"
   ]
  },
  {
   "cell_type": "code",
   "execution_count": 57,
   "id": "59846294",
   "metadata": {},
   "outputs": [
    {
     "data": {
      "text/plain": [
       "25.861642837524414"
      ]
     },
     "execution_count": 57,
     "metadata": {},
     "output_type": "execute_result"
    }
   ],
   "source": [
    "test_score"
   ]
  },
  {
   "cell_type": "code",
   "execution_count": 58,
   "id": "2bbddfe3",
   "metadata": {},
   "outputs": [
    {
     "data": {
      "text/plain": [
       "5.085434380416722"
      ]
     },
     "execution_count": 58,
     "metadata": {},
     "output_type": "execute_result"
    }
   ],
   "source": [
    "test_score ** 0.5"
   ]
  },
  {
   "cell_type": "markdown",
   "id": "42556218",
   "metadata": {},
   "source": [
    "# Predictions on New Brand Data"
   ]
  },
  {
   "cell_type": "code",
   "execution_count": 59,
   "id": "d20d3bae",
   "metadata": {},
   "outputs": [],
   "source": [
    "# [[Feature1, Feature2]]\n",
    "new_gem = [[998,1000]]"
   ]
  },
  {
   "cell_type": "code",
   "execution_count": 60,
   "id": "be95cca5",
   "metadata": {},
   "outputs": [
    {
     "data": {
      "text/plain": [
       "array([[0.14117652, 0.53968792]])"
      ]
     },
     "execution_count": 60,
     "metadata": {},
     "output_type": "execute_result"
    }
   ],
   "source": [
    "# Don't forget to scale!\n",
    "scaler.transform(new_gem)"
   ]
  },
  {
   "cell_type": "code",
   "execution_count": 61,
   "id": "003dc799",
   "metadata": {},
   "outputs": [],
   "source": [
    "new_gem = scaler.transform(new_gem)"
   ]
  },
  {
   "cell_type": "code",
   "execution_count": 62,
   "id": "51e8a723",
   "metadata": {},
   "outputs": [
    {
     "data": {
      "text/plain": [
       "array([[420.33334]], dtype=float32)"
      ]
     },
     "execution_count": 62,
     "metadata": {},
     "output_type": "execute_result"
    }
   ],
   "source": [
    "model.predict(new_gem)"
   ]
  },
  {
   "cell_type": "markdown",
   "id": "eb18a9b9",
   "metadata": {},
   "source": [
    "# Saving and Loading a Model"
   ]
  },
  {
   "cell_type": "code",
   "execution_count": 63,
   "id": "9ff3c657",
   "metadata": {},
   "outputs": [],
   "source": [
    "from tensorflow.keras.models import load_model"
   ]
  },
  {
   "cell_type": "code",
   "execution_count": 64,
   "id": "92e65373",
   "metadata": {},
   "outputs": [],
   "source": [
    "model.save('my_model.h5')  # creates a HDF5 file 'my_model.h5'"
   ]
  },
  {
   "cell_type": "code",
   "execution_count": 65,
   "id": "54c9fef3",
   "metadata": {},
   "outputs": [],
   "source": [
    "later_model = load_model('my_model.h5')"
   ]
  },
  {
   "cell_type": "code",
   "execution_count": 66,
   "id": "8080a840",
   "metadata": {},
   "outputs": [
    {
     "data": {
      "text/plain": [
       "array([[420.33334]], dtype=float32)"
      ]
     },
     "execution_count": 66,
     "metadata": {},
     "output_type": "execute_result"
    }
   ],
   "source": [
    "later_model.predict(new_gem)"
   ]
  },
  {
   "cell_type": "markdown",
   "id": "83516401",
   "metadata": {},
   "source": [
    "# Great Work!"
   ]
  },
  {
   "cell_type": "code",
   "execution_count": null,
   "id": "bade84b5",
   "metadata": {},
   "outputs": [],
   "source": []
  }
 ],
 "metadata": {
  "kernelspec": {
   "display_name": "Python 3 (ipykernel)",
   "language": "python",
   "name": "python3"
  },
  "language_info": {
   "codemirror_mode": {
    "name": "ipython",
    "version": 3
   },
   "file_extension": ".py",
   "mimetype": "text/x-python",
   "name": "python",
   "nbconvert_exporter": "python",
   "pygments_lexer": "ipython3",
   "version": "3.9.7"
  }
 },
 "nbformat": 4,
 "nbformat_minor": 5
}
