{
 "cells": [
  {
   "cell_type": "markdown",
   "id": "e93674f0",
   "metadata": {},
   "source": []
  },
  {
   "cell_type": "code",
   "execution_count": 8,
   "id": "bcbd7fe8",
   "metadata": {},
   "outputs": [],
   "source": [
    "import cv2\n",
    "import numpy\n",
    "import pandas\n",
    "import numpy as np\n",
    "\n",
    "\n",
    "##################\n",
    "### FUNCTION ####\n",
    "#################\n",
    "def draw_circle(event,x,y,flags,param):\n",
    "    \n",
    "    if event == cv2.EVENT_LBUTTONDOWN:\n",
    "        cv2.circle(img,(x,y),100,(0,255,0),-1)\n",
    "    \n",
    "    elif event == cv2.EVENT_RBUTTONDOWN:\n",
    "        cv2.circle(img,(x,y),100,(0,0,255),-1)\n",
    "        \n",
    "cv2.namedWindow('my_drawing')\n",
    "\n",
    "cv2.setMouseCallback('my_drawing',draw_circle)\n",
    "\n",
    "\n",
    "\n",
    "\n",
    "##############################\n",
    "# SHOWING IMAGE WITH OPENCV ##\n",
    "##############################\n",
    "\n",
    "img = np.zeros((512,512,3),np.int8)\n",
    "\n",
    "while True:\n",
    "    \n",
    "    \n",
    "    cv2.imshow('my_drawing',img)\n",
    "    \n",
    "    if cv2.waitKey(20) & 0xFF == 27:\n",
    "        break\n",
    "        \n",
    "cv2.destroyAllWindows()        "
   ]
  },
  {
   "cell_type": "markdown",
   "id": "3f42087d",
   "metadata": {},
   "source": [
    "# GREAT JOB!"
   ]
  },
  {
   "cell_type": "code",
   "execution_count": null,
   "id": "109e9f4b",
   "metadata": {},
   "outputs": [],
   "source": []
  }
 ],
 "metadata": {
  "kernelspec": {
   "display_name": "Python 3 (ipykernel)",
   "language": "python",
   "name": "python3"
  },
  "language_info": {
   "codemirror_mode": {
    "name": "ipython",
    "version": 3
   },
   "file_extension": ".py",
   "mimetype": "text/x-python",
   "name": "python",
   "nbconvert_exporter": "python",
   "pygments_lexer": "ipython3",
   "version": "3.9.7"
  }
 },
 "nbformat": 4,
 "nbformat_minor": 5
}
