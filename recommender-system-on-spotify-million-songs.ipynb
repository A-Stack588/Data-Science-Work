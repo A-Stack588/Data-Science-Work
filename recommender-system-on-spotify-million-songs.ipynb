{
 "cells": [
  {
   "cell_type": "code",
   "execution_count": 1,
   "id": "7e3e6f8b",
   "metadata": {
    "_cell_guid": "b1076dfc-b9ad-4769-8c92-a6c4dae69d19",
    "_uuid": "8f2839f25d086af736a60e9eeb907d3b93b6e0e5",
    "execution": {
     "iopub.execute_input": "2022-12-08T20:40:15.986642Z",
     "iopub.status.busy": "2022-12-08T20:40:15.986158Z",
     "iopub.status.idle": "2022-12-08T20:40:16.003138Z",
     "shell.execute_reply": "2022-12-08T20:40:16.002043Z"
    },
    "papermill": {
     "duration": 0.033433,
     "end_time": "2022-12-08T20:40:16.006094",
     "exception": false,
     "start_time": "2022-12-08T20:40:15.972661",
     "status": "completed"
    },
    "tags": []
   },
   "outputs": [
    {
     "name": "stdout",
     "output_type": "stream",
     "text": [
      "/kaggle/input/spotify-million-song-dataset/spotify_millsongdata.csv\n"
     ]
    }
   ],
   "source": [
    "# This Python 3 environment comes with many helpful analytics libraries installed\n",
    "# It is defined by the kaggle/python Docker image: https://github.com/kaggle/docker-python\n",
    "# For example, here's several helpful packages to load\n",
    "\n",
    "import numpy as np # linear algebra\n",
    "import pandas as pd # data processing, CSV file I/O (e.g. pd.read_csv)\n",
    "\n",
    "# Input data files are available in the read-only \"../input/\" directory\n",
    "# For example, running this (by clicking run or pressing Shift+Enter) will list all files under the input directory\n",
    "\n",
    "import os\n",
    "for dirname, _, filenames in os.walk('/kaggle/input'):\n",
    "    for filename in filenames:\n",
    "        print(os.path.join(dirname, filename))\n",
    "\n",
    "# You can write up to 20GB to the current directory (/kaggle/working/) that gets preserved as output when you create a version using \"Save & Run All\" \n",
    "# You can also write temporary files to /kaggle/temp/, but they won't be saved outside of the current session"
   ]
  },
  {
   "cell_type": "markdown",
   "id": "27af8a41",
   "metadata": {
    "papermill": {
     "duration": 0.010099,
     "end_time": "2022-12-08T20:40:16.027183",
     "exception": false,
     "start_time": "2022-12-08T20:40:16.017084",
     "status": "completed"
    },
    "tags": []
   },
   "source": [
    "*Import Dependencies*"
   ]
  },
  {
   "cell_type": "code",
   "execution_count": 2,
   "id": "de62060b",
   "metadata": {
    "execution": {
     "iopub.execute_input": "2022-12-08T20:40:16.050992Z",
     "iopub.status.busy": "2022-12-08T20:40:16.050578Z",
     "iopub.status.idle": "2022-12-08T20:40:17.236678Z",
     "shell.execute_reply": "2022-12-08T20:40:17.235511Z"
    },
    "papermill": {
     "duration": 1.202059,
     "end_time": "2022-12-08T20:40:17.239418",
     "exception": false,
     "start_time": "2022-12-08T20:40:16.037359",
     "status": "completed"
    },
    "tags": []
   },
   "outputs": [],
   "source": [
    "import os\n",
    "import sys\n",
    "import warnings\n",
    "import pandas \n",
    "import numpy\n",
    "import seaborn as sns\n",
    "import matplotlib.pyplot as plt\n",
    "warnings.filterwarnings(\"ignore\")\n",
    "import numpy as np\n",
    "import pandas as pd\n",
    "from sklearn.feature_extraction.text import CountVectorizer\n",
    "from sklearn.feature_extraction.text import TfidfVectorizer\n",
    "from sklearn.metrics.pairwise import cosine_similarity\n",
    "%matplotlib inline"
   ]
  },
  {
   "cell_type": "markdown",
   "id": "a05b80bc",
   "metadata": {
    "papermill": {
     "duration": 0.009902,
     "end_time": "2022-12-08T20:40:17.259713",
     "exception": false,
     "start_time": "2022-12-08T20:40:17.249811",
     "status": "completed"
    },
    "tags": []
   },
   "source": [
    "*Load Dataset*"
   ]
  },
  {
   "cell_type": "code",
   "execution_count": 3,
   "id": "c83da05d",
   "metadata": {
    "execution": {
     "iopub.execute_input": "2022-12-08T20:40:17.281847Z",
     "iopub.status.busy": "2022-12-08T20:40:17.281425Z",
     "iopub.status.idle": "2022-12-08T20:40:19.049444Z",
     "shell.execute_reply": "2022-12-08T20:40:19.048065Z"
    },
    "papermill": {
     "duration": 1.782307,
     "end_time": "2022-12-08T20:40:19.052230",
     "exception": false,
     "start_time": "2022-12-08T20:40:17.269923",
     "status": "completed"
    },
    "tags": []
   },
   "outputs": [],
   "source": [
    "df = pd.read_csv(\"/kaggle/input/spotify-million-song-dataset/spotify_millsongdata.csv\")"
   ]
  },
  {
   "cell_type": "code",
   "execution_count": 4,
   "id": "4a14bc1f",
   "metadata": {
    "execution": {
     "iopub.execute_input": "2022-12-08T20:40:19.074629Z",
     "iopub.status.busy": "2022-12-08T20:40:19.074206Z",
     "iopub.status.idle": "2022-12-08T20:40:19.098506Z",
     "shell.execute_reply": "2022-12-08T20:40:19.097319Z"
    },
    "papermill": {
     "duration": 0.038499,
     "end_time": "2022-12-08T20:40:19.101086",
     "exception": false,
     "start_time": "2022-12-08T20:40:19.062587",
     "status": "completed"
    },
    "tags": []
   },
   "outputs": [
    {
     "data": {
      "text/html": [
       "<div>\n",
       "<style scoped>\n",
       "    .dataframe tbody tr th:only-of-type {\n",
       "        vertical-align: middle;\n",
       "    }\n",
       "\n",
       "    .dataframe tbody tr th {\n",
       "        vertical-align: top;\n",
       "    }\n",
       "\n",
       "    .dataframe thead th {\n",
       "        text-align: right;\n",
       "    }\n",
       "</style>\n",
       "<table border=\"1\" class=\"dataframe\">\n",
       "  <thead>\n",
       "    <tr style=\"text-align: right;\">\n",
       "      <th></th>\n",
       "      <th>artist</th>\n",
       "      <th>song</th>\n",
       "      <th>link</th>\n",
       "      <th>text</th>\n",
       "    </tr>\n",
       "  </thead>\n",
       "  <tbody>\n",
       "    <tr>\n",
       "      <th>0</th>\n",
       "      <td>ABBA</td>\n",
       "      <td>Ahe's My Kind Of Girl</td>\n",
       "      <td>/a/abba/ahes+my+kind+of+girl_20598417.html</td>\n",
       "      <td>Look at her face, it's a wonderful face  \\r\\nA...</td>\n",
       "    </tr>\n",
       "    <tr>\n",
       "      <th>1</th>\n",
       "      <td>ABBA</td>\n",
       "      <td>Andante, Andante</td>\n",
       "      <td>/a/abba/andante+andante_20002708.html</td>\n",
       "      <td>Take it easy with me, please  \\r\\nTouch me gen...</td>\n",
       "    </tr>\n",
       "    <tr>\n",
       "      <th>2</th>\n",
       "      <td>ABBA</td>\n",
       "      <td>As Good As New</td>\n",
       "      <td>/a/abba/as+good+as+new_20003033.html</td>\n",
       "      <td>I'll never know why I had to go  \\r\\nWhy I had...</td>\n",
       "    </tr>\n",
       "    <tr>\n",
       "      <th>3</th>\n",
       "      <td>ABBA</td>\n",
       "      <td>Bang</td>\n",
       "      <td>/a/abba/bang_20598415.html</td>\n",
       "      <td>Making somebody happy is a question of give an...</td>\n",
       "    </tr>\n",
       "    <tr>\n",
       "      <th>4</th>\n",
       "      <td>ABBA</td>\n",
       "      <td>Bang-A-Boomerang</td>\n",
       "      <td>/a/abba/bang+a+boomerang_20002668.html</td>\n",
       "      <td>Making somebody happy is a question of give an...</td>\n",
       "    </tr>\n",
       "    <tr>\n",
       "      <th>...</th>\n",
       "      <td>...</td>\n",
       "      <td>...</td>\n",
       "      <td>...</td>\n",
       "      <td>...</td>\n",
       "    </tr>\n",
       "    <tr>\n",
       "      <th>57645</th>\n",
       "      <td>Ziggy Marley</td>\n",
       "      <td>Good Old Days</td>\n",
       "      <td>/z/ziggy+marley/good+old+days_10198588.html</td>\n",
       "      <td>Irie days come on play  \\r\\nLet the angels fly...</td>\n",
       "    </tr>\n",
       "    <tr>\n",
       "      <th>57646</th>\n",
       "      <td>Ziggy Marley</td>\n",
       "      <td>Hand To Mouth</td>\n",
       "      <td>/z/ziggy+marley/hand+to+mouth_20531167.html</td>\n",
       "      <td>Power to the workers  \\r\\nMore power  \\r\\nPowe...</td>\n",
       "    </tr>\n",
       "    <tr>\n",
       "      <th>57647</th>\n",
       "      <td>Zwan</td>\n",
       "      <td>Come With Me</td>\n",
       "      <td>/z/zwan/come+with+me_20148981.html</td>\n",
       "      <td>all you need  \\r\\nis something i'll believe  \\...</td>\n",
       "    </tr>\n",
       "    <tr>\n",
       "      <th>57648</th>\n",
       "      <td>Zwan</td>\n",
       "      <td>Desire</td>\n",
       "      <td>/z/zwan/desire_20148986.html</td>\n",
       "      <td>northern star  \\r\\nam i frightened  \\r\\nwhere ...</td>\n",
       "    </tr>\n",
       "    <tr>\n",
       "      <th>57649</th>\n",
       "      <td>Zwan</td>\n",
       "      <td>Heartsong</td>\n",
       "      <td>/z/zwan/heartsong_20148991.html</td>\n",
       "      <td>come in  \\r\\nmake yourself at home  \\r\\ni'm a ...</td>\n",
       "    </tr>\n",
       "  </tbody>\n",
       "</table>\n",
       "<p>57650 rows × 4 columns</p>\n",
       "</div>"
      ],
      "text/plain": [
       "             artist                   song  \\\n",
       "0              ABBA  Ahe's My Kind Of Girl   \n",
       "1              ABBA       Andante, Andante   \n",
       "2              ABBA         As Good As New   \n",
       "3              ABBA                   Bang   \n",
       "4              ABBA       Bang-A-Boomerang   \n",
       "...             ...                    ...   \n",
       "57645  Ziggy Marley          Good Old Days   \n",
       "57646  Ziggy Marley          Hand To Mouth   \n",
       "57647          Zwan           Come With Me   \n",
       "57648          Zwan                 Desire   \n",
       "57649          Zwan              Heartsong   \n",
       "\n",
       "                                              link  \\\n",
       "0       /a/abba/ahes+my+kind+of+girl_20598417.html   \n",
       "1            /a/abba/andante+andante_20002708.html   \n",
       "2             /a/abba/as+good+as+new_20003033.html   \n",
       "3                       /a/abba/bang_20598415.html   \n",
       "4           /a/abba/bang+a+boomerang_20002668.html   \n",
       "...                                            ...   \n",
       "57645  /z/ziggy+marley/good+old+days_10198588.html   \n",
       "57646  /z/ziggy+marley/hand+to+mouth_20531167.html   \n",
       "57647           /z/zwan/come+with+me_20148981.html   \n",
       "57648                 /z/zwan/desire_20148986.html   \n",
       "57649              /z/zwan/heartsong_20148991.html   \n",
       "\n",
       "                                                    text  \n",
       "0      Look at her face, it's a wonderful face  \\r\\nA...  \n",
       "1      Take it easy with me, please  \\r\\nTouch me gen...  \n",
       "2      I'll never know why I had to go  \\r\\nWhy I had...  \n",
       "3      Making somebody happy is a question of give an...  \n",
       "4      Making somebody happy is a question of give an...  \n",
       "...                                                  ...  \n",
       "57645  Irie days come on play  \\r\\nLet the angels fly...  \n",
       "57646  Power to the workers  \\r\\nMore power  \\r\\nPowe...  \n",
       "57647  all you need  \\r\\nis something i'll believe  \\...  \n",
       "57648  northern star  \\r\\nam i frightened  \\r\\nwhere ...  \n",
       "57649  come in  \\r\\nmake yourself at home  \\r\\ni'm a ...  \n",
       "\n",
       "[57650 rows x 4 columns]"
      ]
     },
     "execution_count": 4,
     "metadata": {},
     "output_type": "execute_result"
    }
   ],
   "source": [
    "df"
   ]
  },
  {
   "cell_type": "markdown",
   "id": "099dc931",
   "metadata": {
    "papermill": {
     "duration": 0.010408,
     "end_time": "2022-12-08T20:40:19.121982",
     "exception": false,
     "start_time": "2022-12-08T20:40:19.111574",
     "status": "completed"
    },
    "tags": []
   },
   "source": [
    "*EDA*"
   ]
  },
  {
   "cell_type": "code",
   "execution_count": 5,
   "id": "4b63dd56",
   "metadata": {
    "execution": {
     "iopub.execute_input": "2022-12-08T20:40:19.145143Z",
     "iopub.status.busy": "2022-12-08T20:40:19.144501Z",
     "iopub.status.idle": "2022-12-08T20:40:19.156361Z",
     "shell.execute_reply": "2022-12-08T20:40:19.155189Z"
    },
    "papermill": {
     "duration": 0.026131,
     "end_time": "2022-12-08T20:40:19.158594",
     "exception": false,
     "start_time": "2022-12-08T20:40:19.132463",
     "status": "completed"
    },
    "tags": []
   },
   "outputs": [
    {
     "data": {
      "text/html": [
       "<div>\n",
       "<style scoped>\n",
       "    .dataframe tbody tr th:only-of-type {\n",
       "        vertical-align: middle;\n",
       "    }\n",
       "\n",
       "    .dataframe tbody tr th {\n",
       "        vertical-align: top;\n",
       "    }\n",
       "\n",
       "    .dataframe thead th {\n",
       "        text-align: right;\n",
       "    }\n",
       "</style>\n",
       "<table border=\"1\" class=\"dataframe\">\n",
       "  <thead>\n",
       "    <tr style=\"text-align: right;\">\n",
       "      <th></th>\n",
       "      <th>artist</th>\n",
       "      <th>song</th>\n",
       "      <th>link</th>\n",
       "      <th>text</th>\n",
       "    </tr>\n",
       "  </thead>\n",
       "  <tbody>\n",
       "    <tr>\n",
       "      <th>0</th>\n",
       "      <td>ABBA</td>\n",
       "      <td>Ahe's My Kind Of Girl</td>\n",
       "      <td>/a/abba/ahes+my+kind+of+girl_20598417.html</td>\n",
       "      <td>Look at her face, it's a wonderful face  \\r\\nA...</td>\n",
       "    </tr>\n",
       "    <tr>\n",
       "      <th>1</th>\n",
       "      <td>ABBA</td>\n",
       "      <td>Andante, Andante</td>\n",
       "      <td>/a/abba/andante+andante_20002708.html</td>\n",
       "      <td>Take it easy with me, please  \\r\\nTouch me gen...</td>\n",
       "    </tr>\n",
       "    <tr>\n",
       "      <th>2</th>\n",
       "      <td>ABBA</td>\n",
       "      <td>As Good As New</td>\n",
       "      <td>/a/abba/as+good+as+new_20003033.html</td>\n",
       "      <td>I'll never know why I had to go  \\r\\nWhy I had...</td>\n",
       "    </tr>\n",
       "    <tr>\n",
       "      <th>3</th>\n",
       "      <td>ABBA</td>\n",
       "      <td>Bang</td>\n",
       "      <td>/a/abba/bang_20598415.html</td>\n",
       "      <td>Making somebody happy is a question of give an...</td>\n",
       "    </tr>\n",
       "  </tbody>\n",
       "</table>\n",
       "</div>"
      ],
      "text/plain": [
       "  artist                   song                                        link  \\\n",
       "0   ABBA  Ahe's My Kind Of Girl  /a/abba/ahes+my+kind+of+girl_20598417.html   \n",
       "1   ABBA       Andante, Andante       /a/abba/andante+andante_20002708.html   \n",
       "2   ABBA         As Good As New        /a/abba/as+good+as+new_20003033.html   \n",
       "3   ABBA                   Bang                  /a/abba/bang_20598415.html   \n",
       "\n",
       "                                                text  \n",
       "0  Look at her face, it's a wonderful face  \\r\\nA...  \n",
       "1  Take it easy with me, please  \\r\\nTouch me gen...  \n",
       "2  I'll never know why I had to go  \\r\\nWhy I had...  \n",
       "3  Making somebody happy is a question of give an...  "
      ]
     },
     "execution_count": 5,
     "metadata": {},
     "output_type": "execute_result"
    }
   ],
   "source": [
    "df.head(4)"
   ]
  },
  {
   "cell_type": "code",
   "execution_count": 6,
   "id": "a4b206d0",
   "metadata": {
    "execution": {
     "iopub.execute_input": "2022-12-08T20:40:19.182315Z",
     "iopub.status.busy": "2022-12-08T20:40:19.181646Z",
     "iopub.status.idle": "2022-12-08T20:40:19.193366Z",
     "shell.execute_reply": "2022-12-08T20:40:19.192234Z"
    },
    "papermill": {
     "duration": 0.026256,
     "end_time": "2022-12-08T20:40:19.195568",
     "exception": false,
     "start_time": "2022-12-08T20:40:19.169312",
     "status": "completed"
    },
    "tags": []
   },
   "outputs": [
    {
     "data": {
      "text/html": [
       "<div>\n",
       "<style scoped>\n",
       "    .dataframe tbody tr th:only-of-type {\n",
       "        vertical-align: middle;\n",
       "    }\n",
       "\n",
       "    .dataframe tbody tr th {\n",
       "        vertical-align: top;\n",
       "    }\n",
       "\n",
       "    .dataframe thead th {\n",
       "        text-align: right;\n",
       "    }\n",
       "</style>\n",
       "<table border=\"1\" class=\"dataframe\">\n",
       "  <thead>\n",
       "    <tr style=\"text-align: right;\">\n",
       "      <th></th>\n",
       "      <th>artist</th>\n",
       "      <th>song</th>\n",
       "      <th>link</th>\n",
       "      <th>text</th>\n",
       "    </tr>\n",
       "  </thead>\n",
       "  <tbody>\n",
       "    <tr>\n",
       "      <th>57646</th>\n",
       "      <td>Ziggy Marley</td>\n",
       "      <td>Hand To Mouth</td>\n",
       "      <td>/z/ziggy+marley/hand+to+mouth_20531167.html</td>\n",
       "      <td>Power to the workers  \\r\\nMore power  \\r\\nPowe...</td>\n",
       "    </tr>\n",
       "    <tr>\n",
       "      <th>57647</th>\n",
       "      <td>Zwan</td>\n",
       "      <td>Come With Me</td>\n",
       "      <td>/z/zwan/come+with+me_20148981.html</td>\n",
       "      <td>all you need  \\r\\nis something i'll believe  \\...</td>\n",
       "    </tr>\n",
       "    <tr>\n",
       "      <th>57648</th>\n",
       "      <td>Zwan</td>\n",
       "      <td>Desire</td>\n",
       "      <td>/z/zwan/desire_20148986.html</td>\n",
       "      <td>northern star  \\r\\nam i frightened  \\r\\nwhere ...</td>\n",
       "    </tr>\n",
       "    <tr>\n",
       "      <th>57649</th>\n",
       "      <td>Zwan</td>\n",
       "      <td>Heartsong</td>\n",
       "      <td>/z/zwan/heartsong_20148991.html</td>\n",
       "      <td>come in  \\r\\nmake yourself at home  \\r\\ni'm a ...</td>\n",
       "    </tr>\n",
       "  </tbody>\n",
       "</table>\n",
       "</div>"
      ],
      "text/plain": [
       "             artist           song  \\\n",
       "57646  Ziggy Marley  Hand To Mouth   \n",
       "57647          Zwan   Come With Me   \n",
       "57648          Zwan         Desire   \n",
       "57649          Zwan      Heartsong   \n",
       "\n",
       "                                              link  \\\n",
       "57646  /z/ziggy+marley/hand+to+mouth_20531167.html   \n",
       "57647           /z/zwan/come+with+me_20148981.html   \n",
       "57648                 /z/zwan/desire_20148986.html   \n",
       "57649              /z/zwan/heartsong_20148991.html   \n",
       "\n",
       "                                                    text  \n",
       "57646  Power to the workers  \\r\\nMore power  \\r\\nPowe...  \n",
       "57647  all you need  \\r\\nis something i'll believe  \\...  \n",
       "57648  northern star  \\r\\nam i frightened  \\r\\nwhere ...  \n",
       "57649  come in  \\r\\nmake yourself at home  \\r\\ni'm a ...  "
      ]
     },
     "execution_count": 6,
     "metadata": {},
     "output_type": "execute_result"
    }
   ],
   "source": [
    "df.tail(4)"
   ]
  },
  {
   "cell_type": "code",
   "execution_count": 7,
   "id": "f45d975e",
   "metadata": {
    "execution": {
     "iopub.execute_input": "2022-12-08T20:40:19.219771Z",
     "iopub.status.busy": "2022-12-08T20:40:19.219086Z",
     "iopub.status.idle": "2022-12-08T20:40:19.232081Z",
     "shell.execute_reply": "2022-12-08T20:40:19.231096Z"
    },
    "papermill": {
     "duration": 0.028138,
     "end_time": "2022-12-08T20:40:19.234580",
     "exception": false,
     "start_time": "2022-12-08T20:40:19.206442",
     "status": "completed"
    },
    "tags": []
   },
   "outputs": [],
   "source": [
    "df.drop(\"link\", axis=1, inplace = True)\n"
   ]
  },
  {
   "cell_type": "code",
   "execution_count": 8,
   "id": "d2cea77a",
   "metadata": {
    "execution": {
     "iopub.execute_input": "2022-12-08T20:40:19.258921Z",
     "iopub.status.busy": "2022-12-08T20:40:19.258255Z",
     "iopub.status.idle": "2022-12-08T20:40:19.268863Z",
     "shell.execute_reply": "2022-12-08T20:40:19.267884Z"
    },
    "papermill": {
     "duration": 0.025384,
     "end_time": "2022-12-08T20:40:19.271098",
     "exception": false,
     "start_time": "2022-12-08T20:40:19.245714",
     "status": "completed"
    },
    "tags": []
   },
   "outputs": [
    {
     "data": {
      "text/html": [
       "<div>\n",
       "<style scoped>\n",
       "    .dataframe tbody tr th:only-of-type {\n",
       "        vertical-align: middle;\n",
       "    }\n",
       "\n",
       "    .dataframe tbody tr th {\n",
       "        vertical-align: top;\n",
       "    }\n",
       "\n",
       "    .dataframe thead th {\n",
       "        text-align: right;\n",
       "    }\n",
       "</style>\n",
       "<table border=\"1\" class=\"dataframe\">\n",
       "  <thead>\n",
       "    <tr style=\"text-align: right;\">\n",
       "      <th></th>\n",
       "      <th>artist</th>\n",
       "      <th>song</th>\n",
       "      <th>text</th>\n",
       "    </tr>\n",
       "  </thead>\n",
       "  <tbody>\n",
       "    <tr>\n",
       "      <th>0</th>\n",
       "      <td>ABBA</td>\n",
       "      <td>Ahe's My Kind Of Girl</td>\n",
       "      <td>Look at her face, it's a wonderful face  \\r\\nA...</td>\n",
       "    </tr>\n",
       "    <tr>\n",
       "      <th>1</th>\n",
       "      <td>ABBA</td>\n",
       "      <td>Andante, Andante</td>\n",
       "      <td>Take it easy with me, please  \\r\\nTouch me gen...</td>\n",
       "    </tr>\n",
       "    <tr>\n",
       "      <th>2</th>\n",
       "      <td>ABBA</td>\n",
       "      <td>As Good As New</td>\n",
       "      <td>I'll never know why I had to go  \\r\\nWhy I had...</td>\n",
       "    </tr>\n",
       "    <tr>\n",
       "      <th>3</th>\n",
       "      <td>ABBA</td>\n",
       "      <td>Bang</td>\n",
       "      <td>Making somebody happy is a question of give an...</td>\n",
       "    </tr>\n",
       "    <tr>\n",
       "      <th>4</th>\n",
       "      <td>ABBA</td>\n",
       "      <td>Bang-A-Boomerang</td>\n",
       "      <td>Making somebody happy is a question of give an...</td>\n",
       "    </tr>\n",
       "  </tbody>\n",
       "</table>\n",
       "</div>"
      ],
      "text/plain": [
       "  artist                   song  \\\n",
       "0   ABBA  Ahe's My Kind Of Girl   \n",
       "1   ABBA       Andante, Andante   \n",
       "2   ABBA         As Good As New   \n",
       "3   ABBA                   Bang   \n",
       "4   ABBA       Bang-A-Boomerang   \n",
       "\n",
       "                                                text  \n",
       "0  Look at her face, it's a wonderful face  \\r\\nA...  \n",
       "1  Take it easy with me, please  \\r\\nTouch me gen...  \n",
       "2  I'll never know why I had to go  \\r\\nWhy I had...  \n",
       "3  Making somebody happy is a question of give an...  \n",
       "4  Making somebody happy is a question of give an...  "
      ]
     },
     "execution_count": 8,
     "metadata": {},
     "output_type": "execute_result"
    }
   ],
   "source": [
    "df.head()"
   ]
  },
  {
   "cell_type": "code",
   "execution_count": 9,
   "id": "73f8b776",
   "metadata": {
    "execution": {
     "iopub.execute_input": "2022-12-08T20:40:19.295784Z",
     "iopub.status.busy": "2022-12-08T20:40:19.295077Z",
     "iopub.status.idle": "2022-12-08T20:40:19.320735Z",
     "shell.execute_reply": "2022-12-08T20:40:19.319627Z"
    },
    "papermill": {
     "duration": 0.040726,
     "end_time": "2022-12-08T20:40:19.323284",
     "exception": false,
     "start_time": "2022-12-08T20:40:19.282558",
     "status": "completed"
    },
    "tags": []
   },
   "outputs": [],
   "source": [
    "df = df[0:50000]\n",
    "df.drop_duplicates(subset=\"song\", inplace=True)\n",
    "df.reset_index(drop = True, inplace = True)"
   ]
  },
  {
   "cell_type": "code",
   "execution_count": 10,
   "id": "cb58a1ba",
   "metadata": {
    "execution": {
     "iopub.execute_input": "2022-12-08T20:40:19.347331Z",
     "iopub.status.busy": "2022-12-08T20:40:19.346916Z",
     "iopub.status.idle": "2022-12-08T20:40:19.353097Z",
     "shell.execute_reply": "2022-12-08T20:40:19.351931Z"
    },
    "papermill": {
     "duration": 0.021326,
     "end_time": "2022-12-08T20:40:19.355713",
     "exception": false,
     "start_time": "2022-12-08T20:40:19.334387",
     "status": "completed"
    },
    "tags": []
   },
   "outputs": [],
   "source": [
    "df.rename(columns = {\"artist\":'Artist','song':'Song','text':'Lyrics'},inplace = True)"
   ]
  },
  {
   "cell_type": "code",
   "execution_count": 11,
   "id": "63b75aa2",
   "metadata": {
    "execution": {
     "iopub.execute_input": "2022-12-08T20:40:19.380117Z",
     "iopub.status.busy": "2022-12-08T20:40:19.379382Z",
     "iopub.status.idle": "2022-12-08T20:40:19.391244Z",
     "shell.execute_reply": "2022-12-08T20:40:19.390198Z"
    },
    "papermill": {
     "duration": 0.026486,
     "end_time": "2022-12-08T20:40:19.393614",
     "exception": false,
     "start_time": "2022-12-08T20:40:19.367128",
     "status": "completed"
    },
    "tags": []
   },
   "outputs": [
    {
     "data": {
      "text/html": [
       "<div>\n",
       "<style scoped>\n",
       "    .dataframe tbody tr th:only-of-type {\n",
       "        vertical-align: middle;\n",
       "    }\n",
       "\n",
       "    .dataframe tbody tr th {\n",
       "        vertical-align: top;\n",
       "    }\n",
       "\n",
       "    .dataframe thead th {\n",
       "        text-align: right;\n",
       "    }\n",
       "</style>\n",
       "<table border=\"1\" class=\"dataframe\">\n",
       "  <thead>\n",
       "    <tr style=\"text-align: right;\">\n",
       "      <th></th>\n",
       "      <th>Artist</th>\n",
       "      <th>Song</th>\n",
       "      <th>Lyrics</th>\n",
       "    </tr>\n",
       "  </thead>\n",
       "  <tbody>\n",
       "    <tr>\n",
       "      <th>0</th>\n",
       "      <td>ABBA</td>\n",
       "      <td>Ahe's My Kind Of Girl</td>\n",
       "      <td>Look at her face, it's a wonderful face  \\r\\nA...</td>\n",
       "    </tr>\n",
       "    <tr>\n",
       "      <th>1</th>\n",
       "      <td>ABBA</td>\n",
       "      <td>Andante, Andante</td>\n",
       "      <td>Take it easy with me, please  \\r\\nTouch me gen...</td>\n",
       "    </tr>\n",
       "    <tr>\n",
       "      <th>2</th>\n",
       "      <td>ABBA</td>\n",
       "      <td>As Good As New</td>\n",
       "      <td>I'll never know why I had to go  \\r\\nWhy I had...</td>\n",
       "    </tr>\n",
       "    <tr>\n",
       "      <th>3</th>\n",
       "      <td>ABBA</td>\n",
       "      <td>Bang</td>\n",
       "      <td>Making somebody happy is a question of give an...</td>\n",
       "    </tr>\n",
       "    <tr>\n",
       "      <th>4</th>\n",
       "      <td>ABBA</td>\n",
       "      <td>Bang-A-Boomerang</td>\n",
       "      <td>Making somebody happy is a question of give an...</td>\n",
       "    </tr>\n",
       "  </tbody>\n",
       "</table>\n",
       "</div>"
      ],
      "text/plain": [
       "  Artist                   Song  \\\n",
       "0   ABBA  Ahe's My Kind Of Girl   \n",
       "1   ABBA       Andante, Andante   \n",
       "2   ABBA         As Good As New   \n",
       "3   ABBA                   Bang   \n",
       "4   ABBA       Bang-A-Boomerang   \n",
       "\n",
       "                                              Lyrics  \n",
       "0  Look at her face, it's a wonderful face  \\r\\nA...  \n",
       "1  Take it easy with me, please  \\r\\nTouch me gen...  \n",
       "2  I'll never know why I had to go  \\r\\nWhy I had...  \n",
       "3  Making somebody happy is a question of give an...  \n",
       "4  Making somebody happy is a question of give an...  "
      ]
     },
     "execution_count": 11,
     "metadata": {},
     "output_type": "execute_result"
    }
   ],
   "source": [
    "df.head(5)"
   ]
  },
  {
   "cell_type": "code",
   "execution_count": 12,
   "id": "b4ad2699",
   "metadata": {
    "execution": {
     "iopub.execute_input": "2022-12-08T20:40:19.417899Z",
     "iopub.status.busy": "2022-12-08T20:40:19.417496Z",
     "iopub.status.idle": "2022-12-08T20:40:19.435257Z",
     "shell.execute_reply": "2022-12-08T20:40:19.434374Z"
    },
    "papermill": {
     "duration": 0.032377,
     "end_time": "2022-12-08T20:40:19.437441",
     "exception": false,
     "start_time": "2022-12-08T20:40:19.405064",
     "status": "completed"
    },
    "tags": []
   },
   "outputs": [
    {
     "data": {
      "text/plain": [
       "Artist    0\n",
       "Song      0\n",
       "Lyrics    0\n",
       "dtype: int64"
      ]
     },
     "execution_count": 12,
     "metadata": {},
     "output_type": "execute_result"
    }
   ],
   "source": [
    "df.isnull().sum()"
   ]
  },
  {
   "cell_type": "code",
   "execution_count": 13,
   "id": "eb4c9a9c",
   "metadata": {
    "execution": {
     "iopub.execute_input": "2022-12-08T20:40:19.462676Z",
     "iopub.status.busy": "2022-12-08T20:40:19.461946Z",
     "iopub.status.idle": "2022-12-08T20:40:19.610477Z",
     "shell.execute_reply": "2022-12-08T20:40:19.609341Z"
    },
    "papermill": {
     "duration": 0.16377,
     "end_time": "2022-12-08T20:40:19.612873",
     "exception": false,
     "start_time": "2022-12-08T20:40:19.449103",
     "status": "completed"
    },
    "tags": []
   },
   "outputs": [
    {
     "data": {
      "text/plain": [
       "0"
      ]
     },
     "execution_count": 13,
     "metadata": {},
     "output_type": "execute_result"
    }
   ],
   "source": [
    "df.duplicated().sum()"
   ]
  },
  {
   "cell_type": "code",
   "execution_count": 14,
   "id": "e1661754",
   "metadata": {
    "execution": {
     "iopub.execute_input": "2022-12-08T20:40:19.637334Z",
     "iopub.status.busy": "2022-12-08T20:40:19.636892Z",
     "iopub.status.idle": "2022-12-08T20:40:19.644272Z",
     "shell.execute_reply": "2022-12-08T20:40:19.643211Z"
    },
    "papermill": {
     "duration": 0.022322,
     "end_time": "2022-12-08T20:40:19.646589",
     "exception": false,
     "start_time": "2022-12-08T20:40:19.624267",
     "status": "completed"
    },
    "tags": []
   },
   "outputs": [
    {
     "data": {
      "text/plain": [
       "Index(['Artist', 'Song', 'Lyrics'], dtype='object')"
      ]
     },
     "execution_count": 14,
     "metadata": {},
     "output_type": "execute_result"
    }
   ],
   "source": [
    "df.columns"
   ]
  },
  {
   "cell_type": "code",
   "execution_count": 15,
   "id": "efc3e2d1",
   "metadata": {
    "execution": {
     "iopub.execute_input": "2022-12-08T20:40:19.671690Z",
     "iopub.status.busy": "2022-12-08T20:40:19.670767Z",
     "iopub.status.idle": "2022-12-08T20:40:19.696312Z",
     "shell.execute_reply": "2022-12-08T20:40:19.695219Z"
    },
    "papermill": {
     "duration": 0.040533,
     "end_time": "2022-12-08T20:40:19.698632",
     "exception": false,
     "start_time": "2022-12-08T20:40:19.658099",
     "status": "completed"
    },
    "tags": []
   },
   "outputs": [
    {
     "name": "stdout",
     "output_type": "stream",
     "text": [
      "<class 'pandas.core.frame.DataFrame'>\n",
      "RangeIndex: 39466 entries, 0 to 39465\n",
      "Data columns (total 3 columns):\n",
      " #   Column  Non-Null Count  Dtype \n",
      "---  ------  --------------  ----- \n",
      " 0   Artist  39466 non-null  object\n",
      " 1   Song    39466 non-null  object\n",
      " 2   Lyrics  39466 non-null  object\n",
      "dtypes: object(3)\n",
      "memory usage: 925.1+ KB\n"
     ]
    }
   ],
   "source": [
    "df.info()"
   ]
  },
  {
   "cell_type": "code",
   "execution_count": 16,
   "id": "dc76339a",
   "metadata": {
    "execution": {
     "iopub.execute_input": "2022-12-08T20:40:19.724057Z",
     "iopub.status.busy": "2022-12-08T20:40:19.723678Z",
     "iopub.status.idle": "2022-12-08T20:40:19.792200Z",
     "shell.execute_reply": "2022-12-08T20:40:19.790982Z"
    },
    "papermill": {
     "duration": 0.084557,
     "end_time": "2022-12-08T20:40:19.794892",
     "exception": false,
     "start_time": "2022-12-08T20:40:19.710335",
     "status": "completed"
    },
    "tags": []
   },
   "outputs": [],
   "source": [
    "df['Combined_features'] = df['Artist']+\" \"+df['Song']+\" \"+df['Lyrics']"
   ]
  },
  {
   "cell_type": "code",
   "execution_count": 17,
   "id": "83b6aabf",
   "metadata": {
    "execution": {
     "iopub.execute_input": "2022-12-08T20:40:19.820851Z",
     "iopub.status.busy": "2022-12-08T20:40:19.820437Z",
     "iopub.status.idle": "2022-12-08T20:40:19.832822Z",
     "shell.execute_reply": "2022-12-08T20:40:19.831760Z"
    },
    "papermill": {
     "duration": 0.028372,
     "end_time": "2022-12-08T20:40:19.835225",
     "exception": false,
     "start_time": "2022-12-08T20:40:19.806853",
     "status": "completed"
    },
    "tags": []
   },
   "outputs": [
    {
     "data": {
      "text/html": [
       "<div>\n",
       "<style scoped>\n",
       "    .dataframe tbody tr th:only-of-type {\n",
       "        vertical-align: middle;\n",
       "    }\n",
       "\n",
       "    .dataframe tbody tr th {\n",
       "        vertical-align: top;\n",
       "    }\n",
       "\n",
       "    .dataframe thead th {\n",
       "        text-align: right;\n",
       "    }\n",
       "</style>\n",
       "<table border=\"1\" class=\"dataframe\">\n",
       "  <thead>\n",
       "    <tr style=\"text-align: right;\">\n",
       "      <th></th>\n",
       "      <th>Artist</th>\n",
       "      <th>Song</th>\n",
       "      <th>Lyrics</th>\n",
       "      <th>Combined_features</th>\n",
       "    </tr>\n",
       "  </thead>\n",
       "  <tbody>\n",
       "    <tr>\n",
       "      <th>0</th>\n",
       "      <td>ABBA</td>\n",
       "      <td>Ahe's My Kind Of Girl</td>\n",
       "      <td>Look at her face, it's a wonderful face  \\r\\nA...</td>\n",
       "      <td>ABBA Ahe's My Kind Of Girl Look at her face, i...</td>\n",
       "    </tr>\n",
       "    <tr>\n",
       "      <th>1</th>\n",
       "      <td>ABBA</td>\n",
       "      <td>Andante, Andante</td>\n",
       "      <td>Take it easy with me, please  \\r\\nTouch me gen...</td>\n",
       "      <td>ABBA Andante, Andante Take it easy with me, pl...</td>\n",
       "    </tr>\n",
       "    <tr>\n",
       "      <th>2</th>\n",
       "      <td>ABBA</td>\n",
       "      <td>As Good As New</td>\n",
       "      <td>I'll never know why I had to go  \\r\\nWhy I had...</td>\n",
       "      <td>ABBA As Good As New I'll never know why I had ...</td>\n",
       "    </tr>\n",
       "    <tr>\n",
       "      <th>3</th>\n",
       "      <td>ABBA</td>\n",
       "      <td>Bang</td>\n",
       "      <td>Making somebody happy is a question of give an...</td>\n",
       "      <td>ABBA Bang Making somebody happy is a question ...</td>\n",
       "    </tr>\n",
       "    <tr>\n",
       "      <th>4</th>\n",
       "      <td>ABBA</td>\n",
       "      <td>Bang-A-Boomerang</td>\n",
       "      <td>Making somebody happy is a question of give an...</td>\n",
       "      <td>ABBA Bang-A-Boomerang Making somebody happy is...</td>\n",
       "    </tr>\n",
       "  </tbody>\n",
       "</table>\n",
       "</div>"
      ],
      "text/plain": [
       "  Artist                   Song  \\\n",
       "0   ABBA  Ahe's My Kind Of Girl   \n",
       "1   ABBA       Andante, Andante   \n",
       "2   ABBA         As Good As New   \n",
       "3   ABBA                   Bang   \n",
       "4   ABBA       Bang-A-Boomerang   \n",
       "\n",
       "                                              Lyrics  \\\n",
       "0  Look at her face, it's a wonderful face  \\r\\nA...   \n",
       "1  Take it easy with me, please  \\r\\nTouch me gen...   \n",
       "2  I'll never know why I had to go  \\r\\nWhy I had...   \n",
       "3  Making somebody happy is a question of give an...   \n",
       "4  Making somebody happy is a question of give an...   \n",
       "\n",
       "                                   Combined_features  \n",
       "0  ABBA Ahe's My Kind Of Girl Look at her face, i...  \n",
       "1  ABBA Andante, Andante Take it easy with me, pl...  \n",
       "2  ABBA As Good As New I'll never know why I had ...  \n",
       "3  ABBA Bang Making somebody happy is a question ...  \n",
       "4  ABBA Bang-A-Boomerang Making somebody happy is...  "
      ]
     },
     "execution_count": 17,
     "metadata": {},
     "output_type": "execute_result"
    }
   ],
   "source": [
    "df.head()"
   ]
  },
  {
   "cell_type": "code",
   "execution_count": 18,
   "id": "e473ab91",
   "metadata": {
    "execution": {
     "iopub.execute_input": "2022-12-08T20:40:19.860703Z",
     "iopub.status.busy": "2022-12-08T20:40:19.860294Z",
     "iopub.status.idle": "2022-12-08T20:40:19.876569Z",
     "shell.execute_reply": "2022-12-08T20:40:19.874208Z"
    },
    "papermill": {
     "duration": 0.032678,
     "end_time": "2022-12-08T20:40:19.879917",
     "exception": false,
     "start_time": "2022-12-08T20:40:19.847239",
     "status": "completed"
    },
    "tags": []
   },
   "outputs": [
    {
     "data": {
      "text/html": [
       "<div>\n",
       "<style scoped>\n",
       "    .dataframe tbody tr th:only-of-type {\n",
       "        vertical-align: middle;\n",
       "    }\n",
       "\n",
       "    .dataframe tbody tr th {\n",
       "        vertical-align: top;\n",
       "    }\n",
       "\n",
       "    .dataframe thead th {\n",
       "        text-align: right;\n",
       "    }\n",
       "</style>\n",
       "<table border=\"1\" class=\"dataframe\">\n",
       "  <thead>\n",
       "    <tr style=\"text-align: right;\">\n",
       "      <th></th>\n",
       "      <th>Artist</th>\n",
       "      <th>Song</th>\n",
       "      <th>Lyrics</th>\n",
       "      <th>Combined_features</th>\n",
       "    </tr>\n",
       "  </thead>\n",
       "  <tbody>\n",
       "    <tr>\n",
       "      <th>39461</th>\n",
       "      <td>Ramones</td>\n",
       "      <td>Don't Bust My Chops</td>\n",
       "      <td>I'm sick and tired of you calling me names  \\r...</td>\n",
       "      <td>Ramones Don't Bust My Chops I'm sick and tired...</td>\n",
       "    </tr>\n",
       "    <tr>\n",
       "      <th>39462</th>\n",
       "      <td>Ramones</td>\n",
       "      <td>Don't Come Close</td>\n",
       "      <td>You know it's generally known  \\r\\nYou got eve...</td>\n",
       "      <td>Ramones Don't Come Close You know it's general...</td>\n",
       "    </tr>\n",
       "    <tr>\n",
       "      <th>39463</th>\n",
       "      <td>Ramones</td>\n",
       "      <td>Don't Pour Out All The Oil</td>\n",
       "      <td>Verse:  \\r\\nDon't pour out all the oil  \\r\\nIt...</td>\n",
       "      <td>Ramones Don't Pour Out All The Oil Verse:  \\r\\...</td>\n",
       "    </tr>\n",
       "    <tr>\n",
       "      <th>39464</th>\n",
       "      <td>Ramones</td>\n",
       "      <td>Eat That Rat</td>\n",
       "      <td>One-two-three-four  \\r\\n  \\r\\nYou don't want t...</td>\n",
       "      <td>Ramones Eat That Rat One-two-three-four  \\r\\n ...</td>\n",
       "    </tr>\n",
       "    <tr>\n",
       "      <th>39465</th>\n",
       "      <td>Ramones</td>\n",
       "      <td>Endless Vacation</td>\n",
       "      <td>I kill myself kill the pain  \\r\\nA suicide dea...</td>\n",
       "      <td>Ramones Endless Vacation I kill myself kill th...</td>\n",
       "    </tr>\n",
       "  </tbody>\n",
       "</table>\n",
       "</div>"
      ],
      "text/plain": [
       "        Artist                        Song  \\\n",
       "39461  Ramones         Don't Bust My Chops   \n",
       "39462  Ramones            Don't Come Close   \n",
       "39463  Ramones  Don't Pour Out All The Oil   \n",
       "39464  Ramones                Eat That Rat   \n",
       "39465  Ramones            Endless Vacation   \n",
       "\n",
       "                                                  Lyrics  \\\n",
       "39461  I'm sick and tired of you calling me names  \\r...   \n",
       "39462  You know it's generally known  \\r\\nYou got eve...   \n",
       "39463  Verse:  \\r\\nDon't pour out all the oil  \\r\\nIt...   \n",
       "39464  One-two-three-four  \\r\\n  \\r\\nYou don't want t...   \n",
       "39465  I kill myself kill the pain  \\r\\nA suicide dea...   \n",
       "\n",
       "                                       Combined_features  \n",
       "39461  Ramones Don't Bust My Chops I'm sick and tired...  \n",
       "39462  Ramones Don't Come Close You know it's general...  \n",
       "39463  Ramones Don't Pour Out All The Oil Verse:  \\r\\...  \n",
       "39464  Ramones Eat That Rat One-two-three-four  \\r\\n ...  \n",
       "39465  Ramones Endless Vacation I kill myself kill th...  "
      ]
     },
     "execution_count": 18,
     "metadata": {},
     "output_type": "execute_result"
    }
   ],
   "source": [
    "df.tail()"
   ]
  },
  {
   "cell_type": "code",
   "execution_count": 19,
   "id": "ee25be09",
   "metadata": {
    "execution": {
     "iopub.execute_input": "2022-12-08T20:40:19.913435Z",
     "iopub.status.busy": "2022-12-08T20:40:19.912940Z",
     "iopub.status.idle": "2022-12-08T20:40:19.921102Z",
     "shell.execute_reply": "2022-12-08T20:40:19.919845Z"
    },
    "papermill": {
     "duration": 0.027421,
     "end_time": "2022-12-08T20:40:19.924056",
     "exception": false,
     "start_time": "2022-12-08T20:40:19.896635",
     "status": "completed"
    },
    "tags": []
   },
   "outputs": [
    {
     "data": {
      "text/plain": [
       "\"ABBA Ahe's My Kind Of Girl Look at her face, it's a wonderful face  \\r\\nAnd it means something special to me  \\r\\nLook at the way that she smiles when she sees me  \\r\\nHow lucky can one fellow be?  \\r\\n  \\r\\nShe's just my kind of girl, she makes me feel fine  \\r\\nWho could ever believe that she could be mine?  \\r\\nShe's just my kind of girl, without her I'm blue  \\r\\nAnd if she ever leaves me what could I do, what could I do?  \\r\\n  \\r\\nAnd when we go for a walk in the park  \\r\\nAnd she holds me and squeezes my hand  \\r\\nWe'll go on walking for hours and talking  \\r\\nAbout all the things that we plan  \\r\\n  \\r\\nShe's just my kind of girl, she makes me feel fine  \\r\\nWho could ever believe that she could be mine?  \\r\\nShe's just my kind of girl, without her I'm blue  \\r\\nAnd if she ever leaves me what could I do, what could I do?\\r\\n\\r\\n\""
      ]
     },
     "execution_count": 19,
     "metadata": {},
     "output_type": "execute_result"
    }
   ],
   "source": [
    "df.Combined_features[0]"
   ]
  },
  {
   "cell_type": "code",
   "execution_count": 20,
   "id": "ec54c4f9",
   "metadata": {
    "execution": {
     "iopub.execute_input": "2022-12-08T20:40:19.954465Z",
     "iopub.status.busy": "2022-12-08T20:40:19.953607Z",
     "iopub.status.idle": "2022-12-08T20:40:19.963817Z",
     "shell.execute_reply": "2022-12-08T20:40:19.962682Z"
    },
    "papermill": {
     "duration": 0.027273,
     "end_time": "2022-12-08T20:40:19.966499",
     "exception": false,
     "start_time": "2022-12-08T20:40:19.939226",
     "status": "completed"
    },
    "tags": []
   },
   "outputs": [
    {
     "data": {
      "text/plain": [
       "\"ABBA Andante, Andante Take it easy with me, please  \\r\\nTouch me gently like a summer evening breeze  \\r\\nTake your time, make it slow  \\r\\nAndante, Andante  \\r\\nJust let the feeling grow  \\r\\n  \\r\\nMake your fingers soft and light  \\r\\nLet your body be the velvet of the night  \\r\\nTouch my soul, you know how  \\r\\nAndante, Andante  \\r\\nGo slowly with me now  \\r\\n  \\r\\nI'm your music  \\r\\n(I am your music and I am your song)  \\r\\nI'm your song  \\r\\n(I am your music and I am your song)  \\r\\nPlay me time and time again and make me strong  \\r\\n(Play me again 'cause you're making me strong)  \\r\\nMake me sing, make me sound  \\r\\n(You make me sing and you make me)  \\r\\nAndante, Andante  \\r\\nTread lightly on my ground  \\r\\nAndante, Andante  \\r\\nOh please don't let me down  \\r\\n  \\r\\nThere's a shimmer in your eyes  \\r\\nLike the feeling of a thousand butterflies  \\r\\nPlease don't talk, go on, play  \\r\\nAndante, Andante  \\r\\nAnd let me float away  \\r\\n  \\r\\nI'm your music  \\r\\n(I am your music and I am your song)  \\r\\nI'm your song  \\r\\n(I am your music and I am your song)  \\r\\nPlay me time and time again and make me strong  \\r\\n(Play me again 'cause you're making me strong)  \\r\\nMake me sing, make me sound  \\r\\n(You make me sing and you make me)  \\r\\nAndante, Andante  \\r\\nTread lightly on my ground  \\r\\nAndante, Andante  \\r\\nOh please don't let me down  \\r\\n  \\r\\nMake me sing, make me sound  \\r\\n(You make me sing and you make me)  \\r\\nAndante, Andante  \\r\\nTread lightly on my ground  \\r\\nAndante, Andante  \\r\\nOh please don't let me down  \\r\\nAndante, Andante  \\r\\nOh please don't let me down\\r\\n\\r\\n\""
      ]
     },
     "execution_count": 20,
     "metadata": {},
     "output_type": "execute_result"
    }
   ],
   "source": [
    "df.Combined_features[1]"
   ]
  },
  {
   "cell_type": "code",
   "execution_count": 21,
   "id": "399e99cb",
   "metadata": {
    "execution": {
     "iopub.execute_input": "2022-12-08T20:40:19.993809Z",
     "iopub.status.busy": "2022-12-08T20:40:19.993400Z",
     "iopub.status.idle": "2022-12-08T20:40:19.999943Z",
     "shell.execute_reply": "2022-12-08T20:40:19.998806Z"
    },
    "papermill": {
     "duration": 0.025111,
     "end_time": "2022-12-08T20:40:20.004954",
     "exception": false,
     "start_time": "2022-12-08T20:40:19.979843",
     "status": "completed"
    },
    "tags": []
   },
   "outputs": [
    {
     "name": "stdout",
     "output_type": "stream",
     "text": [
      "****************************************************\n",
      "\n",
      "ABBA Ahe's My Kind Of Girl Look at her face, it's a wonderful face  \r\n",
      "And it means something special to me  \r\n",
      "Look at the way that she smiles when she sees me  \r\n",
      "How lucky can one fellow be?  \r\n",
      "  \r\n",
      "She's just my kind of girl, she makes me feel fine  \r\n",
      "Who could ever believe that she could be mine?  \r\n",
      "She's just my kind of girl, without her I'm blue  \r\n",
      "And if she ever leaves me what could I do, what could I do?  \r\n",
      "  \r\n",
      "And when we go for a walk in the park  \r\n",
      "And she holds me and squeezes my hand  \r\n",
      "We'll go on walking for hours and talking  \r\n",
      "About all the things that we plan  \r\n",
      "  \r\n",
      "She's just my kind of girl, she makes me feel fine  \r\n",
      "Who could ever believe that she could be mine?  \r\n",
      "She's just my kind of girl, without her I'm blue  \r\n",
      "And if she ever leaves me what could I do, what could I do?\r\n",
      "\r\n",
      "\n",
      "****************************************************\n",
      "\n",
      "ABBA Andante, Andante Take it easy with me, please  \r\n",
      "Touch me gently like a summer evening breeze  \r\n",
      "Take your time, make it slow  \r\n",
      "Andante, Andante  \r\n",
      "Just let the feeling grow  \r\n",
      "  \r\n",
      "Make your fingers soft and light  \r\n",
      "Let your body be the velvet of the night  \r\n",
      "Touch my soul, you know how  \r\n",
      "Andante, Andante  \r\n",
      "Go slowly with me now  \r\n",
      "  \r\n",
      "I'm your music  \r\n",
      "(I am your music and I am your song)  \r\n",
      "I'm your song  \r\n",
      "(I am your music and I am your song)  \r\n",
      "Play me time and time again and make me strong  \r\n",
      "(Play me again 'cause you're making me strong)  \r\n",
      "Make me sing, make me sound  \r\n",
      "(You make me sing and you make me)  \r\n",
      "Andante, Andante  \r\n",
      "Tread lightly on my ground  \r\n",
      "Andante, Andante  \r\n",
      "Oh please don't let me down  \r\n",
      "  \r\n",
      "There's a shimmer in your eyes  \r\n",
      "Like the feeling of a thousand butterflies  \r\n",
      "Please don't talk, go on, play  \r\n",
      "Andante, Andante  \r\n",
      "And let me float away  \r\n",
      "  \r\n",
      "I'm your music  \r\n",
      "(I am your music and I am your song)  \r\n",
      "I'm your song  \r\n",
      "(I am your music and I am your song)  \r\n",
      "Play me time and time again and make me strong  \r\n",
      "(Play me again 'cause you're making me strong)  \r\n",
      "Make me sing, make me sound  \r\n",
      "(You make me sing and you make me)  \r\n",
      "Andante, Andante  \r\n",
      "Tread lightly on my ground  \r\n",
      "Andante, Andante  \r\n",
      "Oh please don't let me down  \r\n",
      "  \r\n",
      "Make me sing, make me sound  \r\n",
      "(You make me sing and you make me)  \r\n",
      "Andante, Andante  \r\n",
      "Tread lightly on my ground  \r\n",
      "Andante, Andante  \r\n",
      "Oh please don't let me down  \r\n",
      "Andante, Andante  \r\n",
      "Oh please don't let me down\r\n",
      "\r\n",
      "\n",
      "****************************************************\n",
      "\n",
      "ABBA As Good As New I'll never know why I had to go  \r\n",
      "Why I had to put up such a lousy rotten show  \r\n",
      "Boy, I was tough, packing all my stuff  \r\n",
      "Saying I don't need you anymore, I've had enough  \r\n",
      "And now, look at me standing here again 'cause I found out that  \r\n",
      "Ma ma ma ma ma ma ma ma ma ma ma ma ma ma ma ma my life is here  \r\n",
      "Gotta have you near  \r\n",
      "  \r\n",
      "As good as new, my love for you  \r\n",
      "And keeping it that way is my intention  \r\n",
      "As good as new and growing too  \r\n",
      "Yes, I think it's taking on a new dimension  \r\n",
      "It's as good as new, my love for you  \r\n",
      "Just like it used to be and even better  \r\n",
      "As good as new, thank God it's true  \r\n",
      "Darling, we were always meant to stay together  \r\n",
      "  \r\n",
      "Feel like a creep, never felt so cheap  \r\n",
      "Never had a notion that my love could be so deep  \r\n",
      "How could I make such a dumb mistake  \r\n",
      "Now I know I'm not entitled to another break  \r\n",
      "But please, baby, I beg you to forgive 'cause I found out that  \r\n",
      "Ma ma ma ma ma ma ma ma ma ma ma ma ma ma ma ma my life is here  \r\n",
      "Gotta get you near  \r\n",
      "  \r\n",
      "I thought that our love was at an end but here I am again  \r\n",
      "  \r\n",
      "As good as new, my love for you  \r\n",
      "And keeping it that way is my intention  \r\n",
      "As good as new and growing too  \r\n",
      "Yes, I think it's taking on a new dimension  \r\n",
      "It's as good as new, my love for you  \r\n",
      "Just like it used to be and even better  \r\n",
      "As good as new, thank God it's true  \r\n",
      "Darling, we were always meant to stay together  \r\n",
      "  \r\n",
      "Yes the love I have for you feels as good as new  \r\n",
      "Darling, we were always meant to stay together\r\n",
      "\r\n",
      "\n",
      "****************************************************\n",
      "\n",
      "ABBA Bang Making somebody happy is a question of give and take  \r\n",
      "You can learn how to show it so come on, give yourself a break  \r\n",
      "Every smile and every little touch  \r\n",
      "Don't you know that they mean so much  \r\n",
      "Sweet sweet kisses so tender  \r\n",
      "Always will return to sender  \r\n",
      "  \r\n",
      "Like a bang, a boom-a-boomerang  \r\n",
      "Dum-be-dum-dum be-dum-be-dum-dum  \r\n",
      "Oh bang, a boom-a-boomerang  \r\n",
      "Love is a tune you hum-de-hum-hum  \r\n",
      "So give it away, I think you'll learn  \r\n",
      "You'll get love in return  \r\n",
      "So bang, a boom-a-boomerang is love  \r\n",
      "A boom-a-boomerang is love  \r\n",
      "  \r\n",
      "Love is always around and you can look for it anywhere  \r\n",
      "When you feel that you've found it my advice is to take good care  \r\n",
      "Never use it as a selfish tool  \r\n",
      "Never ever be such a fool  \r\n",
      "Every feeling you're showing  \r\n",
      "Is a boomerang you're throwing  \r\n",
      "  \r\n",
      "Yes a bang, a boom-a-boomerang  \r\n",
      "Dum-be-dum-dum be-dum-be-dum-dum  \r\n",
      "Oh bang, a boom-a-boomerang  \r\n",
      "Love is a tune you hum-de-hum-hum  \r\n",
      "So give it away, I think you'll learn  \r\n",
      "You'll get love in return  \r\n",
      "So bang, a boom-a-boomerang is love  \r\n",
      "  \r\n",
      "And if you're warm and tender  \r\n",
      "I'll kiss you, return to sender  \r\n",
      "Please surrender  \r\n",
      "  \r\n",
      "Bang, a boom-a-boomerang  \r\n",
      "Dum-be-dum-dum be-dum-be-dum-dum  \r\n",
      "Oh bang, a boom-a-boomerang is love  \r\n",
      "A boom-a-boomerang is love\r\n",
      "\r\n",
      "\n",
      "****************************************************\n",
      "\n",
      "ABBA Bang-A-Boomerang Making somebody happy is a question of give and take  \r\n",
      "You can learn how to show it so come on, give yourself a break  \r\n",
      "Every smile and every little touch  \r\n",
      "Don't you know that they mean so much  \r\n",
      "Sweet sweet kisses so tender  \r\n",
      "Always will return to sender  \r\n",
      "  \r\n",
      "Like a bang, a boom-a-boomerang  \r\n",
      "Dumb-be-dumb-dumb be-dumb-be-dumb-dumb  \r\n",
      "Oh bang, a boom-a-boomerang  \r\n",
      "Love is a tune you hum-de-hum-hum  \r\n",
      "By giving away, I think you'll learn  \r\n",
      "You'll get love in return  \r\n",
      "So bang, a boom-a-boomerang is love  \r\n",
      "A boom-a-boomerang is love  \r\n",
      "  \r\n",
      "Love is always around and you can look for it anywhere  \r\n",
      "When you feel that you've found it my advice is to take good care  \r\n",
      "Never use it as a selfish tool  \r\n",
      "Never ever be such a fool  \r\n",
      "Every feeling you're showing  \r\n",
      "Is a boomerang you're throwing  \r\n",
      "  \r\n",
      "Yes a bang, a boom-a-boomerang  \r\n",
      "Dumb-be-dumb-dumb be-dumb-be-dumb-dumb  \r\n",
      "Oh bang, a boom-a-boomerang  \r\n",
      "Love is a tune you hum-de-hum-hum  \r\n",
      "By giving away, I think you'll learn  \r\n",
      "You'll get love in return  \r\n",
      "So bang, a boom-a-boomerang is love  \r\n",
      "  \r\n",
      "And if you're warm and tender  \r\n",
      "I'll kiss you, return to sender  \r\n",
      "Please surrender  \r\n",
      "  \r\n",
      "Bang, a boom-a-boomerang  \r\n",
      "Dumb-be-dumb-dumb be-dumb-be-dumb-dumb  \r\n",
      "Oh bang, a boom-a-boomerang is love  \r\n",
      "A boom-a-boomerang is love\r\n",
      "\r\n",
      "\n",
      "****************************************************\n",
      "\n",
      "ABBA Burning My Bridges Well, you hoot and you holler and you make me mad  \r\n",
      "And I've always been under your heel  \r\n",
      "Holy christ what a lousy deal  \r\n",
      "Now I'm sick and tired of your tedious ways  \r\n",
      "And I ain't gonna take it no more  \r\n",
      "Oh no no - walkin' out that door  \r\n",
      "  \r\n",
      "Burning my bridges, cutting my tie  \r\n",
      "Once again I wanna look into the eye  \r\n",
      "Being myself  \r\n",
      "Counting my pride  \r\n",
      "No un-right neighbour's gonna take me for a ride  \r\n",
      "Burning my bridges  \r\n",
      "Moving at last  \r\n",
      "Girl I'm leaving and I'm burying the past  \r\n",
      "Gonna have peace now  \r\n",
      "You can be free  \r\n",
      "No one here will make a sucker out of me\r\n",
      "\r\n",
      "\n"
     ]
    }
   ],
   "source": [
    "for i in range(0,6):\n",
    "    print(\"****************************************************\\n\")\n",
    "    print(df.Combined_features[i])"
   ]
  },
  {
   "cell_type": "markdown",
   "id": "0ec3141e",
   "metadata": {
    "papermill": {
     "duration": 0.013316,
     "end_time": "2022-12-08T20:40:20.031900",
     "exception": false,
     "start_time": "2022-12-08T20:40:20.018584",
     "status": "completed"
    },
    "tags": []
   },
   "source": [
    "*Function for cleaning data*"
   ]
  },
  {
   "cell_type": "code",
   "execution_count": 22,
   "id": "630ef995",
   "metadata": {
    "execution": {
     "iopub.execute_input": "2022-12-08T20:40:20.060416Z",
     "iopub.status.busy": "2022-12-08T20:40:20.060006Z",
     "iopub.status.idle": "2022-12-08T20:40:20.600347Z",
     "shell.execute_reply": "2022-12-08T20:40:20.599063Z"
    },
    "papermill": {
     "duration": 0.557655,
     "end_time": "2022-12-08T20:40:20.603046",
     "exception": false,
     "start_time": "2022-12-08T20:40:20.045391",
     "status": "completed"
    },
    "tags": []
   },
   "outputs": [],
   "source": [
    "import re\n",
    "import nltk\n",
    "from nltk.corpus import stopwords\n",
    "def cleaning(text):\n",
    "    text = re.sub(\"[^a-zA-Z]\", \" \", text)\n",
    "    text = text.lower()\n",
    "    text = text.split()\n",
    "    stops = set(stopwords.words(\"english\"))\n",
    "    text = [w for w in text if not w in stops]\n",
    "    text = \" \".join(text)\n",
    "    return text"
   ]
  },
  {
   "cell_type": "code",
   "execution_count": 23,
   "id": "7123552d",
   "metadata": {
    "execution": {
     "iopub.execute_input": "2022-12-08T20:40:20.631128Z",
     "iopub.status.busy": "2022-12-08T20:40:20.630396Z",
     "iopub.status.idle": "2022-12-08T20:40:32.608999Z",
     "shell.execute_reply": "2022-12-08T20:40:32.607803Z"
    },
    "papermill": {
     "duration": 11.99566,
     "end_time": "2022-12-08T20:40:32.611882",
     "exception": false,
     "start_time": "2022-12-08T20:40:20.616222",
     "status": "completed"
    },
    "tags": []
   },
   "outputs": [],
   "source": [
    "df['Combined_features'] = df['Combined_features'].apply(func = cleaning)"
   ]
  },
  {
   "cell_type": "code",
   "execution_count": 24,
   "id": "503336f3",
   "metadata": {
    "execution": {
     "iopub.execute_input": "2022-12-08T20:40:32.639969Z",
     "iopub.status.busy": "2022-12-08T20:40:32.639028Z",
     "iopub.status.idle": "2022-12-08T20:40:32.646368Z",
     "shell.execute_reply": "2022-12-08T20:40:32.645089Z"
    },
    "papermill": {
     "duration": 0.024302,
     "end_time": "2022-12-08T20:40:32.649435",
     "exception": false,
     "start_time": "2022-12-08T20:40:32.625133",
     "status": "completed"
    },
    "tags": []
   },
   "outputs": [
    {
     "name": "stdout",
     "output_type": "stream",
     "text": [
      "\n",
      "***********************************************\n",
      "\n",
      "abba ahe kind girl look face wonderful face means something special look way smiles sees lucky one fellow kind girl makes feel fine could ever believe could mine kind girl without blue ever leaves could could go walk park holds squeezes hand go walking hours talking things plan kind girl makes feel fine could ever believe could mine kind girl without blue ever leaves could could\n",
      "\n",
      "***********************************************\n",
      "\n",
      "abba andante andante take easy please touch gently like summer evening breeze take time make slow andante andante let feeling grow make fingers soft light let body velvet night touch soul know andante andante go slowly music music song song music song play time time make strong play cause making strong make sing make sound make sing make andante andante tread lightly ground andante andante oh please let shimmer eyes like feeling thousand butterflies please talk go play andante andante let float away music music song song music song play time time make strong play cause making strong make sing make sound make sing make andante andante tread lightly ground andante andante oh please let make sing make sound make sing make andante andante tread lightly ground andante andante oh please let andante andante oh please let\n",
      "\n",
      "***********************************************\n",
      "\n",
      "abba good new never know go put lousy rotten show boy tough packing stuff saying need anymore enough look standing cause found life gotta near good new love keeping way intention good new growing yes think taking new dimension good new love like used even better good new thank god true darling always meant stay together feel like creep never felt cheap never notion love could deep could make dumb mistake know entitled another break please baby beg forgive cause found life gotta get near thought love end good new love keeping way intention good new growing yes think taking new dimension good new love like used even better good new thank god true darling always meant stay together yes love feels good new darling always meant stay together\n",
      "\n",
      "***********************************************\n",
      "\n",
      "abba bang making somebody happy question give take learn show come give break every smile every little touch know mean much sweet sweet kisses tender always return sender like bang boom boomerang dum dum dum dum dum dum oh bang boom boomerang love tune hum de hum hum give away think learn get love return bang boom boomerang love boom boomerang love love always around look anywhere feel found advice take good care never use selfish tool never ever fool every feeling showing boomerang throwing yes bang boom boomerang dum dum dum dum dum dum oh bang boom boomerang love tune hum de hum hum give away think learn get love return bang boom boomerang love warm tender kiss return sender please surrender bang boom boomerang dum dum dum dum dum dum oh bang boom boomerang love boom boomerang love\n",
      "\n",
      "***********************************************\n",
      "\n",
      "abba bang boomerang making somebody happy question give take learn show come give break every smile every little touch know mean much sweet sweet kisses tender always return sender like bang boom boomerang dumb dumb dumb dumb dumb dumb oh bang boom boomerang love tune hum de hum hum giving away think learn get love return bang boom boomerang love boom boomerang love love always around look anywhere feel found advice take good care never use selfish tool never ever fool every feeling showing boomerang throwing yes bang boom boomerang dumb dumb dumb dumb dumb dumb oh bang boom boomerang love tune hum de hum hum giving away think learn get love return bang boom boomerang love warm tender kiss return sender please surrender bang boom boomerang dumb dumb dumb dumb dumb dumb oh bang boom boomerang love boom boomerang love\n",
      "\n",
      "***********************************************\n",
      "\n",
      "abba burning bridges well hoot holler make mad always heel holy christ lousy deal sick tired tedious ways gonna take oh walkin door burning bridges cutting tie wanna look eye counting pride un right neighbour gonna take ride burning bridges moving last girl leaving burying past gonna peace free one make sucker\n"
     ]
    }
   ],
   "source": [
    "for i in range(0,6):\n",
    "    print(\"\\n***********************************************\\n\")\n",
    "    print(df.Combined_features[i])"
   ]
  },
  {
   "cell_type": "markdown",
   "id": "c6c58115",
   "metadata": {
    "papermill": {
     "duration": 0.012458,
     "end_time": "2022-12-08T20:40:32.675545",
     "exception": false,
     "start_time": "2022-12-08T20:40:32.663087",
     "status": "completed"
    },
    "tags": []
   },
   "source": [
    "*Vectorization*"
   ]
  },
  {
   "cell_type": "code",
   "execution_count": 25,
   "id": "70f50af1",
   "metadata": {
    "execution": {
     "iopub.execute_input": "2022-12-08T20:40:32.702704Z",
     "iopub.status.busy": "2022-12-08T20:40:32.702306Z",
     "iopub.status.idle": "2022-12-08T20:40:32.707575Z",
     "shell.execute_reply": "2022-12-08T20:40:32.706550Z"
    },
    "papermill": {
     "duration": 0.021442,
     "end_time": "2022-12-08T20:40:32.709793",
     "exception": false,
     "start_time": "2022-12-08T20:40:32.688351",
     "status": "completed"
    },
    "tags": []
   },
   "outputs": [],
   "source": [
    "tfv = TfidfVectorizer(max_features = 10000)"
   ]
  },
  {
   "cell_type": "markdown",
   "id": "b10b5c11",
   "metadata": {
    "papermill": {
     "duration": 0.01292,
     "end_time": "2022-12-08T20:40:32.735534",
     "exception": false,
     "start_time": "2022-12-08T20:40:32.722614",
     "status": "completed"
    },
    "tags": []
   },
   "source": [
    "*Data Transformation*"
   ]
  },
  {
   "cell_type": "code",
   "execution_count": 26,
   "id": "1a71c54b",
   "metadata": {
    "execution": {
     "iopub.execute_input": "2022-12-08T20:40:32.763057Z",
     "iopub.status.busy": "2022-12-08T20:40:32.762265Z",
     "iopub.status.idle": "2022-12-08T20:40:36.367497Z",
     "shell.execute_reply": "2022-12-08T20:40:36.366407Z"
    },
    "papermill": {
     "duration": 3.621715,
     "end_time": "2022-12-08T20:40:36.370067",
     "exception": false,
     "start_time": "2022-12-08T20:40:32.748352",
     "status": "completed"
    },
    "tags": []
   },
   "outputs": [],
   "source": [
    "tfv_matrix = tfv.fit_transform(df[\"Combined_features\"])"
   ]
  },
  {
   "cell_type": "code",
   "execution_count": 27,
   "id": "02b29cf2",
   "metadata": {
    "execution": {
     "iopub.execute_input": "2022-12-08T20:40:36.397523Z",
     "iopub.status.busy": "2022-12-08T20:40:36.397111Z",
     "iopub.status.idle": "2022-12-08T20:40:36.403941Z",
     "shell.execute_reply": "2022-12-08T20:40:36.402823Z"
    },
    "papermill": {
     "duration": 0.023169,
     "end_time": "2022-12-08T20:40:36.406383",
     "exception": false,
     "start_time": "2022-12-08T20:40:36.383214",
     "status": "completed"
    },
    "tags": []
   },
   "outputs": [
    {
     "data": {
      "text/plain": [
       "(39466, 10000)"
      ]
     },
     "execution_count": 27,
     "metadata": {},
     "output_type": "execute_result"
    }
   ],
   "source": [
    "tfv_matrix.shape"
   ]
  },
  {
   "cell_type": "markdown",
   "id": "2717b299",
   "metadata": {
    "papermill": {
     "duration": 0.012619,
     "end_time": "2022-12-08T20:40:36.431905",
     "exception": false,
     "start_time": "2022-12-08T20:40:36.419286",
     "status": "completed"
    },
    "tags": []
   },
   "source": [
    "*Cosine Similarities Matrix*"
   ]
  },
  {
   "cell_type": "code",
   "execution_count": 28,
   "id": "4bfe2d24",
   "metadata": {
    "execution": {
     "iopub.execute_input": "2022-12-08T20:40:36.459575Z",
     "iopub.status.busy": "2022-12-08T20:40:36.459130Z",
     "iopub.status.idle": "2022-12-08T20:42:19.139475Z",
     "shell.execute_reply": "2022-12-08T20:42:19.138213Z"
    },
    "papermill": {
     "duration": 102.697408,
     "end_time": "2022-12-08T20:42:19.142244",
     "exception": false,
     "start_time": "2022-12-08T20:40:36.444836",
     "status": "completed"
    },
    "tags": []
   },
   "outputs": [],
   "source": [
    "cosine_sim = cosine_similarity(tfv_matrix)"
   ]
  },
  {
   "cell_type": "code",
   "execution_count": 29,
   "id": "2a0a6bdb",
   "metadata": {
    "execution": {
     "iopub.execute_input": "2022-12-08T20:42:19.170962Z",
     "iopub.status.busy": "2022-12-08T20:42:19.170359Z",
     "iopub.status.idle": "2022-12-08T20:42:19.185344Z",
     "shell.execute_reply": "2022-12-08T20:42:19.184111Z"
    },
    "papermill": {
     "duration": 0.032174,
     "end_time": "2022-12-08T20:42:19.188094",
     "exception": false,
     "start_time": "2022-12-08T20:42:19.155920",
     "status": "completed"
    },
    "tags": []
   },
   "outputs": [],
   "source": [
    "song_user_likes = \"Hope\"\n",
    "song_index = df[df.Song == song_user_likes].index[0]"
   ]
  },
  {
   "cell_type": "code",
   "execution_count": 30,
   "id": "4a50a31f",
   "metadata": {
    "execution": {
     "iopub.execute_input": "2022-12-08T20:42:19.217086Z",
     "iopub.status.busy": "2022-12-08T20:42:19.216238Z",
     "iopub.status.idle": "2022-12-08T20:42:19.223305Z",
     "shell.execute_reply": "2022-12-08T20:42:19.222383Z"
    },
    "papermill": {
     "duration": 0.024131,
     "end_time": "2022-12-08T20:42:19.225559",
     "exception": false,
     "start_time": "2022-12-08T20:42:19.201428",
     "status": "completed"
    },
    "tags": []
   },
   "outputs": [
    {
     "data": {
      "text/plain": [
       "659"
      ]
     },
     "execution_count": 30,
     "metadata": {},
     "output_type": "execute_result"
    }
   ],
   "source": [
    "song_index"
   ]
  },
  {
   "cell_type": "code",
   "execution_count": 31,
   "id": "e7b5cb1c",
   "metadata": {
    "execution": {
     "iopub.execute_input": "2022-12-08T20:42:19.254526Z",
     "iopub.status.busy": "2022-12-08T20:42:19.253696Z",
     "iopub.status.idle": "2022-12-08T20:42:19.265698Z",
     "shell.execute_reply": "2022-12-08T20:42:19.264581Z"
    },
    "papermill": {
     "duration": 0.02945,
     "end_time": "2022-12-08T20:42:19.268217",
     "exception": false,
     "start_time": "2022-12-08T20:42:19.238767",
     "status": "completed"
    },
    "tags": []
   },
   "outputs": [],
   "source": [
    "similar_songs = list(enumerate(cosine_sim[song_index]))"
   ]
  },
  {
   "cell_type": "code",
   "execution_count": 32,
   "id": "6297bed6",
   "metadata": {
    "execution": {
     "iopub.execute_input": "2022-12-08T20:42:19.296715Z",
     "iopub.status.busy": "2022-12-08T20:42:19.295904Z",
     "iopub.status.idle": "2022-12-08T20:42:19.303621Z",
     "shell.execute_reply": "2022-12-08T20:42:19.302477Z"
    },
    "papermill": {
     "duration": 0.024479,
     "end_time": "2022-12-08T20:42:19.305842",
     "exception": false,
     "start_time": "2022-12-08T20:42:19.281363",
     "status": "completed"
    },
    "tags": []
   },
   "outputs": [
    {
     "data": {
      "text/plain": [
       "[(0, 0.04092533924868175),\n",
       " (1, 0.01746788081317406),\n",
       " (2, 0.04942975440682899),\n",
       " (3, 0.0065672233749841415),\n",
       " (4, 0.007298608643914333),\n",
       " (5, 0.0580729402516177)]"
      ]
     },
     "execution_count": 32,
     "metadata": {},
     "output_type": "execute_result"
    }
   ],
   "source": [
    "similar_songs[0:6]"
   ]
  },
  {
   "cell_type": "code",
   "execution_count": 33,
   "id": "eb473b39",
   "metadata": {
    "execution": {
     "iopub.execute_input": "2022-12-08T20:42:19.334846Z",
     "iopub.status.busy": "2022-12-08T20:42:19.334112Z",
     "iopub.status.idle": "2022-12-08T20:42:19.362497Z",
     "shell.execute_reply": "2022-12-08T20:42:19.361430Z"
    },
    "papermill": {
     "duration": 0.045864,
     "end_time": "2022-12-08T20:42:19.364996",
     "exception": false,
     "start_time": "2022-12-08T20:42:19.319132",
     "status": "completed"
    },
    "tags": []
   },
   "outputs": [],
   "source": [
    "similar_song_sorted = sorted(similar_songs,key = lambda x:x[1],reverse = True)"
   ]
  },
  {
   "cell_type": "code",
   "execution_count": 34,
   "id": "a5ebd883",
   "metadata": {
    "execution": {
     "iopub.execute_input": "2022-12-08T20:42:19.393397Z",
     "iopub.status.busy": "2022-12-08T20:42:19.392984Z",
     "iopub.status.idle": "2022-12-08T20:42:19.399974Z",
     "shell.execute_reply": "2022-12-08T20:42:19.399074Z"
    },
    "papermill": {
     "duration": 0.023795,
     "end_time": "2022-12-08T20:42:19.402079",
     "exception": false,
     "start_time": "2022-12-08T20:42:19.378284",
     "status": "completed"
    },
    "tags": []
   },
   "outputs": [
    {
     "data": {
      "text/plain": [
       "[(659, 1.0000000000000002),\n",
       " (8068, 0.5784493048716957),\n",
       " (37444, 0.5647907063872308),\n",
       " (23056, 0.45309671761554454),\n",
       " (20793, 0.4242324884462278),\n",
       " (20002, 0.3878758836093712)]"
      ]
     },
     "execution_count": 34,
     "metadata": {},
     "output_type": "execute_result"
    }
   ],
   "source": [
    "similar_song_sorted[0:6]"
   ]
  },
  {
   "cell_type": "code",
   "execution_count": 35,
   "id": "563cf308",
   "metadata": {
    "execution": {
     "iopub.execute_input": "2022-12-08T20:42:19.431161Z",
     "iopub.status.busy": "2022-12-08T20:42:19.430003Z",
     "iopub.status.idle": "2022-12-08T20:42:19.444138Z",
     "shell.execute_reply": "2022-12-08T20:42:19.442205Z"
    },
    "papermill": {
     "duration": 0.03164,
     "end_time": "2022-12-08T20:42:19.447166",
     "exception": false,
     "start_time": "2022-12-08T20:42:19.415526",
     "status": "completed"
    },
    "tags": []
   },
   "outputs": [
    {
     "name": "stdout",
     "output_type": "stream",
     "text": [
      "Who Do You Love, I Hope\n",
      "Here's Hope\n",
      "I Hope You Find It\n",
      "Be Alright\n",
      "I Want To Be With You Tonight\n",
      "Alright\n",
      "Hope It's Too Late\n",
      "If He's Ever Near\n",
      "Hope And Pray\n",
      "Want\n"
     ]
    }
   ],
   "source": [
    "for song in similar_song_sorted[1:11]:\n",
    "    \n",
    "    similar_songs = df[df.index == song[0]][\"Song\"].values[0]\n",
    "    print(similar_songs)"
   ]
  },
  {
   "cell_type": "markdown",
   "id": "f200eb09",
   "metadata": {
    "papermill": {
     "duration": 0.013077,
     "end_time": "2022-12-08T20:42:19.473915",
     "exception": false,
     "start_time": "2022-12-08T20:42:19.460838",
     "status": "completed"
    },
    "tags": []
   },
   "source": [
    "*Recommender System Creation*"
   ]
  },
  {
   "cell_type": "code",
   "execution_count": 36,
   "id": "18dd18a9",
   "metadata": {
    "execution": {
     "iopub.execute_input": "2022-12-08T20:42:19.502579Z",
     "iopub.status.busy": "2022-12-08T20:42:19.501823Z",
     "iopub.status.idle": "2022-12-08T20:42:19.508772Z",
     "shell.execute_reply": "2022-12-08T20:42:19.507853Z"
    },
    "papermill": {
     "duration": 0.023866,
     "end_time": "2022-12-08T20:42:19.511049",
     "exception": false,
     "start_time": "2022-12-08T20:42:19.487183",
     "status": "completed"
    },
    "tags": []
   },
   "outputs": [],
   "source": [
    "def recommended_songs(song_user_likes):\n",
    "    song_index = df[df.Song == song_user_likes].index[0]\n",
    "    similar_songs = list(enumerate(cosine_sim[song_index]))\n",
    "    similar_song_sorted = sorted(similar_songs, key=lambda x:x[1], reverse=True)\n",
    "    \n",
    "    for song in similar_song_sorted[1:11]:\n",
    "        similar_songs = df[df.index == song[0]][\"Song\"].values[0]\n",
    "        print(similar_songs)"
   ]
  },
  {
   "cell_type": "code",
   "execution_count": 37,
   "id": "4c22acff",
   "metadata": {
    "execution": {
     "iopub.execute_input": "2022-12-08T20:42:19.540402Z",
     "iopub.status.busy": "2022-12-08T20:42:19.539944Z",
     "iopub.status.idle": "2022-12-08T20:42:19.592955Z",
     "shell.execute_reply": "2022-12-08T20:42:19.591363Z"
    },
    "papermill": {
     "duration": 0.070663,
     "end_time": "2022-12-08T20:42:19.595547",
     "exception": false,
     "start_time": "2022-12-08T20:42:19.524884",
     "status": "completed"
    },
    "tags": []
   },
   "outputs": [
    {
     "name": "stdout",
     "output_type": "stream",
     "text": [
      "Who Do You Love, I Hope\n",
      "Here's Hope\n",
      "I Hope You Find It\n",
      "Be Alright\n",
      "I Want To Be With You Tonight\n",
      "Alright\n",
      "Hope It's Too Late\n",
      "If He's Ever Near\n",
      "Hope And Pray\n",
      "Want\n"
     ]
    }
   ],
   "source": [
    "recommended_songs(\"Hope\")"
   ]
  },
  {
   "cell_type": "markdown",
   "id": "2bbacfd3",
   "metadata": {
    "papermill": {
     "duration": 0.013463,
     "end_time": "2022-12-08T20:42:19.622773",
     "exception": false,
     "start_time": "2022-12-08T20:42:19.609310",
     "status": "completed"
    },
    "tags": []
   },
   "source": [
    "*Thanks*"
   ]
  },
  {
   "cell_type": "code",
   "execution_count": null,
   "id": "b0feb60e",
   "metadata": {
    "papermill": {
     "duration": 0.013633,
     "end_time": "2022-12-08T20:42:19.650111",
     "exception": false,
     "start_time": "2022-12-08T20:42:19.636478",
     "status": "completed"
    },
    "tags": []
   },
   "outputs": [],
   "source": []
  }
 ],
 "metadata": {
  "kernelspec": {
   "display_name": "Python 3",
   "language": "python",
   "name": "python3"
  },
  "language_info": {
   "codemirror_mode": {
    "name": "ipython",
    "version": 3
   },
   "file_extension": ".py",
   "mimetype": "text/x-python",
   "name": "python",
   "nbconvert_exporter": "python",
   "pygments_lexer": "ipython3",
   "version": "3.7.12"
  },
  "papermill": {
   "default_parameters": {},
   "duration": 133.709864,
   "end_time": "2022-12-08T20:42:21.289593",
   "environment_variables": {},
   "exception": null,
   "input_path": "__notebook__.ipynb",
   "output_path": "__notebook__.ipynb",
   "parameters": {},
   "start_time": "2022-12-08T20:40:07.579729",
   "version": "2.3.4"
  }
 },
 "nbformat": 4,
 "nbformat_minor": 5
}
