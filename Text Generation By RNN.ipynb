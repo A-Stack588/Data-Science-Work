{
 "cells": [
  {
   "cell_type": "markdown",
   "id": "384293b3",
   "metadata": {},
   "source": [
    "# IMPORT LIBRARIES"
   ]
  },
  {
   "cell_type": "code",
   "execution_count": 1,
   "id": "fe3fd884",
   "metadata": {},
   "outputs": [],
   "source": [
    "import numpy\n",
    "import pandas \n",
    "import numpy as np \n",
    "import pandas as pd \n",
    "import keras \n",
    "import tensorflow as tf\n",
    "import seaborn as sns\n",
    "import matplotlib.pyplot as plt\n",
    "%matplotlib inline"
   ]
  },
  {
   "cell_type": "markdown",
   "id": "830e2c85",
   "metadata": {},
   "source": [
    "# Extracting Text File Within Same Folder"
   ]
  },
  {
   "cell_type": "code",
   "execution_count": 2,
   "id": "150d95cf",
   "metadata": {},
   "outputs": [],
   "source": [
    "path_to_file = 'shakespeare.txt'"
   ]
  },
  {
   "cell_type": "code",
   "execution_count": 3,
   "id": "e1d7b67c",
   "metadata": {},
   "outputs": [],
   "source": [
    "text = open(path_to_file, 'r').read()"
   ]
  },
  {
   "cell_type": "code",
   "execution_count": 4,
   "id": "84cf0564",
   "metadata": {},
   "outputs": [
    {
     "name": "stdout",
     "output_type": "stream",
     "text": [
      "\n",
      "                     1\n",
      "  From fairest creatures we desire increase,\n",
      "  That thereby beauty's rose might never die,\n",
      "  But as the riper should by time decease,\n",
      "  His tender heir might bear his memory:\n",
      "  But thou contracted to thine own bright eyes,\n",
      "  Feed'st thy light's flame with self-substantial fuel,\n",
      "  Making a famine where abundance lies,\n",
      "  Thy self thy foe, to thy sweet self too cruel:\n",
      "  Thou that art now the world's fresh ornament,\n",
      "  And only herald to the gaudy spring,\n",
      "  Within thine own bu\n"
     ]
    }
   ],
   "source": [
    "print(text[:500])"
   ]
  },
  {
   "cell_type": "markdown",
   "id": "ff4cc663",
   "metadata": {},
   "source": [
    "## Understanding unique characters"
   ]
  },
  {
   "cell_type": "code",
   "execution_count": 5,
   "id": "3dce557a",
   "metadata": {},
   "outputs": [],
   "source": [
    "# The unique characters in the file\n",
    "vocab = sorted(set(text))"
   ]
  },
  {
   "cell_type": "code",
   "execution_count": 6,
   "id": "2b3d4b5e",
   "metadata": {},
   "outputs": [
    {
     "name": "stdout",
     "output_type": "stream",
     "text": [
      "['\\n', ' ', '!', '\"', '&', \"'\", '(', ')', ',', '-', '.', '0', '1', '2', '3', '4', '5', '6', '7', '8', '9', ':', ';', '<', '>', '?', 'A', 'B', 'C', 'D', 'E', 'F', 'G', 'H', 'I', 'J', 'K', 'L', 'M', 'N', 'O', 'P', 'Q', 'R', 'S', 'T', 'U', 'V', 'W', 'X', 'Y', 'Z', '[', ']', '_', '`', 'a', 'b', 'c', 'd', 'e', 'f', 'g', 'h', 'i', 'j', 'k', 'l', 'm', 'n', 'o', 'p', 'q', 'r', 's', 't', 'u', 'v', 'w', 'x', 'y', 'z', '|', '}']\n"
     ]
    }
   ],
   "source": [
    "print(vocab)"
   ]
  },
  {
   "cell_type": "code",
   "execution_count": 7,
   "id": "f1d561ba",
   "metadata": {},
   "outputs": [
    {
     "data": {
      "text/plain": [
       "84"
      ]
     },
     "execution_count": 7,
     "metadata": {},
     "output_type": "execute_result"
    }
   ],
   "source": [
    "len(vocab)"
   ]
  },
  {
   "cell_type": "markdown",
   "id": "83cf726e",
   "metadata": {},
   "source": [
    "# Text Processing"
   ]
  },
  {
   "cell_type": "markdown",
   "id": "69bf9f3c",
   "metadata": {},
   "source": [
    "### Text Victorization"
   ]
  },
  {
   "cell_type": "markdown",
   "id": "30428e74",
   "metadata": {},
   "source": [
    "We know a neural network can't take in the raw string data, we need to assign numbers to each character. Let's create two dictionaries that can go from numeric index to character and character to numeric index."
   ]
  },
  {
   "cell_type": "code",
   "execution_count": 8,
   "id": "160d0377",
   "metadata": {},
   "outputs": [],
   "source": [
    "char_to_ind = {u:i for u,i in enumerate(vocab)}"
   ]
  },
  {
   "cell_type": "code",
   "execution_count": 9,
   "id": "dff30327",
   "metadata": {},
   "outputs": [
    {
     "data": {
      "text/plain": [
       "{0: '\\n',\n",
       " 1: ' ',\n",
       " 2: '!',\n",
       " 3: '\"',\n",
       " 4: '&',\n",
       " 5: \"'\",\n",
       " 6: '(',\n",
       " 7: ')',\n",
       " 8: ',',\n",
       " 9: '-',\n",
       " 10: '.',\n",
       " 11: '0',\n",
       " 12: '1',\n",
       " 13: '2',\n",
       " 14: '3',\n",
       " 15: '4',\n",
       " 16: '5',\n",
       " 17: '6',\n",
       " 18: '7',\n",
       " 19: '8',\n",
       " 20: '9',\n",
       " 21: ':',\n",
       " 22: ';',\n",
       " 23: '<',\n",
       " 24: '>',\n",
       " 25: '?',\n",
       " 26: 'A',\n",
       " 27: 'B',\n",
       " 28: 'C',\n",
       " 29: 'D',\n",
       " 30: 'E',\n",
       " 31: 'F',\n",
       " 32: 'G',\n",
       " 33: 'H',\n",
       " 34: 'I',\n",
       " 35: 'J',\n",
       " 36: 'K',\n",
       " 37: 'L',\n",
       " 38: 'M',\n",
       " 39: 'N',\n",
       " 40: 'O',\n",
       " 41: 'P',\n",
       " 42: 'Q',\n",
       " 43: 'R',\n",
       " 44: 'S',\n",
       " 45: 'T',\n",
       " 46: 'U',\n",
       " 47: 'V',\n",
       " 48: 'W',\n",
       " 49: 'X',\n",
       " 50: 'Y',\n",
       " 51: 'Z',\n",
       " 52: '[',\n",
       " 53: ']',\n",
       " 54: '_',\n",
       " 55: '`',\n",
       " 56: 'a',\n",
       " 57: 'b',\n",
       " 58: 'c',\n",
       " 59: 'd',\n",
       " 60: 'e',\n",
       " 61: 'f',\n",
       " 62: 'g',\n",
       " 63: 'h',\n",
       " 64: 'i',\n",
       " 65: 'j',\n",
       " 66: 'k',\n",
       " 67: 'l',\n",
       " 68: 'm',\n",
       " 69: 'n',\n",
       " 70: 'o',\n",
       " 71: 'p',\n",
       " 72: 'q',\n",
       " 73: 'r',\n",
       " 74: 's',\n",
       " 75: 't',\n",
       " 76: 'u',\n",
       " 77: 'v',\n",
       " 78: 'w',\n",
       " 79: 'x',\n",
       " 80: 'y',\n",
       " 81: 'z',\n",
       " 82: '|',\n",
       " 83: '}'}"
      ]
     },
     "execution_count": 9,
     "metadata": {},
     "output_type": "execute_result"
    }
   ],
   "source": [
    "char_to_ind"
   ]
  },
  {
   "cell_type": "code",
   "execution_count": 10,
   "id": "44f7c913",
   "metadata": {},
   "outputs": [],
   "source": [
    "char_to_ind = np.array(vocab)"
   ]
  },
  {
   "cell_type": "code",
   "execution_count": 11,
   "id": "86e02406",
   "metadata": {},
   "outputs": [
    {
     "data": {
      "text/plain": [
       "array(['\\n', ' ', '!', '\"', '&', \"'\", '(', ')', ',', '-', '.', '0', '1',\n",
       "       '2', '3', '4', '5', '6', '7', '8', '9', ':', ';', '<', '>', '?',\n",
       "       'A', 'B', 'C', 'D', 'E', 'F', 'G', 'H', 'I', 'J', 'K', 'L', 'M',\n",
       "       'N', 'O', 'P', 'Q', 'R', 'S', 'T', 'U', 'V', 'W', 'X', 'Y', 'Z',\n",
       "       '[', ']', '_', '`', 'a', 'b', 'c', 'd', 'e', 'f', 'g', 'h', 'i',\n",
       "       'j', 'k', 'l', 'm', 'n', 'o', 'p', 'q', 'r', 's', 't', 'u', 'v',\n",
       "       'w', 'x', 'y', 'z', '|', '}'], dtype='<U1')"
      ]
     },
     "execution_count": 11,
     "metadata": {},
     "output_type": "execute_result"
    }
   ],
   "source": [
    "char_to_ind"
   ]
  },
  {
   "cell_type": "code",
   "execution_count": null,
   "id": "5c63e000",
   "metadata": {},
   "outputs": [],
   "source": []
  }
 ],
 "metadata": {
  "kernelspec": {
   "display_name": "Python 3 (ipykernel)",
   "language": "python",
   "name": "python3"
  },
  "language_info": {
   "codemirror_mode": {
    "name": "ipython",
    "version": 3
   },
   "file_extension": ".py",
   "mimetype": "text/x-python",
   "name": "python",
   "nbconvert_exporter": "python",
   "pygments_lexer": "ipython3",
   "version": "3.9.7"
  }
 },
 "nbformat": 4,
 "nbformat_minor": 5
}
