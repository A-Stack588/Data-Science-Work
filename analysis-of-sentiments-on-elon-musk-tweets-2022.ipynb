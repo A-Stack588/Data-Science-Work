{
 "cells": [
  {
   "cell_type": "code",
   "execution_count": 1,
   "id": "7f34c1aa",
   "metadata": {
    "_cell_guid": "b1076dfc-b9ad-4769-8c92-a6c4dae69d19",
    "_uuid": "8f2839f25d086af736a60e9eeb907d3b93b6e0e5",
    "execution": {
     "iopub.execute_input": "2022-12-11T10:38:36.342033Z",
     "iopub.status.busy": "2022-12-11T10:38:36.341636Z",
     "iopub.status.idle": "2022-12-11T10:38:36.360374Z",
     "shell.execute_reply": "2022-12-11T10:38:36.359561Z"
    },
    "papermill": {
     "duration": 0.029709,
     "end_time": "2022-12-11T10:38:36.362789",
     "exception": false,
     "start_time": "2022-12-11T10:38:36.333080",
     "status": "completed"
    },
    "tags": []
   },
   "outputs": [
    {
     "name": "stdout",
     "output_type": "stream",
     "text": [
      "/kaggle/input/elon-musks-tweets-dataset-2022/cleandata.csv\n",
      "/kaggle/input/elon-musks-tweets-dataset-2022/rawdata.csv\n",
      "/kaggle/input/elon-musks-tweets-dataset-2022/userinfo.csv\n"
     ]
    }
   ],
   "source": [
    "# This Python 3 environment comes with many helpful analytics libraries installed\n",
    "# It is defined by the kaggle/python Docker image: https://github.com/kaggle/docker-python\n",
    "# For example, here's several helpful packages to load\n",
    "\n",
    "import numpy as np # linear algebra\n",
    "import pandas as pd # data processing, CSV file I/O (e.g. pd.read_csv)\n",
    "\n",
    "# Input data files are available in the read-only \"../input/\" directory\n",
    "# For example, running this (by clicking run or pressing Shift+Enter) will list all files under the input directory\n",
    "\n",
    "import os\n",
    "for dirname, _, filenames in os.walk('/kaggle/input'):\n",
    "    for filename in filenames:\n",
    "        print(os.path.join(dirname, filename))\n",
    "\n",
    "# You can write up to 20GB to the current directory (/kaggle/working/) that gets preserved as output when you create a version using \"Save & Run All\" \n",
    "# You can also write temporary files to /kaggle/temp/, but they won't be saved outside of the current session"
   ]
  },
  {
   "cell_type": "markdown",
   "id": "46e4b061",
   "metadata": {
    "papermill": {
     "duration": 0.005955,
     "end_time": "2022-12-11T10:38:36.375914",
     "exception": false,
     "start_time": "2022-12-11T10:38:36.369959",
     "status": "completed"
    },
    "tags": []
   },
   "source": [
    "*Import Dependencies*"
   ]
  },
  {
   "cell_type": "code",
   "execution_count": 2,
   "id": "8456d5cf",
   "metadata": {
    "execution": {
     "iopub.execute_input": "2022-12-11T10:38:36.389698Z",
     "iopub.status.busy": "2022-12-11T10:38:36.389393Z",
     "iopub.status.idle": "2022-12-11T10:38:37.692881Z",
     "shell.execute_reply": "2022-12-11T10:38:37.692029Z"
    },
    "papermill": {
     "duration": 1.312998,
     "end_time": "2022-12-11T10:38:37.695107",
     "exception": false,
     "start_time": "2022-12-11T10:38:36.382109",
     "status": "completed"
    },
    "tags": []
   },
   "outputs": [],
   "source": [
    "import os\n",
    "import sys\n",
    "import warnings\n",
    "import matplotlib\n",
    "import pandas\n",
    "import numpy\n",
    "import re\n",
    "import nltk\n",
    "from textblob import TextBlob\n",
    "\n",
    "import seaborn as sns\n",
    "import matplotlib.pyplot as plt\n",
    "import pandas as pd\n",
    "import numpy as np\n",
    "warnings.filterwarnings(\"ignore\")\n",
    "from sklearn.feature_extraction.text import CountVectorizer\n",
    "from sklearn.feature_extraction.text import TfidfVectorizer\n",
    "%matplotlib inline"
   ]
  },
  {
   "cell_type": "markdown",
   "id": "efe51f45",
   "metadata": {
    "papermill": {
     "duration": 0.005878,
     "end_time": "2022-12-11T10:38:37.707568",
     "exception": false,
     "start_time": "2022-12-11T10:38:37.701690",
     "status": "completed"
    },
    "tags": []
   },
   "source": [
    "*Load Dataset*"
   ]
  },
  {
   "cell_type": "code",
   "execution_count": 3,
   "id": "40cc8365",
   "metadata": {
    "execution": {
     "iopub.execute_input": "2022-12-11T10:38:37.720940Z",
     "iopub.status.busy": "2022-12-11T10:38:37.720628Z",
     "iopub.status.idle": "2022-12-11T10:38:37.744597Z",
     "shell.execute_reply": "2022-12-11T10:38:37.743698Z"
    },
    "papermill": {
     "duration": 0.032959,
     "end_time": "2022-12-11T10:38:37.746574",
     "exception": false,
     "start_time": "2022-12-11T10:38:37.713615",
     "status": "completed"
    },
    "tags": []
   },
   "outputs": [],
   "source": [
    "df = pd.read_csv(\"/kaggle/input/elon-musks-tweets-dataset-2022/rawdata.csv\")"
   ]
  },
  {
   "cell_type": "markdown",
   "id": "f220c3b7",
   "metadata": {
    "papermill": {
     "duration": 0.005972,
     "end_time": "2022-12-11T10:38:37.760073",
     "exception": false,
     "start_time": "2022-12-11T10:38:37.754101",
     "status": "completed"
    },
    "tags": []
   },
   "source": [
    "*EDA*"
   ]
  },
  {
   "cell_type": "code",
   "execution_count": 4,
   "id": "fc61eb20",
   "metadata": {
    "execution": {
     "iopub.execute_input": "2022-12-11T10:38:37.773370Z",
     "iopub.status.busy": "2022-12-11T10:38:37.773084Z",
     "iopub.status.idle": "2022-12-11T10:38:37.787748Z",
     "shell.execute_reply": "2022-12-11T10:38:37.786800Z"
    },
    "papermill": {
     "duration": 0.023252,
     "end_time": "2022-12-11T10:38:37.789506",
     "exception": false,
     "start_time": "2022-12-11T10:38:37.766254",
     "status": "completed"
    },
    "tags": []
   },
   "outputs": [
    {
     "data": {
      "text/html": [
       "<div>\n",
       "<style scoped>\n",
       "    .dataframe tbody tr th:only-of-type {\n",
       "        vertical-align: middle;\n",
       "    }\n",
       "\n",
       "    .dataframe tbody tr th {\n",
       "        vertical-align: top;\n",
       "    }\n",
       "\n",
       "    .dataframe thead th {\n",
       "        text-align: right;\n",
       "    }\n",
       "</style>\n",
       "<table border=\"1\" class=\"dataframe\">\n",
       "  <thead>\n",
       "    <tr style=\"text-align: right;\">\n",
       "      <th></th>\n",
       "      <th>Tweets</th>\n",
       "      <th>Retweets</th>\n",
       "      <th>Likes</th>\n",
       "      <th>Date</th>\n",
       "    </tr>\n",
       "  </thead>\n",
       "  <tbody>\n",
       "    <tr>\n",
       "      <th>0</th>\n",
       "      <td>@PeterSchiff 🤣 thanks</td>\n",
       "      <td>209</td>\n",
       "      <td>7021</td>\n",
       "      <td>2022-10-27 16:17:39</td>\n",
       "    </tr>\n",
       "    <tr>\n",
       "      <th>1</th>\n",
       "      <td>@ZubyMusic Absolutely</td>\n",
       "      <td>755</td>\n",
       "      <td>26737</td>\n",
       "      <td>2022-10-27 13:19:25</td>\n",
       "    </tr>\n",
       "    <tr>\n",
       "      <th>2</th>\n",
       "      <td>Dear Twitter Advertisers https://t.co/GMwHmInPAS</td>\n",
       "      <td>55927</td>\n",
       "      <td>356623</td>\n",
       "      <td>2022-10-27 13:08:00</td>\n",
       "    </tr>\n",
       "    <tr>\n",
       "      <th>3</th>\n",
       "      <td>@BillyM2k 👻</td>\n",
       "      <td>802</td>\n",
       "      <td>19353</td>\n",
       "      <td>2022-10-27 02:32:48</td>\n",
       "    </tr>\n",
       "    <tr>\n",
       "      <th>4</th>\n",
       "      <td>Meeting a lot of cool people at Twitter today!</td>\n",
       "      <td>9366</td>\n",
       "      <td>195546</td>\n",
       "      <td>2022-10-26 21:39:32</td>\n",
       "    </tr>\n",
       "  </tbody>\n",
       "</table>\n",
       "</div>"
      ],
      "text/plain": [
       "                                             Tweets  Retweets   Likes  \\\n",
       "0                             @PeterSchiff 🤣 thanks       209    7021   \n",
       "1                             @ZubyMusic Absolutely       755   26737   \n",
       "2  Dear Twitter Advertisers https://t.co/GMwHmInPAS     55927  356623   \n",
       "3                                       @BillyM2k 👻       802   19353   \n",
       "4    Meeting a lot of cool people at Twitter today!      9366  195546   \n",
       "\n",
       "                  Date  \n",
       "0  2022-10-27 16:17:39  \n",
       "1  2022-10-27 13:19:25  \n",
       "2  2022-10-27 13:08:00  \n",
       "3  2022-10-27 02:32:48  \n",
       "4  2022-10-26 21:39:32  "
      ]
     },
     "execution_count": 4,
     "metadata": {},
     "output_type": "execute_result"
    }
   ],
   "source": [
    "df.head(5)"
   ]
  },
  {
   "cell_type": "code",
   "execution_count": 5,
   "id": "40fdaf87",
   "metadata": {
    "execution": {
     "iopub.execute_input": "2022-12-11T10:38:37.803791Z",
     "iopub.status.busy": "2022-12-11T10:38:37.802988Z",
     "iopub.status.idle": "2022-12-11T10:38:37.810554Z",
     "shell.execute_reply": "2022-12-11T10:38:37.810032Z"
    },
    "papermill": {
     "duration": 0.015911,
     "end_time": "2022-12-11T10:38:37.812007",
     "exception": false,
     "start_time": "2022-12-11T10:38:37.796096",
     "status": "completed"
    },
    "tags": []
   },
   "outputs": [
    {
     "data": {
      "text/html": [
       "<div>\n",
       "<style scoped>\n",
       "    .dataframe tbody tr th:only-of-type {\n",
       "        vertical-align: middle;\n",
       "    }\n",
       "\n",
       "    .dataframe tbody tr th {\n",
       "        vertical-align: top;\n",
       "    }\n",
       "\n",
       "    .dataframe thead th {\n",
       "        text-align: right;\n",
       "    }\n",
       "</style>\n",
       "<table border=\"1\" class=\"dataframe\">\n",
       "  <thead>\n",
       "    <tr style=\"text-align: right;\">\n",
       "      <th></th>\n",
       "      <th>Tweets</th>\n",
       "      <th>Retweets</th>\n",
       "      <th>Likes</th>\n",
       "      <th>Date</th>\n",
       "    </tr>\n",
       "  </thead>\n",
       "  <tbody>\n",
       "    <tr>\n",
       "      <th>3055</th>\n",
       "      <td>@LimitingThe @baglino Just that manganese is a...</td>\n",
       "      <td>171</td>\n",
       "      <td>3173</td>\n",
       "      <td>2022-01-27 22:01:06</td>\n",
       "    </tr>\n",
       "    <tr>\n",
       "      <th>3056</th>\n",
       "      <td>@incentives101 @ICRicardoLara Exactly</td>\n",
       "      <td>145</td>\n",
       "      <td>4234</td>\n",
       "      <td>2022-01-27 21:23:20</td>\n",
       "    </tr>\n",
       "    <tr>\n",
       "      <th>3057</th>\n",
       "      <td>@ICRicardoLara Your policies are directly resp...</td>\n",
       "      <td>421</td>\n",
       "      <td>6144</td>\n",
       "      <td>2022-01-27 21:13:57</td>\n",
       "    </tr>\n",
       "    <tr>\n",
       "      <th>3058</th>\n",
       "      <td>@ICRicardoLara You should be voted out of office</td>\n",
       "      <td>484</td>\n",
       "      <td>7029</td>\n",
       "      <td>2022-01-27 21:12:27</td>\n",
       "    </tr>\n",
       "    <tr>\n",
       "      <th>3059</th>\n",
       "      <td>CB radios are free from govt/media control</td>\n",
       "      <td>11302</td>\n",
       "      <td>113429</td>\n",
       "      <td>2022-01-27 21:00:09</td>\n",
       "    </tr>\n",
       "  </tbody>\n",
       "</table>\n",
       "</div>"
      ],
      "text/plain": [
       "                                                 Tweets  Retweets   Likes  \\\n",
       "3055  @LimitingThe @baglino Just that manganese is a...       171    3173   \n",
       "3056              @incentives101 @ICRicardoLara Exactly       145    4234   \n",
       "3057  @ICRicardoLara Your policies are directly resp...       421    6144   \n",
       "3058   @ICRicardoLara You should be voted out of office       484    7029   \n",
       "3059         CB radios are free from govt/media control     11302  113429   \n",
       "\n",
       "                     Date  \n",
       "3055  2022-01-27 22:01:06  \n",
       "3056  2022-01-27 21:23:20  \n",
       "3057  2022-01-27 21:13:57  \n",
       "3058  2022-01-27 21:12:27  \n",
       "3059  2022-01-27 21:00:09  "
      ]
     },
     "execution_count": 5,
     "metadata": {},
     "output_type": "execute_result"
    }
   ],
   "source": [
    "df.tail(5)"
   ]
  },
  {
   "cell_type": "code",
   "execution_count": 6,
   "id": "abb186de",
   "metadata": {
    "execution": {
     "iopub.execute_input": "2022-12-11T10:38:37.826227Z",
     "iopub.status.busy": "2022-12-11T10:38:37.825431Z",
     "iopub.status.idle": "2022-12-11T10:38:37.831619Z",
     "shell.execute_reply": "2022-12-11T10:38:37.831093Z"
    },
    "papermill": {
     "duration": 0.014576,
     "end_time": "2022-12-11T10:38:37.833048",
     "exception": false,
     "start_time": "2022-12-11T10:38:37.818472",
     "status": "completed"
    },
    "tags": []
   },
   "outputs": [
    {
     "data": {
      "text/plain": [
       "Tweets      0\n",
       "Retweets    0\n",
       "Likes       0\n",
       "Date        0\n",
       "dtype: int64"
      ]
     },
     "execution_count": 6,
     "metadata": {},
     "output_type": "execute_result"
    }
   ],
   "source": [
    "df.isnull().sum()"
   ]
  },
  {
   "cell_type": "code",
   "execution_count": 7,
   "id": "02f0fd22",
   "metadata": {
    "execution": {
     "iopub.execute_input": "2022-12-11T10:38:37.848063Z",
     "iopub.status.busy": "2022-12-11T10:38:37.847430Z",
     "iopub.status.idle": "2022-12-11T10:38:37.860833Z",
     "shell.execute_reply": "2022-12-11T10:38:37.860145Z"
    },
    "papermill": {
     "duration": 0.022548,
     "end_time": "2022-12-11T10:38:37.862481",
     "exception": false,
     "start_time": "2022-12-11T10:38:37.839933",
     "status": "completed"
    },
    "tags": []
   },
   "outputs": [
    {
     "data": {
      "text/plain": [
       "0"
      ]
     },
     "execution_count": 7,
     "metadata": {},
     "output_type": "execute_result"
    }
   ],
   "source": [
    "df.duplicated().sum()"
   ]
  },
  {
   "cell_type": "code",
   "execution_count": 8,
   "id": "7300a674",
   "metadata": {
    "execution": {
     "iopub.execute_input": "2022-12-11T10:38:37.877338Z",
     "iopub.status.busy": "2022-12-11T10:38:37.877023Z",
     "iopub.status.idle": "2022-12-11T10:38:37.882573Z",
     "shell.execute_reply": "2022-12-11T10:38:37.881751Z"
    },
    "papermill": {
     "duration": 0.015069,
     "end_time": "2022-12-11T10:38:37.884228",
     "exception": false,
     "start_time": "2022-12-11T10:38:37.869159",
     "status": "completed"
    },
    "tags": []
   },
   "outputs": [
    {
     "data": {
      "text/plain": [
       "Index(['Tweets', 'Retweets', 'Likes', 'Date'], dtype='object')"
      ]
     },
     "execution_count": 8,
     "metadata": {},
     "output_type": "execute_result"
    }
   ],
   "source": [
    "df.columns"
   ]
  },
  {
   "cell_type": "code",
   "execution_count": 9,
   "id": "19ef58f2",
   "metadata": {
    "execution": {
     "iopub.execute_input": "2022-12-11T10:38:37.899118Z",
     "iopub.status.busy": "2022-12-11T10:38:37.898824Z",
     "iopub.status.idle": "2022-12-11T10:38:37.904268Z",
     "shell.execute_reply": "2022-12-11T10:38:37.903521Z"
    },
    "papermill": {
     "duration": 0.014781,
     "end_time": "2022-12-11T10:38:37.905947",
     "exception": false,
     "start_time": "2022-12-11T10:38:37.891166",
     "status": "completed"
    },
    "tags": []
   },
   "outputs": [
    {
     "data": {
      "text/plain": [
       "(3060, 4)"
      ]
     },
     "execution_count": 9,
     "metadata": {},
     "output_type": "execute_result"
    }
   ],
   "source": [
    "df.shape"
   ]
  },
  {
   "cell_type": "markdown",
   "id": "1c085247",
   "metadata": {
    "papermill": {
     "duration": 0.006744,
     "end_time": "2022-12-11T10:38:37.919651",
     "exception": false,
     "start_time": "2022-12-11T10:38:37.912907",
     "status": "completed"
    },
    "tags": []
   },
   "source": [
    "*Cleaning Data*"
   ]
  },
  {
   "cell_type": "code",
   "execution_count": 10,
   "id": "d783b430",
   "metadata": {
    "execution": {
     "iopub.execute_input": "2022-12-11T10:38:37.935069Z",
     "iopub.status.busy": "2022-12-11T10:38:37.934753Z",
     "iopub.status.idle": "2022-12-11T10:38:37.941607Z",
     "shell.execute_reply": "2022-12-11T10:38:37.940799Z"
    },
    "papermill": {
     "duration": 0.016693,
     "end_time": "2022-12-11T10:38:37.943407",
     "exception": false,
     "start_time": "2022-12-11T10:38:37.926714",
     "status": "completed"
    },
    "tags": []
   },
   "outputs": [],
   "source": [
    "def cleantwt (twt):\n",
    "  emoj = re.compile(\"[\"\n",
    "        u\"\\U0001F600-\\U0001F64F\"  # emoticons\n",
    "        u\"\\U0001F300-\\U0001F5FF\"  # symbols & pictographs\n",
    "        u\"\\U0001F680-\\U0001F6FF\"  # transport & map symbols\n",
    "        u\"\\U0001F1E0-\\U0001F1FF\"  # flags (iOS)\n",
    "        u\"\\U00002500-\\U00002BEF\"  # chinese char\n",
    "        u\"\\U00002702-\\U000027B0\"\n",
    "        u\"\\U000024C2-\\U0001F251\"\n",
    "        u\"\\U0001f926-\\U0001f937\"\n",
    "        u\"\\U00010000-\\U0010ffff\"\n",
    "        u\"\\u2640-\\u2642\" \n",
    "        u\"\\u2600-\\u2B55\"\n",
    "        u\"\\u200d\"\n",
    "        u\"\\u23cf\"\n",
    "        u\"\\u23e9\"\n",
    "        u\"\\u231a\"\n",
    "        u\"\\ufe0f\"  # dingbats\n",
    "        u\"\\u3030\"\n",
    "                      \"]+\", re.UNICODE)\n",
    "\n",
    "  twt = re.sub('RT', '', twt) # remove 'RT' from tweets\n",
    "  twt = re.sub('#[A-Za-z0-9]+', '', twt) # remove the '#' from the tweets\n",
    "  twt = re.sub('\\\\n', '', twt) # remove the '\\n' character\n",
    "  twt = re.sub('https?:\\/\\/\\S+', '', twt) # remove the hyperlinks\n",
    "  twt = re.sub('@[\\S]*', '', twt) # remove @mentions\n",
    "  twt = re.sub('^[\\s]+|[\\s]+$', '', twt) # remove leading and trailing whitespaces\n",
    "  twt = re.sub(emoj, '', twt) # remove emojis\n",
    "  return twt"
   ]
  },
  {
   "cell_type": "code",
   "execution_count": 11,
   "id": "7a85eb40",
   "metadata": {
    "execution": {
     "iopub.execute_input": "2022-12-11T10:38:37.958641Z",
     "iopub.status.busy": "2022-12-11T10:38:37.958368Z",
     "iopub.status.idle": "2022-12-11T10:38:38.013143Z",
     "shell.execute_reply": "2022-12-11T10:38:38.012165Z"
    },
    "papermill": {
     "duration": 0.064914,
     "end_time": "2022-12-11T10:38:38.015369",
     "exception": false,
     "start_time": "2022-12-11T10:38:37.950455",
     "status": "completed"
    },
    "tags": []
   },
   "outputs": [],
   "source": [
    "df['Cleaned_tweets'] = df['Tweets'].apply(cleantwt)"
   ]
  },
  {
   "cell_type": "code",
   "execution_count": 12,
   "id": "f5186c60",
   "metadata": {
    "execution": {
     "iopub.execute_input": "2022-12-11T10:38:38.031193Z",
     "iopub.status.busy": "2022-12-11T10:38:38.030936Z",
     "iopub.status.idle": "2022-12-11T10:38:38.041113Z",
     "shell.execute_reply": "2022-12-11T10:38:38.040190Z"
    },
    "papermill": {
     "duration": 0.020143,
     "end_time": "2022-12-11T10:38:38.042884",
     "exception": false,
     "start_time": "2022-12-11T10:38:38.022741",
     "status": "completed"
    },
    "tags": []
   },
   "outputs": [
    {
     "data": {
      "text/html": [
       "<div>\n",
       "<style scoped>\n",
       "    .dataframe tbody tr th:only-of-type {\n",
       "        vertical-align: middle;\n",
       "    }\n",
       "\n",
       "    .dataframe tbody tr th {\n",
       "        vertical-align: top;\n",
       "    }\n",
       "\n",
       "    .dataframe thead th {\n",
       "        text-align: right;\n",
       "    }\n",
       "</style>\n",
       "<table border=\"1\" class=\"dataframe\">\n",
       "  <thead>\n",
       "    <tr style=\"text-align: right;\">\n",
       "      <th></th>\n",
       "      <th>Tweets</th>\n",
       "      <th>Retweets</th>\n",
       "      <th>Likes</th>\n",
       "      <th>Date</th>\n",
       "      <th>Cleaned_tweets</th>\n",
       "    </tr>\n",
       "  </thead>\n",
       "  <tbody>\n",
       "    <tr>\n",
       "      <th>0</th>\n",
       "      <td>@PeterSchiff 🤣 thanks</td>\n",
       "      <td>209</td>\n",
       "      <td>7021</td>\n",
       "      <td>2022-10-27 16:17:39</td>\n",
       "      <td>thanks</td>\n",
       "    </tr>\n",
       "    <tr>\n",
       "      <th>1</th>\n",
       "      <td>@ZubyMusic Absolutely</td>\n",
       "      <td>755</td>\n",
       "      <td>26737</td>\n",
       "      <td>2022-10-27 13:19:25</td>\n",
       "      <td>Absolutely</td>\n",
       "    </tr>\n",
       "    <tr>\n",
       "      <th>2</th>\n",
       "      <td>Dear Twitter Advertisers https://t.co/GMwHmInPAS</td>\n",
       "      <td>55927</td>\n",
       "      <td>356623</td>\n",
       "      <td>2022-10-27 13:08:00</td>\n",
       "      <td>Dear Twitter Advertisers</td>\n",
       "    </tr>\n",
       "    <tr>\n",
       "      <th>3</th>\n",
       "      <td>@BillyM2k 👻</td>\n",
       "      <td>802</td>\n",
       "      <td>19353</td>\n",
       "      <td>2022-10-27 02:32:48</td>\n",
       "      <td></td>\n",
       "    </tr>\n",
       "    <tr>\n",
       "      <th>4</th>\n",
       "      <td>Meeting a lot of cool people at Twitter today!</td>\n",
       "      <td>9366</td>\n",
       "      <td>195546</td>\n",
       "      <td>2022-10-26 21:39:32</td>\n",
       "      <td>Meeting a lot of cool people at Twitter today!</td>\n",
       "    </tr>\n",
       "  </tbody>\n",
       "</table>\n",
       "</div>"
      ],
      "text/plain": [
       "                                             Tweets  Retweets   Likes  \\\n",
       "0                             @PeterSchiff 🤣 thanks       209    7021   \n",
       "1                             @ZubyMusic Absolutely       755   26737   \n",
       "2  Dear Twitter Advertisers https://t.co/GMwHmInPAS     55927  356623   \n",
       "3                                       @BillyM2k 👻       802   19353   \n",
       "4    Meeting a lot of cool people at Twitter today!      9366  195546   \n",
       "\n",
       "                  Date                                  Cleaned_tweets  \n",
       "0  2022-10-27 16:17:39                                          thanks  \n",
       "1  2022-10-27 13:19:25                                      Absolutely  \n",
       "2  2022-10-27 13:08:00                        Dear Twitter Advertisers  \n",
       "3  2022-10-27 02:32:48                                                  \n",
       "4  2022-10-26 21:39:32  Meeting a lot of cool people at Twitter today!  "
      ]
     },
     "execution_count": 12,
     "metadata": {},
     "output_type": "execute_result"
    }
   ],
   "source": [
    "df.head()"
   ]
  },
  {
   "cell_type": "code",
   "execution_count": 13,
   "id": "d12997a7",
   "metadata": {
    "execution": {
     "iopub.execute_input": "2022-12-11T10:38:38.058352Z",
     "iopub.status.busy": "2022-12-11T10:38:38.058106Z",
     "iopub.status.idle": "2022-12-11T10:38:38.067128Z",
     "shell.execute_reply": "2022-12-11T10:38:38.066279Z"
    },
    "papermill": {
     "duration": 0.018587,
     "end_time": "2022-12-11T10:38:38.068780",
     "exception": false,
     "start_time": "2022-12-11T10:38:38.050193",
     "status": "completed"
    },
    "tags": []
   },
   "outputs": [
    {
     "data": {
      "text/html": [
       "<div>\n",
       "<style scoped>\n",
       "    .dataframe tbody tr th:only-of-type {\n",
       "        vertical-align: middle;\n",
       "    }\n",
       "\n",
       "    .dataframe tbody tr th {\n",
       "        vertical-align: top;\n",
       "    }\n",
       "\n",
       "    .dataframe thead th {\n",
       "        text-align: right;\n",
       "    }\n",
       "</style>\n",
       "<table border=\"1\" class=\"dataframe\">\n",
       "  <thead>\n",
       "    <tr style=\"text-align: right;\">\n",
       "      <th></th>\n",
       "      <th>Tweets</th>\n",
       "      <th>Retweets</th>\n",
       "      <th>Likes</th>\n",
       "      <th>Date</th>\n",
       "      <th>Cleaned_tweets</th>\n",
       "    </tr>\n",
       "  </thead>\n",
       "  <tbody>\n",
       "    <tr>\n",
       "      <th>3055</th>\n",
       "      <td>@LimitingThe @baglino Just that manganese is a...</td>\n",
       "      <td>171</td>\n",
       "      <td>3173</td>\n",
       "      <td>2022-01-27 22:01:06</td>\n",
       "      <td>Just that manganese is an alternative to iron ...</td>\n",
       "    </tr>\n",
       "    <tr>\n",
       "      <th>3056</th>\n",
       "      <td>@incentives101 @ICRicardoLara Exactly</td>\n",
       "      <td>145</td>\n",
       "      <td>4234</td>\n",
       "      <td>2022-01-27 21:23:20</td>\n",
       "      <td>Exactly</td>\n",
       "    </tr>\n",
       "    <tr>\n",
       "      <th>3057</th>\n",
       "      <td>@ICRicardoLara Your policies are directly resp...</td>\n",
       "      <td>421</td>\n",
       "      <td>6144</td>\n",
       "      <td>2022-01-27 21:13:57</td>\n",
       "      <td>Your policies are directly responsible for the...</td>\n",
       "    </tr>\n",
       "    <tr>\n",
       "      <th>3058</th>\n",
       "      <td>@ICRicardoLara You should be voted out of office</td>\n",
       "      <td>484</td>\n",
       "      <td>7029</td>\n",
       "      <td>2022-01-27 21:12:27</td>\n",
       "      <td>You should be voted out of office</td>\n",
       "    </tr>\n",
       "    <tr>\n",
       "      <th>3059</th>\n",
       "      <td>CB radios are free from govt/media control</td>\n",
       "      <td>11302</td>\n",
       "      <td>113429</td>\n",
       "      <td>2022-01-27 21:00:09</td>\n",
       "      <td>CB radios are free from govt/media control</td>\n",
       "    </tr>\n",
       "  </tbody>\n",
       "</table>\n",
       "</div>"
      ],
      "text/plain": [
       "                                                 Tweets  Retweets   Likes  \\\n",
       "3055  @LimitingThe @baglino Just that manganese is a...       171    3173   \n",
       "3056              @incentives101 @ICRicardoLara Exactly       145    4234   \n",
       "3057  @ICRicardoLara Your policies are directly resp...       421    6144   \n",
       "3058   @ICRicardoLara You should be voted out of office       484    7029   \n",
       "3059         CB radios are free from govt/media control     11302  113429   \n",
       "\n",
       "                     Date                                     Cleaned_tweets  \n",
       "3055  2022-01-27 22:01:06  Just that manganese is an alternative to iron ...  \n",
       "3056  2022-01-27 21:23:20                                            Exactly  \n",
       "3057  2022-01-27 21:13:57  Your policies are directly responsible for the...  \n",
       "3058  2022-01-27 21:12:27                  You should be voted out of office  \n",
       "3059  2022-01-27 21:00:09         CB radios are free from govt/media control  "
      ]
     },
     "execution_count": 13,
     "metadata": {},
     "output_type": "execute_result"
    }
   ],
   "source": [
    "df.tail()"
   ]
  },
  {
   "cell_type": "code",
   "execution_count": 14,
   "id": "c979b81b",
   "metadata": {
    "execution": {
     "iopub.execute_input": "2022-12-11T10:38:38.084566Z",
     "iopub.status.busy": "2022-12-11T10:38:38.084320Z",
     "iopub.status.idle": "2022-12-11T10:38:38.099650Z",
     "shell.execute_reply": "2022-12-11T10:38:38.098564Z"
    },
    "papermill": {
     "duration": 0.025646,
     "end_time": "2022-12-11T10:38:38.101787",
     "exception": false,
     "start_time": "2022-12-11T10:38:38.076141",
     "status": "completed"
    },
    "tags": []
   },
   "outputs": [
    {
     "name": "stdout",
     "output_type": "stream",
     "text": [
      "<class 'pandas.core.frame.DataFrame'>\n",
      "RangeIndex: 3060 entries, 0 to 3059\n",
      "Data columns (total 5 columns):\n",
      " #   Column          Non-Null Count  Dtype \n",
      "---  ------          --------------  ----- \n",
      " 0   Tweets          3060 non-null   object\n",
      " 1   Retweets        3060 non-null   int64 \n",
      " 2   Likes           3060 non-null   int64 \n",
      " 3   Date            3060 non-null   object\n",
      " 4   Cleaned_tweets  3060 non-null   object\n",
      "dtypes: int64(2), object(3)\n",
      "memory usage: 119.7+ KB\n"
     ]
    }
   ],
   "source": [
    "df.info()"
   ]
  },
  {
   "cell_type": "code",
   "execution_count": 15,
   "id": "fdf63bdc",
   "metadata": {
    "execution": {
     "iopub.execute_input": "2022-12-11T10:38:38.118209Z",
     "iopub.status.busy": "2022-12-11T10:38:38.117953Z",
     "iopub.status.idle": "2022-12-11T10:38:38.124816Z",
     "shell.execute_reply": "2022-12-11T10:38:38.124101Z"
    },
    "papermill": {
     "duration": 0.016698,
     "end_time": "2022-12-11T10:38:38.126516",
     "exception": false,
     "start_time": "2022-12-11T10:38:38.109818",
     "status": "completed"
    },
    "tags": []
   },
   "outputs": [],
   "source": [
    "# Removing Empty String from all Rows\n",
    "df.drop(df[df['Cleaned_tweets'] == ''].index, inplace = True)"
   ]
  },
  {
   "cell_type": "code",
   "execution_count": 16,
   "id": "973da4c5",
   "metadata": {
    "execution": {
     "iopub.execute_input": "2022-12-11T10:38:38.142818Z",
     "iopub.status.busy": "2022-12-11T10:38:38.142498Z",
     "iopub.status.idle": "2022-12-11T10:38:38.152724Z",
     "shell.execute_reply": "2022-12-11T10:38:38.151876Z"
    },
    "papermill": {
     "duration": 0.020231,
     "end_time": "2022-12-11T10:38:38.154416",
     "exception": false,
     "start_time": "2022-12-11T10:38:38.134185",
     "status": "completed"
    },
    "tags": []
   },
   "outputs": [
    {
     "data": {
      "text/html": [
       "<div>\n",
       "<style scoped>\n",
       "    .dataframe tbody tr th:only-of-type {\n",
       "        vertical-align: middle;\n",
       "    }\n",
       "\n",
       "    .dataframe tbody tr th {\n",
       "        vertical-align: top;\n",
       "    }\n",
       "\n",
       "    .dataframe thead th {\n",
       "        text-align: right;\n",
       "    }\n",
       "</style>\n",
       "<table border=\"1\" class=\"dataframe\">\n",
       "  <thead>\n",
       "    <tr style=\"text-align: right;\">\n",
       "      <th></th>\n",
       "      <th>Tweets</th>\n",
       "      <th>Retweets</th>\n",
       "      <th>Likes</th>\n",
       "      <th>Date</th>\n",
       "      <th>Cleaned_tweets</th>\n",
       "    </tr>\n",
       "  </thead>\n",
       "  <tbody>\n",
       "    <tr>\n",
       "      <th>0</th>\n",
       "      <td>@PeterSchiff 🤣 thanks</td>\n",
       "      <td>209</td>\n",
       "      <td>7021</td>\n",
       "      <td>2022-10-27 16:17:39</td>\n",
       "      <td>thanks</td>\n",
       "    </tr>\n",
       "    <tr>\n",
       "      <th>1</th>\n",
       "      <td>@ZubyMusic Absolutely</td>\n",
       "      <td>755</td>\n",
       "      <td>26737</td>\n",
       "      <td>2022-10-27 13:19:25</td>\n",
       "      <td>Absolutely</td>\n",
       "    </tr>\n",
       "    <tr>\n",
       "      <th>2</th>\n",
       "      <td>Dear Twitter Advertisers https://t.co/GMwHmInPAS</td>\n",
       "      <td>55927</td>\n",
       "      <td>356623</td>\n",
       "      <td>2022-10-27 13:08:00</td>\n",
       "      <td>Dear Twitter Advertisers</td>\n",
       "    </tr>\n",
       "    <tr>\n",
       "      <th>4</th>\n",
       "      <td>Meeting a lot of cool people at Twitter today!</td>\n",
       "      <td>9366</td>\n",
       "      <td>195546</td>\n",
       "      <td>2022-10-26 21:39:32</td>\n",
       "      <td>Meeting a lot of cool people at Twitter today!</td>\n",
       "    </tr>\n",
       "    <tr>\n",
       "      <th>5</th>\n",
       "      <td>Entering Twitter HQ – let that sink in! https:...</td>\n",
       "      <td>145520</td>\n",
       "      <td>1043592</td>\n",
       "      <td>2022-10-26 18:45:58</td>\n",
       "      <td>Entering Twitter HQ – let that sink in!</td>\n",
       "    </tr>\n",
       "  </tbody>\n",
       "</table>\n",
       "</div>"
      ],
      "text/plain": [
       "                                              Tweets  Retweets    Likes  \\\n",
       "0                              @PeterSchiff 🤣 thanks       209     7021   \n",
       "1                              @ZubyMusic Absolutely       755    26737   \n",
       "2   Dear Twitter Advertisers https://t.co/GMwHmInPAS     55927   356623   \n",
       "4     Meeting a lot of cool people at Twitter today!      9366   195546   \n",
       "5  Entering Twitter HQ – let that sink in! https:...    145520  1043592   \n",
       "\n",
       "                  Date                                  Cleaned_tweets  \n",
       "0  2022-10-27 16:17:39                                          thanks  \n",
       "1  2022-10-27 13:19:25                                      Absolutely  \n",
       "2  2022-10-27 13:08:00                        Dear Twitter Advertisers  \n",
       "4  2022-10-26 21:39:32  Meeting a lot of cool people at Twitter today!  \n",
       "5  2022-10-26 18:45:58         Entering Twitter HQ – let that sink in!  "
      ]
     },
     "execution_count": 16,
     "metadata": {},
     "output_type": "execute_result"
    }
   ],
   "source": [
    "df.head()"
   ]
  },
  {
   "cell_type": "code",
   "execution_count": 17,
   "id": "655ab9c1",
   "metadata": {
    "execution": {
     "iopub.execute_input": "2022-12-11T10:38:38.170904Z",
     "iopub.status.busy": "2022-12-11T10:38:38.170585Z",
     "iopub.status.idle": "2022-12-11T10:38:38.180506Z",
     "shell.execute_reply": "2022-12-11T10:38:38.179708Z"
    },
    "papermill": {
     "duration": 0.019954,
     "end_time": "2022-12-11T10:38:38.182125",
     "exception": false,
     "start_time": "2022-12-11T10:38:38.162171",
     "status": "completed"
    },
    "tags": []
   },
   "outputs": [
    {
     "data": {
      "text/html": [
       "<div>\n",
       "<style scoped>\n",
       "    .dataframe tbody tr th:only-of-type {\n",
       "        vertical-align: middle;\n",
       "    }\n",
       "\n",
       "    .dataframe tbody tr th {\n",
       "        vertical-align: top;\n",
       "    }\n",
       "\n",
       "    .dataframe thead th {\n",
       "        text-align: right;\n",
       "    }\n",
       "</style>\n",
       "<table border=\"1\" class=\"dataframe\">\n",
       "  <thead>\n",
       "    <tr style=\"text-align: right;\">\n",
       "      <th></th>\n",
       "      <th>Tweets</th>\n",
       "      <th>Retweets</th>\n",
       "      <th>Likes</th>\n",
       "      <th>Date</th>\n",
       "      <th>Cleaned_tweets</th>\n",
       "    </tr>\n",
       "  </thead>\n",
       "  <tbody>\n",
       "    <tr>\n",
       "      <th>3055</th>\n",
       "      <td>@LimitingThe @baglino Just that manganese is a...</td>\n",
       "      <td>171</td>\n",
       "      <td>3173</td>\n",
       "      <td>2022-01-27 22:01:06</td>\n",
       "      <td>Just that manganese is an alternative to iron ...</td>\n",
       "    </tr>\n",
       "    <tr>\n",
       "      <th>3056</th>\n",
       "      <td>@incentives101 @ICRicardoLara Exactly</td>\n",
       "      <td>145</td>\n",
       "      <td>4234</td>\n",
       "      <td>2022-01-27 21:23:20</td>\n",
       "      <td>Exactly</td>\n",
       "    </tr>\n",
       "    <tr>\n",
       "      <th>3057</th>\n",
       "      <td>@ICRicardoLara Your policies are directly resp...</td>\n",
       "      <td>421</td>\n",
       "      <td>6144</td>\n",
       "      <td>2022-01-27 21:13:57</td>\n",
       "      <td>Your policies are directly responsible for the...</td>\n",
       "    </tr>\n",
       "    <tr>\n",
       "      <th>3058</th>\n",
       "      <td>@ICRicardoLara You should be voted out of office</td>\n",
       "      <td>484</td>\n",
       "      <td>7029</td>\n",
       "      <td>2022-01-27 21:12:27</td>\n",
       "      <td>You should be voted out of office</td>\n",
       "    </tr>\n",
       "    <tr>\n",
       "      <th>3059</th>\n",
       "      <td>CB radios are free from govt/media control</td>\n",
       "      <td>11302</td>\n",
       "      <td>113429</td>\n",
       "      <td>2022-01-27 21:00:09</td>\n",
       "      <td>CB radios are free from govt/media control</td>\n",
       "    </tr>\n",
       "  </tbody>\n",
       "</table>\n",
       "</div>"
      ],
      "text/plain": [
       "                                                 Tweets  Retweets   Likes  \\\n",
       "3055  @LimitingThe @baglino Just that manganese is a...       171    3173   \n",
       "3056              @incentives101 @ICRicardoLara Exactly       145    4234   \n",
       "3057  @ICRicardoLara Your policies are directly resp...       421    6144   \n",
       "3058   @ICRicardoLara You should be voted out of office       484    7029   \n",
       "3059         CB radios are free from govt/media control     11302  113429   \n",
       "\n",
       "                     Date                                     Cleaned_tweets  \n",
       "3055  2022-01-27 22:01:06  Just that manganese is an alternative to iron ...  \n",
       "3056  2022-01-27 21:23:20                                            Exactly  \n",
       "3057  2022-01-27 21:13:57  Your policies are directly responsible for the...  \n",
       "3058  2022-01-27 21:12:27                  You should be voted out of office  \n",
       "3059  2022-01-27 21:00:09         CB radios are free from govt/media control  "
      ]
     },
     "execution_count": 17,
     "metadata": {},
     "output_type": "execute_result"
    }
   ],
   "source": [
    "df.tail()"
   ]
  },
  {
   "cell_type": "markdown",
   "id": "c43314a7",
   "metadata": {
    "papermill": {
     "duration": 0.007739,
     "end_time": "2022-12-11T10:38:38.197694",
     "exception": false,
     "start_time": "2022-12-11T10:38:38.189955",
     "status": "completed"
    },
    "tags": []
   },
   "source": [
    "*Subjectivity and Polarity*"
   ]
  },
  {
   "cell_type": "code",
   "execution_count": 18,
   "id": "38b66f3f",
   "metadata": {
    "execution": {
     "iopub.execute_input": "2022-12-11T10:38:38.214722Z",
     "iopub.status.busy": "2022-12-11T10:38:38.214394Z",
     "iopub.status.idle": "2022-12-11T10:38:38.218838Z",
     "shell.execute_reply": "2022-12-11T10:38:38.218010Z"
    },
    "papermill": {
     "duration": 0.01493,
     "end_time": "2022-12-11T10:38:38.220536",
     "exception": false,
     "start_time": "2022-12-11T10:38:38.205606",
     "status": "completed"
    },
    "tags": []
   },
   "outputs": [],
   "source": [
    "def getSubjectivity(twt):\n",
    "    return TextBlob(twt).sentiment.subjectivity\n",
    "\n",
    "def getPolarity(twt):\n",
    "    return TextBlob(twt).sentiment.polarity"
   ]
  },
  {
   "cell_type": "code",
   "execution_count": 19,
   "id": "77b3ea83",
   "metadata": {
    "execution": {
     "iopub.execute_input": "2022-12-11T10:38:38.237090Z",
     "iopub.status.busy": "2022-12-11T10:38:38.236789Z",
     "iopub.status.idle": "2022-12-11T10:38:39.238983Z",
     "shell.execute_reply": "2022-12-11T10:38:39.238109Z"
    },
    "papermill": {
     "duration": 1.01271,
     "end_time": "2022-12-11T10:38:39.241065",
     "exception": false,
     "start_time": "2022-12-11T10:38:38.228355",
     "status": "completed"
    },
    "tags": []
   },
   "outputs": [],
   "source": [
    "df['Subjectivity'] = df['Cleaned_tweets'].apply(getSubjectivity)\n",
    "df['Polarity'] = df['Cleaned_tweets'].apply(getPolarity)"
   ]
  },
  {
   "cell_type": "markdown",
   "id": "b0ad1cc0",
   "metadata": {
    "papermill": {
     "duration": 0.007939,
     "end_time": "2022-12-11T10:38:39.258007",
     "exception": false,
     "start_time": "2022-12-11T10:38:39.250068",
     "status": "completed"
    },
    "tags": []
   },
   "source": [
    "*Creating Sentiments Labels*"
   ]
  },
  {
   "cell_type": "code",
   "execution_count": 20,
   "id": "faa42397",
   "metadata": {
    "execution": {
     "iopub.execute_input": "2022-12-11T10:38:39.274356Z",
     "iopub.status.busy": "2022-12-11T10:38:39.274078Z",
     "iopub.status.idle": "2022-12-11T10:38:39.278259Z",
     "shell.execute_reply": "2022-12-11T10:38:39.277475Z"
    },
    "papermill": {
     "duration": 0.014337,
     "end_time": "2022-12-11T10:38:39.279928",
     "exception": false,
     "start_time": "2022-12-11T10:38:39.265591",
     "status": "completed"
    },
    "tags": []
   },
   "outputs": [],
   "source": [
    "def getSentiments(value):\n",
    "    if value > 0:\n",
    "        return 'Positive'\n",
    "    elif value < 0:\n",
    "        return 'Negative'\n",
    "    else:\n",
    "        return 'Netural'"
   ]
  },
  {
   "cell_type": "markdown",
   "id": "c6bf5c99",
   "metadata": {
    "papermill": {
     "duration": 0.007212,
     "end_time": "2022-12-11T10:38:39.294699",
     "exception": false,
     "start_time": "2022-12-11T10:38:39.287487",
     "status": "completed"
    },
    "tags": []
   },
   "source": [
    "*Sentiment Analysis*"
   ]
  },
  {
   "cell_type": "code",
   "execution_count": 21,
   "id": "d34921cb",
   "metadata": {
    "execution": {
     "iopub.execute_input": "2022-12-11T10:38:39.310715Z",
     "iopub.status.busy": "2022-12-11T10:38:39.310462Z",
     "iopub.status.idle": "2022-12-11T10:38:39.317100Z",
     "shell.execute_reply": "2022-12-11T10:38:39.316409Z"
    },
    "papermill": {
     "duration": 0.01644,
     "end_time": "2022-12-11T10:38:39.318584",
     "exception": false,
     "start_time": "2022-12-11T10:38:39.302144",
     "status": "completed"
    },
    "tags": []
   },
   "outputs": [],
   "source": [
    "df['Sentiments'] = df['Polarity'].apply(getSentiments)\n",
    "df['Sentiments'] = df['Subjectivity'].apply(getSentiments)"
   ]
  },
  {
   "cell_type": "code",
   "execution_count": 22,
   "id": "73820b78",
   "metadata": {
    "execution": {
     "iopub.execute_input": "2022-12-11T10:38:39.335087Z",
     "iopub.status.busy": "2022-12-11T10:38:39.334639Z",
     "iopub.status.idle": "2022-12-11T10:38:39.346328Z",
     "shell.execute_reply": "2022-12-11T10:38:39.345566Z"
    },
    "papermill": {
     "duration": 0.021678,
     "end_time": "2022-12-11T10:38:39.347957",
     "exception": false,
     "start_time": "2022-12-11T10:38:39.326279",
     "status": "completed"
    },
    "tags": []
   },
   "outputs": [
    {
     "data": {
      "text/html": [
       "<div>\n",
       "<style scoped>\n",
       "    .dataframe tbody tr th:only-of-type {\n",
       "        vertical-align: middle;\n",
       "    }\n",
       "\n",
       "    .dataframe tbody tr th {\n",
       "        vertical-align: top;\n",
       "    }\n",
       "\n",
       "    .dataframe thead th {\n",
       "        text-align: right;\n",
       "    }\n",
       "</style>\n",
       "<table border=\"1\" class=\"dataframe\">\n",
       "  <thead>\n",
       "    <tr style=\"text-align: right;\">\n",
       "      <th></th>\n",
       "      <th>Tweets</th>\n",
       "      <th>Retweets</th>\n",
       "      <th>Likes</th>\n",
       "      <th>Date</th>\n",
       "      <th>Cleaned_tweets</th>\n",
       "      <th>Subjectivity</th>\n",
       "      <th>Polarity</th>\n",
       "      <th>Sentiments</th>\n",
       "    </tr>\n",
       "  </thead>\n",
       "  <tbody>\n",
       "    <tr>\n",
       "      <th>0</th>\n",
       "      <td>@PeterSchiff 🤣 thanks</td>\n",
       "      <td>209</td>\n",
       "      <td>7021</td>\n",
       "      <td>2022-10-27 16:17:39</td>\n",
       "      <td>thanks</td>\n",
       "      <td>0.20</td>\n",
       "      <td>0.2000</td>\n",
       "      <td>Positive</td>\n",
       "    </tr>\n",
       "    <tr>\n",
       "      <th>1</th>\n",
       "      <td>@ZubyMusic Absolutely</td>\n",
       "      <td>755</td>\n",
       "      <td>26737</td>\n",
       "      <td>2022-10-27 13:19:25</td>\n",
       "      <td>Absolutely</td>\n",
       "      <td>0.90</td>\n",
       "      <td>0.2000</td>\n",
       "      <td>Positive</td>\n",
       "    </tr>\n",
       "    <tr>\n",
       "      <th>2</th>\n",
       "      <td>Dear Twitter Advertisers https://t.co/GMwHmInPAS</td>\n",
       "      <td>55927</td>\n",
       "      <td>356623</td>\n",
       "      <td>2022-10-27 13:08:00</td>\n",
       "      <td>Dear Twitter Advertisers</td>\n",
       "      <td>0.00</td>\n",
       "      <td>0.0000</td>\n",
       "      <td>Netural</td>\n",
       "    </tr>\n",
       "    <tr>\n",
       "      <th>4</th>\n",
       "      <td>Meeting a lot of cool people at Twitter today!</td>\n",
       "      <td>9366</td>\n",
       "      <td>195546</td>\n",
       "      <td>2022-10-26 21:39:32</td>\n",
       "      <td>Meeting a lot of cool people at Twitter today!</td>\n",
       "      <td>0.65</td>\n",
       "      <td>0.4375</td>\n",
       "      <td>Positive</td>\n",
       "    </tr>\n",
       "    <tr>\n",
       "      <th>5</th>\n",
       "      <td>Entering Twitter HQ – let that sink in! https:...</td>\n",
       "      <td>145520</td>\n",
       "      <td>1043592</td>\n",
       "      <td>2022-10-26 18:45:58</td>\n",
       "      <td>Entering Twitter HQ – let that sink in!</td>\n",
       "      <td>0.00</td>\n",
       "      <td>0.0000</td>\n",
       "      <td>Netural</td>\n",
       "    </tr>\n",
       "  </tbody>\n",
       "</table>\n",
       "</div>"
      ],
      "text/plain": [
       "                                              Tweets  Retweets    Likes  \\\n",
       "0                              @PeterSchiff 🤣 thanks       209     7021   \n",
       "1                              @ZubyMusic Absolutely       755    26737   \n",
       "2   Dear Twitter Advertisers https://t.co/GMwHmInPAS     55927   356623   \n",
       "4     Meeting a lot of cool people at Twitter today!      9366   195546   \n",
       "5  Entering Twitter HQ – let that sink in! https:...    145520  1043592   \n",
       "\n",
       "                  Date                                  Cleaned_tweets  \\\n",
       "0  2022-10-27 16:17:39                                          thanks   \n",
       "1  2022-10-27 13:19:25                                      Absolutely   \n",
       "2  2022-10-27 13:08:00                        Dear Twitter Advertisers   \n",
       "4  2022-10-26 21:39:32  Meeting a lot of cool people at Twitter today!   \n",
       "5  2022-10-26 18:45:58         Entering Twitter HQ – let that sink in!   \n",
       "\n",
       "   Subjectivity  Polarity Sentiments  \n",
       "0          0.20    0.2000   Positive  \n",
       "1          0.90    0.2000   Positive  \n",
       "2          0.00    0.0000    Netural  \n",
       "4          0.65    0.4375   Positive  \n",
       "5          0.00    0.0000    Netural  "
      ]
     },
     "execution_count": 22,
     "metadata": {},
     "output_type": "execute_result"
    }
   ],
   "source": [
    "df.head()"
   ]
  },
  {
   "cell_type": "code",
   "execution_count": 23,
   "id": "f13ae3d8",
   "metadata": {
    "execution": {
     "iopub.execute_input": "2022-12-11T10:38:39.364819Z",
     "iopub.status.busy": "2022-12-11T10:38:39.364435Z",
     "iopub.status.idle": "2022-12-11T10:38:39.374742Z",
     "shell.execute_reply": "2022-12-11T10:38:39.374001Z"
    },
    "papermill": {
     "duration": 0.02063,
     "end_time": "2022-12-11T10:38:39.376538",
     "exception": false,
     "start_time": "2022-12-11T10:38:39.355908",
     "status": "completed"
    },
    "tags": []
   },
   "outputs": [
    {
     "data": {
      "text/html": [
       "<div>\n",
       "<style scoped>\n",
       "    .dataframe tbody tr th:only-of-type {\n",
       "        vertical-align: middle;\n",
       "    }\n",
       "\n",
       "    .dataframe tbody tr th {\n",
       "        vertical-align: top;\n",
       "    }\n",
       "\n",
       "    .dataframe thead th {\n",
       "        text-align: right;\n",
       "    }\n",
       "</style>\n",
       "<table border=\"1\" class=\"dataframe\">\n",
       "  <thead>\n",
       "    <tr style=\"text-align: right;\">\n",
       "      <th></th>\n",
       "      <th>Tweets</th>\n",
       "      <th>Retweets</th>\n",
       "      <th>Likes</th>\n",
       "      <th>Date</th>\n",
       "      <th>Cleaned_tweets</th>\n",
       "      <th>Subjectivity</th>\n",
       "      <th>Polarity</th>\n",
       "      <th>Sentiments</th>\n",
       "    </tr>\n",
       "  </thead>\n",
       "  <tbody>\n",
       "    <tr>\n",
       "      <th>3055</th>\n",
       "      <td>@LimitingThe @baglino Just that manganese is a...</td>\n",
       "      <td>171</td>\n",
       "      <td>3173</td>\n",
       "      <td>2022-01-27 22:01:06</td>\n",
       "      <td>Just that manganese is an alternative to iron ...</td>\n",
       "      <td>0.000</td>\n",
       "      <td>0.00</td>\n",
       "      <td>Netural</td>\n",
       "    </tr>\n",
       "    <tr>\n",
       "      <th>3056</th>\n",
       "      <td>@incentives101 @ICRicardoLara Exactly</td>\n",
       "      <td>145</td>\n",
       "      <td>4234</td>\n",
       "      <td>2022-01-27 21:23:20</td>\n",
       "      <td>Exactly</td>\n",
       "      <td>0.250</td>\n",
       "      <td>0.25</td>\n",
       "      <td>Positive</td>\n",
       "    </tr>\n",
       "    <tr>\n",
       "      <th>3057</th>\n",
       "      <td>@ICRicardoLara Your policies are directly resp...</td>\n",
       "      <td>421</td>\n",
       "      <td>6144</td>\n",
       "      <td>2022-01-27 21:13:57</td>\n",
       "      <td>Your policies are directly responsible for the...</td>\n",
       "      <td>0.545</td>\n",
       "      <td>0.18</td>\n",
       "      <td>Positive</td>\n",
       "    </tr>\n",
       "    <tr>\n",
       "      <th>3058</th>\n",
       "      <td>@ICRicardoLara You should be voted out of office</td>\n",
       "      <td>484</td>\n",
       "      <td>7029</td>\n",
       "      <td>2022-01-27 21:12:27</td>\n",
       "      <td>You should be voted out of office</td>\n",
       "      <td>0.000</td>\n",
       "      <td>0.00</td>\n",
       "      <td>Netural</td>\n",
       "    </tr>\n",
       "    <tr>\n",
       "      <th>3059</th>\n",
       "      <td>CB radios are free from govt/media control</td>\n",
       "      <td>11302</td>\n",
       "      <td>113429</td>\n",
       "      <td>2022-01-27 21:00:09</td>\n",
       "      <td>CB radios are free from govt/media control</td>\n",
       "      <td>0.800</td>\n",
       "      <td>0.40</td>\n",
       "      <td>Positive</td>\n",
       "    </tr>\n",
       "  </tbody>\n",
       "</table>\n",
       "</div>"
      ],
      "text/plain": [
       "                                                 Tweets  Retweets   Likes  \\\n",
       "3055  @LimitingThe @baglino Just that manganese is a...       171    3173   \n",
       "3056              @incentives101 @ICRicardoLara Exactly       145    4234   \n",
       "3057  @ICRicardoLara Your policies are directly resp...       421    6144   \n",
       "3058   @ICRicardoLara You should be voted out of office       484    7029   \n",
       "3059         CB radios are free from govt/media control     11302  113429   \n",
       "\n",
       "                     Date                                     Cleaned_tweets  \\\n",
       "3055  2022-01-27 22:01:06  Just that manganese is an alternative to iron ...   \n",
       "3056  2022-01-27 21:23:20                                            Exactly   \n",
       "3057  2022-01-27 21:13:57  Your policies are directly responsible for the...   \n",
       "3058  2022-01-27 21:12:27                  You should be voted out of office   \n",
       "3059  2022-01-27 21:00:09         CB radios are free from govt/media control   \n",
       "\n",
       "      Subjectivity  Polarity Sentiments  \n",
       "3055         0.000      0.00    Netural  \n",
       "3056         0.250      0.25   Positive  \n",
       "3057         0.545      0.18   Positive  \n",
       "3058         0.000      0.00    Netural  \n",
       "3059         0.800      0.40   Positive  "
      ]
     },
     "execution_count": 23,
     "metadata": {},
     "output_type": "execute_result"
    }
   ],
   "source": [
    "df.tail()"
   ]
  },
  {
   "cell_type": "markdown",
   "id": "aee4f6dc",
   "metadata": {
    "papermill": {
     "duration": 0.007736,
     "end_time": "2022-12-11T10:38:39.392320",
     "exception": false,
     "start_time": "2022-12-11T10:38:39.384584",
     "status": "completed"
    },
    "tags": []
   },
   "source": []
  },
  {
   "cell_type": "code",
   "execution_count": null,
   "id": "4c333662",
   "metadata": {
    "papermill": {
     "duration": 0.009213,
     "end_time": "2022-12-11T10:38:39.409901",
     "exception": false,
     "start_time": "2022-12-11T10:38:39.400688",
     "status": "completed"
    },
    "tags": []
   },
   "outputs": [],
   "source": []
  }
 ],
 "metadata": {
  "kernelspec": {
   "display_name": "Python 3",
   "language": "python",
   "name": "python3"
  },
  "language_info": {
   "codemirror_mode": {
    "name": "ipython",
    "version": 3
   },
   "file_extension": ".py",
   "mimetype": "text/x-python",
   "name": "python",
   "nbconvert_exporter": "python",
   "pygments_lexer": "ipython3",
   "version": "3.7.12"
  },
  "papermill": {
   "default_parameters": {},
   "duration": 10.055761,
   "end_time": "2022-12-11T10:38:40.035703",
   "environment_variables": {},
   "exception": null,
   "input_path": "__notebook__.ipynb",
   "output_path": "__notebook__.ipynb",
   "parameters": {},
   "start_time": "2022-12-11T10:38:29.979942",
   "version": "2.3.4"
  }
 },
 "nbformat": 4,
 "nbformat_minor": 5
}
