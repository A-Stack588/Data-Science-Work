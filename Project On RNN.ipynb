{
 "cells": [
  {
   "cell_type": "markdown",
   "id": "b4327c9b",
   "metadata": {},
   "source": [
    "# IMPORT LIBRARIES"
   ]
  },
  {
   "cell_type": "code",
   "execution_count": 1,
   "id": "71d06698",
   "metadata": {
    "ExecuteTime": {
     "end_time": "2022-01-03T14:01:02.053642Z",
     "start_time": "2022-01-03T14:00:57.947398Z"
    }
   },
   "outputs": [],
   "source": [
    "import numpy \n",
    "import pandas \n",
    "import keras \n",
    "import tensorflow as tf \n",
    "import numpy as np\n",
    "import pandas as pd \n",
    "import seaborn as sns\n",
    "import matplotlib.pyplot as plt \n",
    "%matplotlib inline"
   ]
  },
  {
   "cell_type": "markdown",
   "id": "59802208",
   "metadata": {},
   "source": [
    "# LOAD DATASET"
   ]
  },
  {
   "cell_type": "code",
   "execution_count": 2,
   "id": "8a86aba7",
   "metadata": {
    "ExecuteTime": {
     "end_time": "2022-01-03T14:01:02.069255Z",
     "start_time": "2022-01-03T14:01:02.053642Z"
    }
   },
   "outputs": [],
   "source": [
    "df = pd.read_csv('Frozen_Dessert_Production.csv', index_col= 'DATE', parse_dates= True)"
   ]
  },
  {
   "cell_type": "code",
   "execution_count": 3,
   "id": "b1360f29",
   "metadata": {
    "ExecuteTime": {
     "end_time": "2022-01-03T14:01:02.226650Z",
     "start_time": "2022-01-03T14:01:02.072260Z"
    }
   },
   "outputs": [
    {
     "data": {
      "text/html": [
       "<div>\n",
       "<style scoped>\n",
       "    .dataframe tbody tr th:only-of-type {\n",
       "        vertical-align: middle;\n",
       "    }\n",
       "\n",
       "    .dataframe tbody tr th {\n",
       "        vertical-align: top;\n",
       "    }\n",
       "\n",
       "    .dataframe thead th {\n",
       "        text-align: right;\n",
       "    }\n",
       "</style>\n",
       "<table border=\"1\" class=\"dataframe\">\n",
       "  <thead>\n",
       "    <tr style=\"text-align: right;\">\n",
       "      <th></th>\n",
       "      <th>IPN31152N</th>\n",
       "    </tr>\n",
       "    <tr>\n",
       "      <th>DATE</th>\n",
       "      <th></th>\n",
       "    </tr>\n",
       "  </thead>\n",
       "  <tbody>\n",
       "    <tr>\n",
       "      <th>1972-01-01</th>\n",
       "      <td>59.9622</td>\n",
       "    </tr>\n",
       "    <tr>\n",
       "      <th>1972-02-01</th>\n",
       "      <td>67.0605</td>\n",
       "    </tr>\n",
       "    <tr>\n",
       "      <th>1972-03-01</th>\n",
       "      <td>74.2350</td>\n",
       "    </tr>\n",
       "    <tr>\n",
       "      <th>1972-04-01</th>\n",
       "      <td>78.1120</td>\n",
       "    </tr>\n",
       "    <tr>\n",
       "      <th>1972-05-01</th>\n",
       "      <td>84.7636</td>\n",
       "    </tr>\n",
       "  </tbody>\n",
       "</table>\n",
       "</div>"
      ],
      "text/plain": [
       "            IPN31152N\n",
       "DATE                 \n",
       "1972-01-01    59.9622\n",
       "1972-02-01    67.0605\n",
       "1972-03-01    74.2350\n",
       "1972-04-01    78.1120\n",
       "1972-05-01    84.7636"
      ]
     },
     "execution_count": 3,
     "metadata": {},
     "output_type": "execute_result"
    }
   ],
   "source": [
    "df.head()"
   ]
  },
  {
   "cell_type": "markdown",
   "id": "6e19252f",
   "metadata": {},
   "source": [
    "### NOTE:- CHANGE COLUMN TO PRODUCTION"
   ]
  },
  {
   "cell_type": "code",
   "execution_count": 4,
   "id": "ff16f66b",
   "metadata": {
    "ExecuteTime": {
     "end_time": "2022-01-03T14:01:02.336821Z",
     "start_time": "2022-01-03T14:01:02.228651Z"
    }
   },
   "outputs": [],
   "source": [
    "df.columns = ['Producion']"
   ]
  },
  {
   "cell_type": "code",
   "execution_count": 5,
   "id": "f16f4023",
   "metadata": {
    "ExecuteTime": {
     "end_time": "2022-01-03T14:01:02.495089Z",
     "start_time": "2022-01-03T14:01:02.339823Z"
    }
   },
   "outputs": [
    {
     "data": {
      "text/html": [
       "<div>\n",
       "<style scoped>\n",
       "    .dataframe tbody tr th:only-of-type {\n",
       "        vertical-align: middle;\n",
       "    }\n",
       "\n",
       "    .dataframe tbody tr th {\n",
       "        vertical-align: top;\n",
       "    }\n",
       "\n",
       "    .dataframe thead th {\n",
       "        text-align: right;\n",
       "    }\n",
       "</style>\n",
       "<table border=\"1\" class=\"dataframe\">\n",
       "  <thead>\n",
       "    <tr style=\"text-align: right;\">\n",
       "      <th></th>\n",
       "      <th>Producion</th>\n",
       "    </tr>\n",
       "    <tr>\n",
       "      <th>DATE</th>\n",
       "      <th></th>\n",
       "    </tr>\n",
       "  </thead>\n",
       "  <tbody>\n",
       "    <tr>\n",
       "      <th>1972-01-01</th>\n",
       "      <td>59.9622</td>\n",
       "    </tr>\n",
       "    <tr>\n",
       "      <th>1972-02-01</th>\n",
       "      <td>67.0605</td>\n",
       "    </tr>\n",
       "    <tr>\n",
       "      <th>1972-03-01</th>\n",
       "      <td>74.2350</td>\n",
       "    </tr>\n",
       "    <tr>\n",
       "      <th>1972-04-01</th>\n",
       "      <td>78.1120</td>\n",
       "    </tr>\n",
       "    <tr>\n",
       "      <th>1972-05-01</th>\n",
       "      <td>84.7636</td>\n",
       "    </tr>\n",
       "  </tbody>\n",
       "</table>\n",
       "</div>"
      ],
      "text/plain": [
       "            Producion\n",
       "DATE                 \n",
       "1972-01-01    59.9622\n",
       "1972-02-01    67.0605\n",
       "1972-03-01    74.2350\n",
       "1972-04-01    78.1120\n",
       "1972-05-01    84.7636"
      ]
     },
     "execution_count": 5,
     "metadata": {},
     "output_type": "execute_result"
    }
   ],
   "source": [
    "df.head()"
   ]
  },
  {
   "cell_type": "markdown",
   "id": "f45a2042",
   "metadata": {},
   "source": [
    "## VISUALIZATION"
   ]
  },
  {
   "cell_type": "code",
   "execution_count": 6,
   "id": "fac73493",
   "metadata": {
    "ExecuteTime": {
     "end_time": "2022-01-03T14:01:03.051870Z",
     "start_time": "2022-01-03T14:01:02.499089Z"
    }
   },
   "outputs": [
    {
     "data": {
      "text/plain": [
       "<AxesSubplot:xlabel='DATE'>"
      ]
     },
     "execution_count": 6,
     "metadata": {},
     "output_type": "execute_result"
    },
    {
     "data": {
      "image/png": "[encoded data removed]",
      "text/plain": [
       "<Figure size 864x432 with 1 Axes>"
      ]
     },
     "metadata": {
      "needs_background": "light"
     },
     "output_type": "display_data"
    }
   ],
   "source": [
    "df.plot(figsize= (12,6))"
   ]
  },
  {
   "cell_type": "markdown",
   "id": "abbc12d0",
   "metadata": {},
   "source": [
    "# TRAIN TEST SPLIT "
   ]
  },
  {
   "cell_type": "code",
   "execution_count": 7,
   "id": "7577dcb0",
   "metadata": {
    "ExecuteTime": {
     "end_time": "2022-01-03T14:01:03.061882Z",
     "start_time": "2022-01-03T14:01:03.055877Z"
    }
   },
   "outputs": [
    {
     "data": {
      "text/plain": [
       "573"
      ]
     },
     "execution_count": 7,
     "metadata": {},
     "output_type": "execute_result"
    }
   ],
   "source": [
    "len(df)"
   ]
  },
  {
   "cell_type": "code",
   "execution_count": 8,
   "id": "41942abf",
   "metadata": {
    "ExecuteTime": {
     "end_time": "2022-01-03T14:01:03.216525Z",
     "start_time": "2022-01-03T14:01:03.064884Z"
    }
   },
   "outputs": [],
   "source": [
    "test_size = 24 \n",
    "test_ind = len(df) - test_size"
   ]
  },
  {
   "cell_type": "code",
   "execution_count": 9,
   "id": "9807a20f",
   "metadata": {
    "ExecuteTime": {
     "end_time": "2022-01-03T14:01:03.363580Z",
     "start_time": "2022-01-03T14:01:03.221529Z"
    }
   },
   "outputs": [],
   "source": [
    "train = df.iloc[:test_ind]\n",
    "test = df.iloc[test_ind:]"
   ]
  },
  {
   "cell_type": "code",
   "execution_count": 10,
   "id": "775ce82c",
   "metadata": {
    "ExecuteTime": {
     "end_time": "2022-01-03T14:01:33.003716Z",
     "start_time": "2022-01-03T14:01:32.985102Z"
    }
   },
   "outputs": [
    {
     "data": {
      "text/plain": [
       "24"
      ]
     },
     "execution_count": 10,
     "metadata": {},
     "output_type": "execute_result"
    }
   ],
   "source": [
    "len(test)"
   ]
  },
  {
   "cell_type": "markdown",
   "id": "b7f6157f",
   "metadata": {},
   "source": [
    "## SCALING"
   ]
  },
  {
   "cell_type": "code",
   "execution_count": 11,
   "id": "a169f29e",
   "metadata": {
    "ExecuteTime": {
     "end_time": "2022-01-03T14:03:07.134655Z",
     "start_time": "2022-01-03T14:03:07.119025Z"
    }
   },
   "outputs": [],
   "source": [
    "from sklearn.preprocessing import MinMaxScaler"
   ]
  },
  {
   "cell_type": "code",
   "execution_count": 12,
   "id": "f0c804c0",
   "metadata": {
    "ExecuteTime": {
     "end_time": "2022-01-03T14:03:25.939353Z",
     "start_time": "2022-01-03T14:03:25.923723Z"
    }
   },
   "outputs": [],
   "source": [
    "scaler = MinMaxScaler()"
   ]
  },
  {
   "cell_type": "code",
   "execution_count": 13,
   "id": "a7f2506c",
   "metadata": {
    "ExecuteTime": {
     "end_time": "2022-01-03T14:03:52.978335Z",
     "start_time": "2022-01-03T14:03:52.771229Z"
    }
   },
   "outputs": [
    {
     "data": {
      "text/plain": [
       "MinMaxScaler()"
      ]
     },
     "execution_count": 13,
     "metadata": {},
     "output_type": "execute_result"
    }
   ],
   "source": [
    "# IGNORE WARNING ITS JUST CONVERTING TO FLOATS\n",
    "# WE ONLY FIT TO TRAININ DATA, OTHERWISE WE ARE CHEATING ASSUMING INFO ABOUT TEST SET\n",
    "scaler.fit(train)"
   ]
  },
  {
   "cell_type": "code",
   "execution_count": 14,
   "id": "907a6d50",
   "metadata": {
    "ExecuteTime": {
     "end_time": "2022-01-03T14:05:44.834542Z",
     "start_time": "2022-01-03T14:05:44.824535Z"
    }
   },
   "outputs": [],
   "source": [
    "scaled_train = scaler.transform(train)\n",
    "scaled_test = scaler.transform(test)"
   ]
  },
  {
   "cell_type": "markdown",
   "id": "dcc56550",
   "metadata": {},
   "source": [
    "## TIME SERIES GENERATOR"
   ]
  },
  {
   "cell_type": "code",
   "execution_count": 15,
   "id": "cf3b760a",
   "metadata": {
    "ExecuteTime": {
     "end_time": "2022-01-03T14:07:48.716773Z",
     "start_time": "2022-01-03T14:07:48.699140Z"
    }
   },
   "outputs": [],
   "source": [
    "from tensorflow.keras.preprocessing.sequence import TimeseriesGenerator"
   ]
  },
  {
   "cell_type": "code",
   "execution_count": 16,
   "id": "ba185cd5",
   "metadata": {
    "ExecuteTime": {
     "end_time": "2022-01-03T14:08:20.710172Z",
     "start_time": "2022-01-03T14:08:20.706171Z"
    }
   },
   "outputs": [],
   "source": [
    "length = 18\n",
    "n_features=1\n",
    "generator = TimeseriesGenerator(scaled_train, scaled_train, length=length, batch_size=1)"
   ]
  },
  {
   "cell_type": "markdown",
   "id": "703be16d",
   "metadata": {},
   "source": [
    "# BUILDING MODEL"
   ]
  },
  {
   "cell_type": "code",
   "execution_count": 17,
   "id": "b1b8677b",
   "metadata": {
    "ExecuteTime": {
     "end_time": "2022-01-03T14:10:37.489034Z",
     "start_time": "2022-01-03T14:10:37.485031Z"
    }
   },
   "outputs": [],
   "source": [
    "from tensorflow.keras.models import Sequential\n",
    "from tensorflow.keras.layers import Dense, LSTM"
   ]
  },
  {
   "cell_type": "code",
   "execution_count": 18,
   "id": "9041d556",
   "metadata": {
    "ExecuteTime": {
     "end_time": "2022-01-03T14:11:33.055092Z",
     "start_time": "2022-01-03T14:11:31.323252Z"
    }
   },
   "outputs": [],
   "source": [
    "# define model\n",
    "model = Sequential()\n",
    "model.add(LSTM(100, activation='relu', input_shape=(length, n_features)))\n",
    "model.add(Dense(1))\n",
    "model.compile(optimizer='adam', loss='mse')"
   ]
  },
  {
   "cell_type": "code",
   "execution_count": 19,
   "id": "4e84c9f2",
   "metadata": {
    "ExecuteTime": {
     "end_time": "2022-01-03T14:11:47.161426Z",
     "start_time": "2022-01-03T14:11:47.132803Z"
    }
   },
   "outputs": [
    {
     "name": "stdout",
     "output_type": "stream",
     "text": [
      "Model: \"sequential\"\n",
      "_________________________________________________________________\n",
      "Layer (type)                 Output Shape              Param #   \n",
      "=================================================================\n",
      "lstm (LSTM)                  (None, 100)               40800     \n",
      "_________________________________________________________________\n",
      "dense (Dense)                (None, 1)                 101       \n",
      "=================================================================\n",
      "Total params: 40,901\n",
      "Trainable params: 40,901\n",
      "Non-trainable params: 0\n",
      "_________________________________________________________________\n"
     ]
    }
   ],
   "source": [
    "model.summary()"
   ]
  },
  {
   "cell_type": "markdown",
   "id": "c55fd607",
   "metadata": {},
   "source": [
    "## CREATE GENERATOR FOR SCALED TEST/VALIDATION SET"
   ]
  },
  {
   "cell_type": "code",
   "execution_count": 20,
   "id": "a29469cd",
   "metadata": {
    "ExecuteTime": {
     "end_time": "2022-01-03T14:16:28.869128Z",
     "start_time": "2022-01-03T14:16:28.865126Z"
    }
   },
   "outputs": [],
   "source": [
    "validation_generator = TimeseriesGenerator(scaled_test,scaled_test, length= length, batch_size= 1)"
   ]
  },
  {
   "cell_type": "markdown",
   "id": "1fb4365d",
   "metadata": {},
   "source": [
    "## CREATE EARLYSTOPPING"
   ]
  },
  {
   "cell_type": "code",
   "execution_count": 21,
   "id": "698dc29c",
   "metadata": {
    "ExecuteTime": {
     "end_time": "2022-01-03T14:18:43.384750Z",
     "start_time": "2022-01-03T14:18:43.364113Z"
    }
   },
   "outputs": [],
   "source": [
    "from tensorflow.keras.callbacks import EarlyStopping"
   ]
  },
  {
   "cell_type": "code",
   "execution_count": 22,
   "id": "9862d2c0",
   "metadata": {
    "ExecuteTime": {
     "end_time": "2022-01-03T14:20:03.072314Z",
     "start_time": "2022-01-03T14:20:03.056707Z"
    }
   },
   "outputs": [],
   "source": [
    "early_stop = EarlyStopping(monitor='val_loss', patience= 2)"
   ]
  },
  {
   "cell_type": "markdown",
   "id": "b8affce9",
   "metadata": {},
   "source": [
    "## TRAINING MODEL TO GENERATOR"
   ]
  },
  {
   "cell_type": "code",
   "execution_count": 23,
   "id": "f621507d",
   "metadata": {
    "ExecuteTime": {
     "end_time": "2022-01-03T14:21:55.677785Z",
     "start_time": "2022-01-03T14:21:27.390294Z"
    }
   },
   "outputs": [
    {
     "name": "stderr",
     "output_type": "stream",
     "text": [
      "C:\\Users\\sony\\anaconda3\\lib\\site-packages\\tensorflow\\python\\keras\\engine\\training.py:1940: UserWarning: `Model.fit_generator` is deprecated and will be removed in a future version. Please use `Model.fit`, which supports generators.\n",
      "  warnings.warn('`Model.fit_generator` is deprecated and '\n"
     ]
    },
    {
     "name": "stdout",
     "output_type": "stream",
     "text": [
      "Epoch 1/20\n",
      "531/531 [==============================] - 6s 7ms/step - loss: 0.0295 - val_loss: 0.0102\n",
      "Epoch 2/20\n",
      "531/531 [==============================] - 3s 6ms/step - loss: 0.0124 - val_loss: 0.0032\n",
      "Epoch 3/20\n",
      "531/531 [==============================] - 4s 7ms/step - loss: 0.0049 - val_loss: 0.0017\n",
      "Epoch 4/20\n",
      "531/531 [==============================] - 3s 6ms/step - loss: 0.0036 - val_loss: 0.0044\n",
      "Epoch 5/20\n",
      "531/531 [==============================] - 3s 6ms/step - loss: 0.0034 - val_loss: 0.0017\n",
      "Epoch 6/20\n",
      "531/531 [==============================] - 3s 6ms/step - loss: 0.0031 - val_loss: 0.0023\n",
      "Epoch 7/20\n",
      "531/531 [==============================] - 3s 6ms/step - loss: 0.0030 - val_loss: 0.0047\n"
     ]
    },
    {
     "data": {
      "text/plain": [
       "<tensorflow.python.keras.callbacks.History at 0xdd7e061580>"
      ]
     },
     "execution_count": 23,
     "metadata": {},
     "output_type": "execute_result"
    }
   ],
   "source": [
    "model.fit_generator(generator,epochs=20,\n",
    "                    validation_data=validation_generator,\n",
    "                   callbacks=[early_stop])"
   ]
  },
  {
   "cell_type": "code",
   "execution_count": 24,
   "id": "b162c644",
   "metadata": {
    "ExecuteTime": {
     "end_time": "2022-01-03T14:23:20.327008Z",
     "start_time": "2022-01-03T14:23:20.311377Z"
    }
   },
   "outputs": [],
   "source": [
    "loss = pd.DataFrame(model.history.history)"
   ]
  },
  {
   "cell_type": "code",
   "execution_count": 25,
   "id": "6931ab36",
   "metadata": {
    "ExecuteTime": {
     "end_time": "2022-01-03T14:23:23.777962Z",
     "start_time": "2022-01-03T14:23:23.751320Z"
    }
   },
   "outputs": [
    {
     "data": {
      "text/html": [
       "<div>\n",
       "<style scoped>\n",
       "    .dataframe tbody tr th:only-of-type {\n",
       "        vertical-align: middle;\n",
       "    }\n",
       "\n",
       "    .dataframe tbody tr th {\n",
       "        vertical-align: top;\n",
       "    }\n",
       "\n",
       "    .dataframe thead th {\n",
       "        text-align: right;\n",
       "    }\n",
       "</style>\n",
       "<table border=\"1\" class=\"dataframe\">\n",
       "  <thead>\n",
       "    <tr style=\"text-align: right;\">\n",
       "      <th></th>\n",
       "      <th>loss</th>\n",
       "      <th>val_loss</th>\n",
       "    </tr>\n",
       "  </thead>\n",
       "  <tbody>\n",
       "    <tr>\n",
       "      <th>0</th>\n",
       "      <td>0.029509</td>\n",
       "      <td>0.010209</td>\n",
       "    </tr>\n",
       "    <tr>\n",
       "      <th>1</th>\n",
       "      <td>0.012364</td>\n",
       "      <td>0.003219</td>\n",
       "    </tr>\n",
       "    <tr>\n",
       "      <th>2</th>\n",
       "      <td>0.004932</td>\n",
       "      <td>0.001721</td>\n",
       "    </tr>\n",
       "    <tr>\n",
       "      <th>3</th>\n",
       "      <td>0.003594</td>\n",
       "      <td>0.004368</td>\n",
       "    </tr>\n",
       "    <tr>\n",
       "      <th>4</th>\n",
       "      <td>0.003381</td>\n",
       "      <td>0.001710</td>\n",
       "    </tr>\n",
       "    <tr>\n",
       "      <th>5</th>\n",
       "      <td>0.003121</td>\n",
       "      <td>0.002261</td>\n",
       "    </tr>\n",
       "    <tr>\n",
       "      <th>6</th>\n",
       "      <td>0.002951</td>\n",
       "      <td>0.004748</td>\n",
       "    </tr>\n",
       "  </tbody>\n",
       "</table>\n",
       "</div>"
      ],
      "text/plain": [
       "       loss  val_loss\n",
       "0  0.029509  0.010209\n",
       "1  0.012364  0.003219\n",
       "2  0.004932  0.001721\n",
       "3  0.003594  0.004368\n",
       "4  0.003381  0.001710\n",
       "5  0.003121  0.002261\n",
       "6  0.002951  0.004748"
      ]
     },
     "execution_count": 25,
     "metadata": {},
     "output_type": "execute_result"
    }
   ],
   "source": [
    "loss"
   ]
  },
  {
   "cell_type": "markdown",
   "id": "39c6ad8b",
   "metadata": {},
   "source": [
    "## VISUALIZATION"
   ]
  },
  {
   "cell_type": "code",
   "execution_count": 26,
   "id": "12fda849",
   "metadata": {
    "ExecuteTime": {
     "end_time": "2022-01-03T14:24:50.069969Z",
     "start_time": "2022-01-03T14:24:49.801485Z"
    }
   },
   "outputs": [
    {
     "data": {
      "text/plain": [
       "<AxesSubplot:>"
      ]
     },
     "execution_count": 26,
     "metadata": {},
     "output_type": "execute_result"
    },
    {
     "data": {
      "image/png": "[encoded data removed]",
      "text/plain": [
       "<Figure size 432x288 with 1 Axes>"
      ]
     },
     "metadata": {
      "needs_background": "light"
     },
     "output_type": "display_data"
    }
   ],
   "source": [
    "loss.plot()"
   ]
  },
  {
   "cell_type": "markdown",
   "id": "9d3e82cf",
   "metadata": {},
   "source": [
    "## EVALUATE ON TEST DATA"
   ]
  },
  {
   "cell_type": "code",
   "execution_count": 27,
   "id": "e2fdb6a6",
   "metadata": {
    "ExecuteTime": {
     "end_time": "2022-01-03T14:26:56.444633Z",
     "start_time": "2022-01-03T14:26:54.955220Z"
    }
   },
   "outputs": [],
   "source": [
    "test_predictions = []\n",
    "\n",
    "first_eval_batch = scaled_train[-length:]\n",
    "current_batch = first_eval_batch.reshape((1, length, n_features))\n",
    "\n",
    "for i in range(len(test)):\n",
    "    \n",
    "    # get prediction 1 time stamp ahead ([0] is for grabbing just the number instead of [array])\n",
    "    current_pred = model.predict(current_batch)[0]\n",
    "    \n",
    "    # store prediction\n",
    "    test_predictions.append(current_pred) \n",
    "    \n",
    "    # update batch to now include prediction and drop first value\n",
    "    current_batch = np.append(current_batch[:,1:,:],[[current_pred]],axis=1)"
   ]
  },
  {
   "cell_type": "code",
   "execution_count": 28,
   "id": "b3269f9e",
   "metadata": {
    "ExecuteTime": {
     "end_time": "2022-01-03T14:27:44.104579Z",
     "start_time": "2022-01-03T14:27:44.088948Z"
    }
   },
   "outputs": [],
   "source": [
    "true_predictions = scaler.inverse_transform(test_predictions)"
   ]
  },
  {
   "cell_type": "code",
   "execution_count": 29,
   "id": "415f7227",
   "metadata": {
    "ExecuteTime": {
     "end_time": "2022-01-03T14:28:04.515632Z",
     "start_time": "2022-01-03T14:28:04.445915Z"
    }
   },
   "outputs": [
    {
     "name": "stderr",
     "output_type": "stream",
     "text": [
      "<ipython-input-29-920b79c3c314>:1: SettingWithCopyWarning: \n",
      "A value is trying to be set on a copy of a slice from a DataFrame.\n",
      "Try using .loc[row_indexer,col_indexer] = value instead\n",
      "\n",
      "See the caveats in the documentation: https://pandas.pydata.org/pandas-docs/stable/user_guide/indexing.html#returning-a-view-versus-a-copy\n",
      "  test['Predictions'] = true_predictions\n"
     ]
    }
   ],
   "source": [
    "test['Predictions'] = true_predictions"
   ]
  },
  {
   "cell_type": "code",
   "execution_count": 30,
   "id": "bc1b8d16",
   "metadata": {
    "ExecuteTime": {
     "end_time": "2022-01-03T14:28:30.333131Z",
     "start_time": "2022-01-03T14:28:30.301507Z"
    }
   },
   "outputs": [
    {
     "data": {
      "text/html": [
       "<div>\n",
       "<style scoped>\n",
       "    .dataframe tbody tr th:only-of-type {\n",
       "        vertical-align: middle;\n",
       "    }\n",
       "\n",
       "    .dataframe tbody tr th {\n",
       "        vertical-align: top;\n",
       "    }\n",
       "\n",
       "    .dataframe thead th {\n",
       "        text-align: right;\n",
       "    }\n",
       "</style>\n",
       "<table border=\"1\" class=\"dataframe\">\n",
       "  <thead>\n",
       "    <tr style=\"text-align: right;\">\n",
       "      <th></th>\n",
       "      <th>Producion</th>\n",
       "      <th>Predictions</th>\n",
       "    </tr>\n",
       "    <tr>\n",
       "      <th>DATE</th>\n",
       "      <th></th>\n",
       "      <th></th>\n",
       "    </tr>\n",
       "  </thead>\n",
       "  <tbody>\n",
       "    <tr>\n",
       "      <th>2017-10-01</th>\n",
       "      <td>90.4732</td>\n",
       "      <td>90.777790</td>\n",
       "    </tr>\n",
       "    <tr>\n",
       "      <th>2017-11-01</th>\n",
       "      <td>77.4378</td>\n",
       "      <td>86.628857</td>\n",
       "    </tr>\n",
       "    <tr>\n",
       "      <th>2017-12-01</th>\n",
       "      <td>75.8118</td>\n",
       "      <td>92.760068</td>\n",
       "    </tr>\n",
       "    <tr>\n",
       "      <th>2018-01-01</th>\n",
       "      <td>83.4343</td>\n",
       "      <td>108.475874</td>\n",
       "    </tr>\n",
       "    <tr>\n",
       "      <th>2018-02-01</th>\n",
       "      <td>99.4899</td>\n",
       "      <td>122.619145</td>\n",
       "    </tr>\n",
       "    <tr>\n",
       "      <th>2018-03-01</th>\n",
       "      <td>107.3152</td>\n",
       "      <td>134.003726</td>\n",
       "    </tr>\n",
       "    <tr>\n",
       "      <th>2018-04-01</th>\n",
       "      <td>112.4309</td>\n",
       "      <td>140.896980</td>\n",
       "    </tr>\n",
       "    <tr>\n",
       "      <th>2018-05-01</th>\n",
       "      <td>110.3544</td>\n",
       "      <td>142.236135</td>\n",
       "    </tr>\n",
       "    <tr>\n",
       "      <th>2018-06-01</th>\n",
       "      <td>124.5841</td>\n",
       "      <td>137.516625</td>\n",
       "    </tr>\n",
       "    <tr>\n",
       "      <th>2018-07-01</th>\n",
       "      <td>117.2215</td>\n",
       "      <td>127.562860</td>\n",
       "    </tr>\n",
       "    <tr>\n",
       "      <th>2018-08-01</th>\n",
       "      <td>112.6779</td>\n",
       "      <td>114.338119</td>\n",
       "    </tr>\n",
       "    <tr>\n",
       "      <th>2018-09-01</th>\n",
       "      <td>103.3118</td>\n",
       "      <td>100.592319</td>\n",
       "    </tr>\n",
       "    <tr>\n",
       "      <th>2018-10-01</th>\n",
       "      <td>92.1321</td>\n",
       "      <td>92.030355</td>\n",
       "    </tr>\n",
       "    <tr>\n",
       "      <th>2018-11-01</th>\n",
       "      <td>82.4347</td>\n",
       "      <td>99.564036</td>\n",
       "    </tr>\n",
       "    <tr>\n",
       "      <th>2018-12-01</th>\n",
       "      <td>76.7608</td>\n",
       "      <td>118.047803</td>\n",
       "    </tr>\n",
       "    <tr>\n",
       "      <th>2019-01-01</th>\n",
       "      <td>86.9988</td>\n",
       "      <td>135.780622</td>\n",
       "    </tr>\n",
       "    <tr>\n",
       "      <th>2019-02-01</th>\n",
       "      <td>98.1116</td>\n",
       "      <td>150.459167</td>\n",
       "    </tr>\n",
       "    <tr>\n",
       "      <th>2019-03-01</th>\n",
       "      <td>116.1718</td>\n",
       "      <td>160.748700</td>\n",
       "    </tr>\n",
       "    <tr>\n",
       "      <th>2019-04-01</th>\n",
       "      <td>114.9703</td>\n",
       "      <td>165.173538</td>\n",
       "    </tr>\n",
       "    <tr>\n",
       "      <th>2019-05-01</th>\n",
       "      <td>114.5613</td>\n",
       "      <td>161.737858</td>\n",
       "    </tr>\n",
       "    <tr>\n",
       "      <th>2019-06-01</th>\n",
       "      <td>124.9605</td>\n",
       "      <td>151.446390</td>\n",
       "    </tr>\n",
       "    <tr>\n",
       "      <th>2019-07-01</th>\n",
       "      <td>110.2632</td>\n",
       "      <td>136.880293</td>\n",
       "    </tr>\n",
       "    <tr>\n",
       "      <th>2019-08-01</th>\n",
       "      <td>102.6085</td>\n",
       "      <td>119.746672</td>\n",
       "    </tr>\n",
       "    <tr>\n",
       "      <th>2019-09-01</th>\n",
       "      <td>101.5866</td>\n",
       "      <td>105.781413</td>\n",
       "    </tr>\n",
       "  </tbody>\n",
       "</table>\n",
       "</div>"
      ],
      "text/plain": [
       "            Producion  Predictions\n",
       "DATE                              \n",
       "2017-10-01    90.4732    90.777790\n",
       "2017-11-01    77.4378    86.628857\n",
       "2017-12-01    75.8118    92.760068\n",
       "2018-01-01    83.4343   108.475874\n",
       "2018-02-01    99.4899   122.619145\n",
       "2018-03-01   107.3152   134.003726\n",
       "2018-04-01   112.4309   140.896980\n",
       "2018-05-01   110.3544   142.236135\n",
       "2018-06-01   124.5841   137.516625\n",
       "2018-07-01   117.2215   127.562860\n",
       "2018-08-01   112.6779   114.338119\n",
       "2018-09-01   103.3118   100.592319\n",
       "2018-10-01    92.1321    92.030355\n",
       "2018-11-01    82.4347    99.564036\n",
       "2018-12-01    76.7608   118.047803\n",
       "2019-01-01    86.9988   135.780622\n",
       "2019-02-01    98.1116   150.459167\n",
       "2019-03-01   116.1718   160.748700\n",
       "2019-04-01   114.9703   165.173538\n",
       "2019-05-01   114.5613   161.737858\n",
       "2019-06-01   124.9605   151.446390\n",
       "2019-07-01   110.2632   136.880293\n",
       "2019-08-01   102.6085   119.746672\n",
       "2019-09-01   101.5866   105.781413"
      ]
     },
     "execution_count": 30,
     "metadata": {},
     "output_type": "execute_result"
    }
   ],
   "source": [
    "test "
   ]
  },
  {
   "cell_type": "markdown",
   "id": "4f157f36",
   "metadata": {},
   "source": [
    "## VISUALIZATION"
   ]
  },
  {
   "cell_type": "code",
   "execution_count": 31,
   "id": "49774c4e",
   "metadata": {
    "ExecuteTime": {
     "end_time": "2022-01-03T14:30:37.092203Z",
     "start_time": "2022-01-03T14:30:36.766832Z"
    }
   },
   "outputs": [
    {
     "data": {
      "text/plain": [
       "<AxesSubplot:xlabel='DATE'>"
      ]
     },
     "execution_count": 31,
     "metadata": {},
     "output_type": "execute_result"
    },
    {
     "data": {
      "image/png": "[encoded data removed]",
      "text/plain": [
       "<Figure size 432x288 with 1 Axes>"
      ]
     },
     "metadata": {
      "needs_background": "light"
     },
     "output_type": "display_data"
    }
   ],
   "source": [
    "test.plot()"
   ]
  },
  {
   "cell_type": "markdown",
   "id": "fc1a3806",
   "metadata": {},
   "source": [
    "## EVALUATION"
   ]
  },
  {
   "cell_type": "code",
   "execution_count": 32,
   "id": "02ce927c",
   "metadata": {
    "ExecuteTime": {
     "end_time": "2022-01-03T14:33:23.970917Z",
     "start_time": "2022-01-03T14:33:23.955291Z"
    }
   },
   "outputs": [],
   "source": [
    "from sklearn.metrics import mean_squared_error "
   ]
  },
  {
   "cell_type": "code",
   "execution_count": 33,
   "id": "af157210",
   "metadata": {
    "ExecuteTime": {
     "end_time": "2022-01-03T14:35:01.700082Z",
     "start_time": "2022-01-03T14:35:01.684473Z"
    }
   },
   "outputs": [
    {
     "data": {
      "text/plain": [
       "28.816657225823334"
      ]
     },
     "execution_count": 33,
     "metadata": {},
     "output_type": "execute_result"
    }
   ],
   "source": [
    "np.sqrt(mean_squared_error(test['Producion'],test['Predictions']))"
   ]
  },
  {
   "cell_type": "markdown",
   "id": "7548c5f3",
   "metadata": {},
   "source": [
    "# GREAT JOB!"
   ]
  },
  {
   "cell_type": "code",
   "execution_count": null,
   "id": "3f8252f9",
   "metadata": {},
   "outputs": [],
   "source": []
  }
 ],
 "metadata": {
  "kernelspec": {
   "display_name": "Python 3",
   "language": "python",
   "name": "python3"
  },
  "language_info": {
   "codemirror_mode": {
    "name": "ipython",
    "version": 3
   },
   "file_extension": ".py",
   "mimetype": "text/x-python",
   "name": "python",
   "nbconvert_exporter": "python",
   "pygments_lexer": "ipython3",
   "version": "3.8.8"
  }
 },
 "nbformat": 4,
 "nbformat_minor": 5
}
